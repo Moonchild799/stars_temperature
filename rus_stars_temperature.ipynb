{
 "cells": [
  {
   "cell_type": "markdown",
   "id": "33446503",
   "metadata": {},
   "source": [
    "# Прогнозирование температуры звезды"
   ]
  },
  {
   "cell_type": "markdown",
   "id": "69789cd5",
   "metadata": {},
   "source": [
    "# Содержание\n",
    "\n",
    "- [Введенние](#intro)\n",
    "- [Загрузка данных](#data)\n",
    "- [Предобработка и анализ данных](#pre_analysis)\n",
    "  - [Предобработка](#preprocessing)\n",
    "  - [Анализ](#analysis)\n",
    "  - [Добавление данных](#new_data)\n",
    "  - [Выводы по предобработке и анализу](#pre_analysis_conclusion)\n",
    "- [Построение базовой нейронной сети](#baseline_nn)\n",
    "  - [Выводы по базовой сети](#nn_conclusion)\n",
    "- [Улучшение нейронной сети](#imp_nn)\n",
    "- [Выводы](#conclusion)"
   ]
  },
  {
   "cell_type": "markdown",
   "id": "9a393f1b",
   "metadata": {},
   "source": [
    "<a id='intro'></a>\n",
    "## Введение\n",
    "\n",
    "Нам пришла задача от обсерватории «Небо на ладони»: придумать, как с помощью нейросети определять температуру на поверхности обнаруженных звёзд. Обычно для расчёта температуры учёные пользуются следующими методами:\n",
    "- Закон смещения Вина.\n",
    "- Закон Стефана-Больцмана.\n",
    "- Спектральный анализ.\n",
    "\n",
    "Каждый из них имеет плюсы и минусы. Обсерватория хочет внедрить технологии машинного обучения для предсказания температуры звёзд, надеясь, что этот метод будет наиболее точным и удобным.\n",
    "\n",
    "В базе обсерватории есть характеристики уже изученных 240 звёзд. Используя их надо создать нейросеть которая сможет определять температуру на поверхности звёзд. Изучим данные, при необходимости сделаем предобработку. Подготовим данные для модели. В качестве метрики качества используем RMSE."
   ]
  },
  {
   "cell_type": "markdown",
   "id": "corresponding-armstrong",
   "metadata": {
    "ExecuteTime": {
     "end_time": "2022-05-05T04:58:05.692448Z",
     "start_time": "2022-05-05T04:58:05.688565Z"
    }
   },
   "source": [
    "<a id='data'></a>\n",
    "## Загрузка данных"
   ]
  },
  {
   "cell_type": "markdown",
   "id": "729dfcbd",
   "metadata": {},
   "source": [
    "**Импортируем необходимые библиотеки**"
   ]
  },
  {
   "cell_type": "code",
   "execution_count": 1,
   "id": "spectacular-folder",
   "metadata": {},
   "outputs": [],
   "source": [
    "import random\n",
    "import pandas as pd\n",
    "import numpy as np\n",
    "import matplotlib.pyplot as plt\n",
    "import torch\n",
    "import torch.nn as nn\n",
    "import torch.optim as optim\n",
    "import itertools\n",
    "import warnings\n",
    "\n",
    "from sklearn.model_selection import train_test_split, GridSearchCV\n",
    "from sklearn.preprocessing import StandardScaler, MinMaxScaler, OneHotEncoder\n",
    "from sklearn.metrics import mean_squared_error"
   ]
  },
  {
   "cell_type": "markdown",
   "id": "fc6fd40f",
   "metadata": {},
   "source": [
    "**Читаем файл с предоставленными данными**"
   ]
  },
  {
   "cell_type": "code",
   "execution_count": 2,
   "id": "1ddd90f5",
   "metadata": {},
   "outputs": [],
   "source": [
    "data = pd.read_csv('6_class.csv')"
   ]
  },
  {
   "cell_type": "markdown",
   "id": "4733fe47",
   "metadata": {},
   "source": [
    "**Основная информация о датафрейме**\n",
    "\n",
    "Посмотрим на данные."
   ]
  },
  {
   "cell_type": "code",
   "execution_count": 3,
   "id": "36e4f894",
   "metadata": {},
   "outputs": [
    {
     "name": "stdout",
     "output_type": "stream",
     "text": [
      "<class 'pandas.core.frame.DataFrame'>\n",
      "RangeIndex: 240 entries, 0 to 239\n",
      "Data columns (total 7 columns):\n",
      " #   Column                  Non-Null Count  Dtype  \n",
      "---  ------                  --------------  -----  \n",
      " 0   Unnamed: 0              240 non-null    int64  \n",
      " 1   Temperature (K)         240 non-null    int64  \n",
      " 2   Luminosity(L/Lo)        240 non-null    float64\n",
      " 3   Radius(R/Ro)            240 non-null    float64\n",
      " 4   Absolute magnitude(Mv)  240 non-null    float64\n",
      " 5   Star type               240 non-null    int64  \n",
      " 6   Star color              240 non-null    object \n",
      "dtypes: float64(3), int64(3), object(1)\n",
      "memory usage: 13.2+ KB\n"
     ]
    }
   ],
   "source": [
    "data.info()"
   ]
  },
  {
   "cell_type": "code",
   "execution_count": 4,
   "id": "e83eabdf",
   "metadata": {},
   "outputs": [
    {
     "data": {
      "text/html": [
       "<div>\n",
       "<style scoped>\n",
       "    .dataframe tbody tr th:only-of-type {\n",
       "        vertical-align: middle;\n",
       "    }\n",
       "\n",
       "    .dataframe tbody tr th {\n",
       "        vertical-align: top;\n",
       "    }\n",
       "\n",
       "    .dataframe thead th {\n",
       "        text-align: right;\n",
       "    }\n",
       "</style>\n",
       "<table border=\"1\" class=\"dataframe\">\n",
       "  <thead>\n",
       "    <tr style=\"text-align: right;\">\n",
       "      <th></th>\n",
       "      <th>Unnamed: 0</th>\n",
       "      <th>Temperature (K)</th>\n",
       "      <th>Luminosity(L/Lo)</th>\n",
       "      <th>Radius(R/Ro)</th>\n",
       "      <th>Absolute magnitude(Mv)</th>\n",
       "      <th>Star type</th>\n",
       "      <th>Star color</th>\n",
       "    </tr>\n",
       "  </thead>\n",
       "  <tbody>\n",
       "    <tr>\n",
       "      <th>0</th>\n",
       "      <td>0</td>\n",
       "      <td>3068</td>\n",
       "      <td>0.002400</td>\n",
       "      <td>0.1700</td>\n",
       "      <td>16.12</td>\n",
       "      <td>0</td>\n",
       "      <td>Red</td>\n",
       "    </tr>\n",
       "    <tr>\n",
       "      <th>1</th>\n",
       "      <td>1</td>\n",
       "      <td>3042</td>\n",
       "      <td>0.000500</td>\n",
       "      <td>0.1542</td>\n",
       "      <td>16.60</td>\n",
       "      <td>0</td>\n",
       "      <td>Red</td>\n",
       "    </tr>\n",
       "    <tr>\n",
       "      <th>2</th>\n",
       "      <td>2</td>\n",
       "      <td>2600</td>\n",
       "      <td>0.000300</td>\n",
       "      <td>0.1020</td>\n",
       "      <td>18.70</td>\n",
       "      <td>0</td>\n",
       "      <td>Red</td>\n",
       "    </tr>\n",
       "    <tr>\n",
       "      <th>3</th>\n",
       "      <td>3</td>\n",
       "      <td>2800</td>\n",
       "      <td>0.000200</td>\n",
       "      <td>0.1600</td>\n",
       "      <td>16.65</td>\n",
       "      <td>0</td>\n",
       "      <td>Red</td>\n",
       "    </tr>\n",
       "    <tr>\n",
       "      <th>4</th>\n",
       "      <td>4</td>\n",
       "      <td>1939</td>\n",
       "      <td>0.000138</td>\n",
       "      <td>0.1030</td>\n",
       "      <td>20.06</td>\n",
       "      <td>0</td>\n",
       "      <td>Red</td>\n",
       "    </tr>\n",
       "    <tr>\n",
       "      <th>5</th>\n",
       "      <td>5</td>\n",
       "      <td>2840</td>\n",
       "      <td>0.000650</td>\n",
       "      <td>0.1100</td>\n",
       "      <td>16.98</td>\n",
       "      <td>0</td>\n",
       "      <td>Red</td>\n",
       "    </tr>\n",
       "    <tr>\n",
       "      <th>6</th>\n",
       "      <td>6</td>\n",
       "      <td>2637</td>\n",
       "      <td>0.000730</td>\n",
       "      <td>0.1270</td>\n",
       "      <td>17.22</td>\n",
       "      <td>0</td>\n",
       "      <td>Red</td>\n",
       "    </tr>\n",
       "    <tr>\n",
       "      <th>7</th>\n",
       "      <td>7</td>\n",
       "      <td>2600</td>\n",
       "      <td>0.000400</td>\n",
       "      <td>0.0960</td>\n",
       "      <td>17.40</td>\n",
       "      <td>0</td>\n",
       "      <td>Red</td>\n",
       "    </tr>\n",
       "    <tr>\n",
       "      <th>8</th>\n",
       "      <td>8</td>\n",
       "      <td>2650</td>\n",
       "      <td>0.000690</td>\n",
       "      <td>0.1100</td>\n",
       "      <td>17.45</td>\n",
       "      <td>0</td>\n",
       "      <td>Red</td>\n",
       "    </tr>\n",
       "    <tr>\n",
       "      <th>9</th>\n",
       "      <td>9</td>\n",
       "      <td>2700</td>\n",
       "      <td>0.000180</td>\n",
       "      <td>0.1300</td>\n",
       "      <td>16.05</td>\n",
       "      <td>0</td>\n",
       "      <td>Red</td>\n",
       "    </tr>\n",
       "  </tbody>\n",
       "</table>\n",
       "</div>"
      ],
      "text/plain": [
       "   Unnamed: 0  Temperature (K)  Luminosity(L/Lo)  Radius(R/Ro)  \\\n",
       "0           0             3068          0.002400        0.1700   \n",
       "1           1             3042          0.000500        0.1542   \n",
       "2           2             2600          0.000300        0.1020   \n",
       "3           3             2800          0.000200        0.1600   \n",
       "4           4             1939          0.000138        0.1030   \n",
       "5           5             2840          0.000650        0.1100   \n",
       "6           6             2637          0.000730        0.1270   \n",
       "7           7             2600          0.000400        0.0960   \n",
       "8           8             2650          0.000690        0.1100   \n",
       "9           9             2700          0.000180        0.1300   \n",
       "\n",
       "   Absolute magnitude(Mv)  Star type Star color  \n",
       "0                   16.12          0        Red  \n",
       "1                   16.60          0        Red  \n",
       "2                   18.70          0        Red  \n",
       "3                   16.65          0        Red  \n",
       "4                   20.06          0        Red  \n",
       "5                   16.98          0        Red  \n",
       "6                   17.22          0        Red  \n",
       "7                   17.40          0        Red  \n",
       "8                   17.45          0        Red  \n",
       "9                   16.05          0        Red  "
      ]
     },
     "execution_count": 4,
     "metadata": {},
     "output_type": "execute_result"
    }
   ],
   "source": [
    "data.head(10)"
   ]
  },
  {
   "cell_type": "code",
   "execution_count": 5,
   "id": "3c53894e",
   "metadata": {},
   "outputs": [
    {
     "data": {
      "image/png": "[encoded data removed]",
      "text/plain": [
       "<Figure size 1080x720 with 6 Axes>"
      ]
     },
     "metadata": {
      "needs_background": "light"
     },
     "output_type": "display_data"
    }
   ],
   "source": [
    "data.hist(figsize=(15, 10));"
   ]
  },
  {
   "cell_type": "markdown",
   "id": "4c4f9094",
   "metadata": {},
   "source": [
    "В датафрейме 240 строк (звёзд). Присутствуют 7 колонок, одна из них называется `Unnamed` и содержит неизвестные на первый вгляд значения, на этапе предобработки подробнее её рассмотрим."
   ]
  },
  {
   "cell_type": "markdown",
   "id": "simple-subdivision",
   "metadata": {},
   "source": [
    "<a id='pre_analysis'></a>\n",
    "## Предобработка и анализ данных"
   ]
  },
  {
   "cell_type": "markdown",
   "id": "15cc198f",
   "metadata": {},
   "source": [
    "<a id='preprocessing'></a>\n",
    "### Предобработка\n",
    "\n",
    "Приступим к предобработке.\n",
    "\n",
    "Изучим колонку `Star color` которая содержить названия цветов звёзд. Для начала проверим есть ли дубликаты."
   ]
  },
  {
   "cell_type": "code",
   "execution_count": 6,
   "id": "aff766f1",
   "metadata": {},
   "outputs": [
    {
     "data": {
      "text/plain": [
       "19"
      ]
     },
     "metadata": {},
     "output_type": "display_data"
    },
    {
     "data": {
      "text/plain": [
       "array(['Red', 'Blue White', 'White', 'Yellowish White', 'Blue white',\n",
       "       'Pale yellow orange', 'Blue', 'Blue-white', 'Whitish',\n",
       "       'yellow-white', 'Orange', 'White-Yellow', 'white', 'Blue ',\n",
       "       'yellowish', 'Yellowish', 'Orange-Red', 'Blue white ',\n",
       "       'Blue-White'], dtype=object)"
      ]
     },
     "metadata": {},
     "output_type": "display_data"
    }
   ],
   "source": [
    "display(data['Star color'].nunique())\n",
    "display(data['Star color'].unique())"
   ]
  },
  {
   "cell_type": "markdown",
   "id": "bf5640a1",
   "metadata": {},
   "source": [
    "Нашли 19 разные наименований цветов. Видим что в названиях притсвуют пробелы и различные варианты написания одного и того же цвета. Для начала приведёт все значения к одному регистрку и удалим пробелы."
   ]
  },
  {
   "cell_type": "code",
   "execution_count": 7,
   "id": "forced-concentrate",
   "metadata": {},
   "outputs": [],
   "source": [
    "data['Star color'] = data['Star color'].str.lower()\n",
    "data['Star color'] = data['Star color'].str.rstrip()"
   ]
  },
  {
   "cell_type": "code",
   "execution_count": 8,
   "id": "fdabbfef",
   "metadata": {},
   "outputs": [
    {
     "data": {
      "text/plain": [
       "13"
      ]
     },
     "metadata": {},
     "output_type": "display_data"
    },
    {
     "data": {
      "text/plain": [
       "array(['red', 'blue white', 'white', 'yellowish white',\n",
       "       'pale yellow orange', 'blue', 'blue-white', 'whitish',\n",
       "       'yellow-white', 'orange', 'white-yellow', 'yellowish',\n",
       "       'orange-red'], dtype=object)"
      ]
     },
     "metadata": {},
     "output_type": "display_data"
    }
   ],
   "source": [
    "display(data['Star color'].nunique())\n",
    "display(data['Star color'].unique())"
   ]
  },
  {
   "cell_type": "markdown",
   "id": "4ec7a073",
   "metadata": {},
   "source": [
    "Количество сократилось до 13. Ещё остались такие дубликаты как blue white и blue-white. А так же спектральная классификация включает в себя только 7 классов. Типы O, B, A, F, G, K, M разделенные по температуре. В разных источниках названия могут немного отличатся, но границы температур и их типы остаются теми же. Например pale yellow orange из датасета относится к классу K с температурой в диапазоне 3,700 - 5,200 кельвин, но более часто встречается название этого класса как просто orange. Примем классификацию Red, Orange, Yellow, Yellow White, White, Blue White, Blue. Так же сверимся с температурами, возможно там будут аномалии.\n",
    "\n",
    "Цвета должны находится в следующих диапазонах:\n",
    "\n",
    "- red: < 3,700K\n",
    "- orange: 3,700 - 5,200K\n",
    "- yellow: 5,200 - 6,000K\n",
    "- yellow white:  6,000 - 7,500K\n",
    "- white: 7,500 - 10,000K\n",
    "- blue white: 10,000 - 30,000\\\n",
    "- blue: > 30,000K"
   ]
  },
  {
   "cell_type": "code",
   "execution_count": 9,
   "id": "fafb7f36",
   "metadata": {},
   "outputs": [
    {
     "data": {
      "text/html": [
       "<div>\n",
       "<style scoped>\n",
       "    .dataframe tbody tr th:only-of-type {\n",
       "        vertical-align: middle;\n",
       "    }\n",
       "\n",
       "    .dataframe tbody tr th {\n",
       "        vertical-align: top;\n",
       "    }\n",
       "\n",
       "    .dataframe thead th {\n",
       "        text-align: right;\n",
       "    }\n",
       "</style>\n",
       "<table border=\"1\" class=\"dataframe\">\n",
       "  <thead>\n",
       "    <tr style=\"text-align: right;\">\n",
       "      <th></th>\n",
       "      <th>count</th>\n",
       "      <th>mean</th>\n",
       "      <th>std</th>\n",
       "      <th>min</th>\n",
       "      <th>25%</th>\n",
       "      <th>50%</th>\n",
       "      <th>75%</th>\n",
       "      <th>max</th>\n",
       "    </tr>\n",
       "    <tr>\n",
       "      <th>Star color</th>\n",
       "      <th></th>\n",
       "      <th></th>\n",
       "      <th></th>\n",
       "      <th></th>\n",
       "      <th></th>\n",
       "      <th></th>\n",
       "      <th></th>\n",
       "      <th></th>\n",
       "    </tr>\n",
       "  </thead>\n",
       "  <tbody>\n",
       "    <tr>\n",
       "      <th>blue</th>\n",
       "      <td>56.0</td>\n",
       "      <td>21918.339286</td>\n",
       "      <td>9453.979609</td>\n",
       "      <td>5752.0</td>\n",
       "      <td>14797.75</td>\n",
       "      <td>19921.5</td>\n",
       "      <td>27489.50</td>\n",
       "      <td>40000.0</td>\n",
       "    </tr>\n",
       "    <tr>\n",
       "      <th>blue white</th>\n",
       "      <td>14.0</td>\n",
       "      <td>13478.214286</td>\n",
       "      <td>4187.508497</td>\n",
       "      <td>8570.0</td>\n",
       "      <td>11210.00</td>\n",
       "      <td>12948.0</td>\n",
       "      <td>14415.00</td>\n",
       "      <td>25000.0</td>\n",
       "    </tr>\n",
       "    <tr>\n",
       "      <th>blue-white</th>\n",
       "      <td>27.0</td>\n",
       "      <td>18309.740741</td>\n",
       "      <td>7011.517292</td>\n",
       "      <td>8945.0</td>\n",
       "      <td>12099.00</td>\n",
       "      <td>17140.0</td>\n",
       "      <td>24317.50</td>\n",
       "      <td>30000.0</td>\n",
       "    </tr>\n",
       "    <tr>\n",
       "      <th>orange</th>\n",
       "      <td>2.0</td>\n",
       "      <td>4018.000000</td>\n",
       "      <td>380.423448</td>\n",
       "      <td>3749.0</td>\n",
       "      <td>3883.50</td>\n",
       "      <td>4018.0</td>\n",
       "      <td>4152.50</td>\n",
       "      <td>4287.0</td>\n",
       "    </tr>\n",
       "    <tr>\n",
       "      <th>orange-red</th>\n",
       "      <td>1.0</td>\n",
       "      <td>5112.000000</td>\n",
       "      <td>NaN</td>\n",
       "      <td>5112.0</td>\n",
       "      <td>5112.00</td>\n",
       "      <td>5112.0</td>\n",
       "      <td>5112.00</td>\n",
       "      <td>5112.0</td>\n",
       "    </tr>\n",
       "    <tr>\n",
       "      <th>pale yellow orange</th>\n",
       "      <td>1.0</td>\n",
       "      <td>7230.000000</td>\n",
       "      <td>NaN</td>\n",
       "      <td>7230.0</td>\n",
       "      <td>7230.00</td>\n",
       "      <td>7230.0</td>\n",
       "      <td>7230.00</td>\n",
       "      <td>7230.0</td>\n",
       "    </tr>\n",
       "    <tr>\n",
       "      <th>red</th>\n",
       "      <td>112.0</td>\n",
       "      <td>3291.785714</td>\n",
       "      <td>490.780761</td>\n",
       "      <td>1939.0</td>\n",
       "      <td>2987.50</td>\n",
       "      <td>3324.0</td>\n",
       "      <td>3550.75</td>\n",
       "      <td>6850.0</td>\n",
       "    </tr>\n",
       "    <tr>\n",
       "      <th>white</th>\n",
       "      <td>10.0</td>\n",
       "      <td>9720.300000</td>\n",
       "      <td>2563.623176</td>\n",
       "      <td>7220.0</td>\n",
       "      <td>7930.00</td>\n",
       "      <td>8879.5</td>\n",
       "      <td>10239.25</td>\n",
       "      <td>14732.0</td>\n",
       "    </tr>\n",
       "    <tr>\n",
       "      <th>white-yellow</th>\n",
       "      <td>1.0</td>\n",
       "      <td>7100.000000</td>\n",
       "      <td>NaN</td>\n",
       "      <td>7100.0</td>\n",
       "      <td>7100.00</td>\n",
       "      <td>7100.0</td>\n",
       "      <td>7100.00</td>\n",
       "      <td>7100.0</td>\n",
       "    </tr>\n",
       "    <tr>\n",
       "      <th>whitish</th>\n",
       "      <td>2.0</td>\n",
       "      <td>8876.000000</td>\n",
       "      <td>1165.311975</td>\n",
       "      <td>8052.0</td>\n",
       "      <td>8464.00</td>\n",
       "      <td>8876.0</td>\n",
       "      <td>9288.00</td>\n",
       "      <td>9700.0</td>\n",
       "    </tr>\n",
       "    <tr>\n",
       "      <th>yellow-white</th>\n",
       "      <td>8.0</td>\n",
       "      <td>6466.250000</td>\n",
       "      <td>1049.074524</td>\n",
       "      <td>5300.0</td>\n",
       "      <td>5746.75</td>\n",
       "      <td>6158.0</td>\n",
       "      <td>6997.75</td>\n",
       "      <td>8250.0</td>\n",
       "    </tr>\n",
       "    <tr>\n",
       "      <th>yellowish</th>\n",
       "      <td>3.0</td>\n",
       "      <td>4527.666667</td>\n",
       "      <td>451.502307</td>\n",
       "      <td>4077.0</td>\n",
       "      <td>4301.50</td>\n",
       "      <td>4526.0</td>\n",
       "      <td>4753.00</td>\n",
       "      <td>4980.0</td>\n",
       "    </tr>\n",
       "    <tr>\n",
       "      <th>yellowish white</th>\n",
       "      <td>3.0</td>\n",
       "      <td>10826.666667</td>\n",
       "      <td>2773.451520</td>\n",
       "      <td>7700.0</td>\n",
       "      <td>9745.00</td>\n",
       "      <td>11790.0</td>\n",
       "      <td>12390.00</td>\n",
       "      <td>12990.0</td>\n",
       "    </tr>\n",
       "  </tbody>\n",
       "</table>\n",
       "</div>"
      ],
      "text/plain": [
       "                    count          mean          std     min       25%  \\\n",
       "Star color                                                               \n",
       "blue                 56.0  21918.339286  9453.979609  5752.0  14797.75   \n",
       "blue white           14.0  13478.214286  4187.508497  8570.0  11210.00   \n",
       "blue-white           27.0  18309.740741  7011.517292  8945.0  12099.00   \n",
       "orange                2.0   4018.000000   380.423448  3749.0   3883.50   \n",
       "orange-red            1.0   5112.000000          NaN  5112.0   5112.00   \n",
       "pale yellow orange    1.0   7230.000000          NaN  7230.0   7230.00   \n",
       "red                 112.0   3291.785714   490.780761  1939.0   2987.50   \n",
       "white                10.0   9720.300000  2563.623176  7220.0   7930.00   \n",
       "white-yellow          1.0   7100.000000          NaN  7100.0   7100.00   \n",
       "whitish               2.0   8876.000000  1165.311975  8052.0   8464.00   \n",
       "yellow-white          8.0   6466.250000  1049.074524  5300.0   5746.75   \n",
       "yellowish             3.0   4527.666667   451.502307  4077.0   4301.50   \n",
       "yellowish white       3.0  10826.666667  2773.451520  7700.0   9745.00   \n",
       "\n",
       "                        50%       75%      max  \n",
       "Star color                                      \n",
       "blue                19921.5  27489.50  40000.0  \n",
       "blue white          12948.0  14415.00  25000.0  \n",
       "blue-white          17140.0  24317.50  30000.0  \n",
       "orange               4018.0   4152.50   4287.0  \n",
       "orange-red           5112.0   5112.00   5112.0  \n",
       "pale yellow orange   7230.0   7230.00   7230.0  \n",
       "red                  3324.0   3550.75   6850.0  \n",
       "white                8879.5  10239.25  14732.0  \n",
       "white-yellow         7100.0   7100.00   7100.0  \n",
       "whitish              8876.0   9288.00   9700.0  \n",
       "yellow-white         6158.0   6997.75   8250.0  \n",
       "yellowish            4526.0   4753.00   4980.0  \n",
       "yellowish white     11790.0  12390.00  12990.0  "
      ]
     },
     "execution_count": 9,
     "metadata": {},
     "output_type": "execute_result"
    }
   ],
   "source": [
    "data.groupby('Star color')['Temperature (K)'].describe()"
   ]
  },
  {
   "cell_type": "markdown",
   "id": "79c03d07",
   "metadata": {},
   "source": [
    "В большинстве случаев названия не соответсвующие классификации хорошо попадают по температуре в нужные категории. Сделаем замену названий."
   ]
  },
  {
   "cell_type": "code",
   "execution_count": 10,
   "id": "896d6566",
   "metadata": {},
   "outputs": [],
   "source": [
    "data['Star color'] = data['Star color'].replace('blue-white', 'blue white')\n",
    "data['Star color'] = data['Star color'].replace('orange-red', 'orange')\n",
    "data['Star color'] = data['Star color'].replace('pale yellow orange', 'yellow white')\n",
    "data['Star color'] = data['Star color'].replace('white-yellow', 'yellow white')\n",
    "data['Star color'] = data['Star color'].replace('whitish', 'white')\n",
    "data['Star color'] = data['Star color'].replace('yellow-white', 'yellow white')\n",
    "data['Star color'] = data['Star color'].replace('yellowish', 'orange')\n",
    "data['Star color'] = data['Star color'].replace('yellowish white', 'white')"
   ]
  },
  {
   "cell_type": "code",
   "execution_count": 11,
   "id": "910ee948",
   "metadata": {},
   "outputs": [
    {
     "data": {
      "text/html": [
       "<div>\n",
       "<style scoped>\n",
       "    .dataframe tbody tr th:only-of-type {\n",
       "        vertical-align: middle;\n",
       "    }\n",
       "\n",
       "    .dataframe tbody tr th {\n",
       "        vertical-align: top;\n",
       "    }\n",
       "\n",
       "    .dataframe thead th {\n",
       "        text-align: right;\n",
       "    }\n",
       "</style>\n",
       "<table border=\"1\" class=\"dataframe\">\n",
       "  <thead>\n",
       "    <tr style=\"text-align: right;\">\n",
       "      <th></th>\n",
       "      <th>count</th>\n",
       "      <th>mean</th>\n",
       "      <th>std</th>\n",
       "      <th>min</th>\n",
       "      <th>25%</th>\n",
       "      <th>50%</th>\n",
       "      <th>75%</th>\n",
       "      <th>max</th>\n",
       "    </tr>\n",
       "    <tr>\n",
       "      <th>Star color</th>\n",
       "      <th></th>\n",
       "      <th></th>\n",
       "      <th></th>\n",
       "      <th></th>\n",
       "      <th></th>\n",
       "      <th></th>\n",
       "      <th></th>\n",
       "      <th></th>\n",
       "    </tr>\n",
       "  </thead>\n",
       "  <tbody>\n",
       "    <tr>\n",
       "      <th>blue</th>\n",
       "      <td>56.0</td>\n",
       "      <td>21918.339286</td>\n",
       "      <td>9453.979609</td>\n",
       "      <td>5752.0</td>\n",
       "      <td>14797.75</td>\n",
       "      <td>19921.5</td>\n",
       "      <td>27489.50</td>\n",
       "      <td>40000.0</td>\n",
       "    </tr>\n",
       "    <tr>\n",
       "      <th>blue white</th>\n",
       "      <td>41.0</td>\n",
       "      <td>16659.951220</td>\n",
       "      <td>6560.050964</td>\n",
       "      <td>8570.0</td>\n",
       "      <td>11900.00</td>\n",
       "      <td>14100.0</td>\n",
       "      <td>22012.00</td>\n",
       "      <td>30000.0</td>\n",
       "    </tr>\n",
       "    <tr>\n",
       "      <th>orange</th>\n",
       "      <td>6.0</td>\n",
       "      <td>4455.166667</td>\n",
       "      <td>525.710725</td>\n",
       "      <td>3749.0</td>\n",
       "      <td>4129.50</td>\n",
       "      <td>4406.5</td>\n",
       "      <td>4866.50</td>\n",
       "      <td>5112.0</td>\n",
       "    </tr>\n",
       "    <tr>\n",
       "      <th>red</th>\n",
       "      <td>112.0</td>\n",
       "      <td>3291.785714</td>\n",
       "      <td>490.780761</td>\n",
       "      <td>1939.0</td>\n",
       "      <td>2987.50</td>\n",
       "      <td>3324.0</td>\n",
       "      <td>3550.75</td>\n",
       "      <td>6850.0</td>\n",
       "    </tr>\n",
       "    <tr>\n",
       "      <th>white</th>\n",
       "      <td>15.0</td>\n",
       "      <td>9829.000000</td>\n",
       "      <td>2402.559409</td>\n",
       "      <td>7220.0</td>\n",
       "      <td>7896.00</td>\n",
       "      <td>8930.0</td>\n",
       "      <td>11182.00</td>\n",
       "      <td>14732.0</td>\n",
       "    </tr>\n",
       "    <tr>\n",
       "      <th>yellow white</th>\n",
       "      <td>10.0</td>\n",
       "      <td>6606.000000</td>\n",
       "      <td>971.456753</td>\n",
       "      <td>5300.0</td>\n",
       "      <td>5834.00</td>\n",
       "      <td>6568.5</td>\n",
       "      <td>7197.50</td>\n",
       "      <td>8250.0</td>\n",
       "    </tr>\n",
       "  </tbody>\n",
       "</table>\n",
       "</div>"
      ],
      "text/plain": [
       "              count          mean          std     min       25%      50%  \\\n",
       "Star color                                                                  \n",
       "blue           56.0  21918.339286  9453.979609  5752.0  14797.75  19921.5   \n",
       "blue white     41.0  16659.951220  6560.050964  8570.0  11900.00  14100.0   \n",
       "orange          6.0   4455.166667   525.710725  3749.0   4129.50   4406.5   \n",
       "red           112.0   3291.785714   490.780761  1939.0   2987.50   3324.0   \n",
       "white          15.0   9829.000000  2402.559409  7220.0   7896.00   8930.0   \n",
       "yellow white   10.0   6606.000000   971.456753  5300.0   5834.00   6568.5   \n",
       "\n",
       "                   75%      max  \n",
       "Star color                       \n",
       "blue          27489.50  40000.0  \n",
       "blue white    22012.00  30000.0  \n",
       "orange         4866.50   5112.0  \n",
       "red            3550.75   6850.0  \n",
       "white         11182.00  14732.0  \n",
       "yellow white   7197.50   8250.0  "
      ]
     },
     "execution_count": 11,
     "metadata": {},
     "output_type": "execute_result"
    }
   ],
   "source": [
    "data.groupby('Star color')['Temperature (K)'].describe()"
   ]
  },
  {
   "cell_type": "markdown",
   "id": "aba24ea1",
   "metadata": {},
   "source": [
    "Сделали замену, теперь надо подкорректировать аномалии внутри категорий, например среди красных звёзд мы видим что максимум 6850K что значительно больше чем в этой и даже в двух следующих категориях должно быть."
   ]
  },
  {
   "cell_type": "code",
   "execution_count": 12,
   "id": "298d27a9",
   "metadata": {},
   "outputs": [],
   "source": [
    "data.loc[(data['Temperature (K)'] > 30000), 'Star color'] = 'blue'\n",
    "\n",
    "data.loc[(data['Temperature (K)'] < 30000) &\n",
    "         (data['Temperature (K)'] > 10000), 'Star color'] = 'blue white'\n",
    "\n",
    "data.loc[(data['Temperature (K)'] < 10000) &\n",
    "         (data['Temperature (K)'] > 7500), 'Star color'] = 'white'\n",
    "\n",
    "data.loc[(data['Temperature (K)'] < 7500) &\n",
    "         (data['Temperature (K)'] > 6000), 'Star color'] = 'yellow white'\n",
    "\n",
    "data.loc[(data['Temperature (K)'] < 6000) &\n",
    "         (data['Temperature (K)'] > 5200), 'Star color'] = 'yellow'\n",
    "\n",
    "data.loc[(data['Temperature (K)'] < 5200) &\n",
    "         (data['Temperature (K)'] > 3700), 'Star color'] = 'orange'\n",
    "\n",
    "data.loc[(data['Temperature (K)'] < 3700), 'Star color'] = 'red'"
   ]
  },
  {
   "cell_type": "code",
   "execution_count": 13,
   "id": "1e9d16e0",
   "metadata": {},
   "outputs": [
    {
     "data": {
      "text/html": [
       "<div>\n",
       "<style scoped>\n",
       "    .dataframe tbody tr th:only-of-type {\n",
       "        vertical-align: middle;\n",
       "    }\n",
       "\n",
       "    .dataframe tbody tr th {\n",
       "        vertical-align: top;\n",
       "    }\n",
       "\n",
       "    .dataframe thead th {\n",
       "        text-align: right;\n",
       "    }\n",
       "</style>\n",
       "<table border=\"1\" class=\"dataframe\">\n",
       "  <thead>\n",
       "    <tr style=\"text-align: right;\">\n",
       "      <th></th>\n",
       "      <th>count</th>\n",
       "      <th>mean</th>\n",
       "      <th>std</th>\n",
       "      <th>min</th>\n",
       "      <th>25%</th>\n",
       "      <th>50%</th>\n",
       "      <th>75%</th>\n",
       "      <th>max</th>\n",
       "    </tr>\n",
       "    <tr>\n",
       "      <th>Star color</th>\n",
       "      <th></th>\n",
       "      <th></th>\n",
       "      <th></th>\n",
       "      <th></th>\n",
       "      <th></th>\n",
       "      <th></th>\n",
       "      <th></th>\n",
       "      <th></th>\n",
       "    </tr>\n",
       "  </thead>\n",
       "  <tbody>\n",
       "    <tr>\n",
       "      <th>blue</th>\n",
       "      <td>14.0</td>\n",
       "      <td>35600.928571</td>\n",
       "      <td>2999.651453</td>\n",
       "      <td>30839.0</td>\n",
       "      <td>33330.25</td>\n",
       "      <td>35149.0</td>\n",
       "      <td>38146.00</td>\n",
       "      <td>40000.0</td>\n",
       "    </tr>\n",
       "    <tr>\n",
       "      <th>blue white</th>\n",
       "      <td>76.0</td>\n",
       "      <td>18036.907895</td>\n",
       "      <td>5445.692850</td>\n",
       "      <td>10012.0</td>\n",
       "      <td>13014.75</td>\n",
       "      <td>17170.0</td>\n",
       "      <td>23023.00</td>\n",
       "      <td>30000.0</td>\n",
       "    </tr>\n",
       "    <tr>\n",
       "      <th>orange</th>\n",
       "      <td>12.0</td>\n",
       "      <td>4140.666667</td>\n",
       "      <td>487.846349</td>\n",
       "      <td>3749.0</td>\n",
       "      <td>3773.00</td>\n",
       "      <td>3924.5</td>\n",
       "      <td>4346.75</td>\n",
       "      <td>5112.0</td>\n",
       "    </tr>\n",
       "    <tr>\n",
       "      <th>red</th>\n",
       "      <td>105.0</td>\n",
       "      <td>3227.361905</td>\n",
       "      <td>337.936104</td>\n",
       "      <td>1939.0</td>\n",
       "      <td>2968.00</td>\n",
       "      <td>3295.0</td>\n",
       "      <td>3523.00</td>\n",
       "      <td>3692.0</td>\n",
       "    </tr>\n",
       "    <tr>\n",
       "      <th>white</th>\n",
       "      <td>21.0</td>\n",
       "      <td>8781.809524</td>\n",
       "      <td>695.592813</td>\n",
       "      <td>7700.0</td>\n",
       "      <td>8250.00</td>\n",
       "      <td>8927.0</td>\n",
       "      <td>9320.00</td>\n",
       "      <td>9892.0</td>\n",
       "    </tr>\n",
       "    <tr>\n",
       "      <th>yellow</th>\n",
       "      <td>5.0</td>\n",
       "      <td>5675.000000</td>\n",
       "      <td>243.948765</td>\n",
       "      <td>5300.0</td>\n",
       "      <td>5587.00</td>\n",
       "      <td>5752.0</td>\n",
       "      <td>5800.00</td>\n",
       "      <td>5936.0</td>\n",
       "    </tr>\n",
       "    <tr>\n",
       "      <th>yellow white</th>\n",
       "      <td>7.0</td>\n",
       "      <td>6974.142857</td>\n",
       "      <td>329.669748</td>\n",
       "      <td>6380.0</td>\n",
       "      <td>6803.50</td>\n",
       "      <td>7100.0</td>\n",
       "      <td>7225.00</td>\n",
       "      <td>7282.0</td>\n",
       "    </tr>\n",
       "  </tbody>\n",
       "</table>\n",
       "</div>"
      ],
      "text/plain": [
       "              count          mean          std      min       25%      50%  \\\n",
       "Star color                                                                   \n",
       "blue           14.0  35600.928571  2999.651453  30839.0  33330.25  35149.0   \n",
       "blue white     76.0  18036.907895  5445.692850  10012.0  13014.75  17170.0   \n",
       "orange         12.0   4140.666667   487.846349   3749.0   3773.00   3924.5   \n",
       "red           105.0   3227.361905   337.936104   1939.0   2968.00   3295.0   \n",
       "white          21.0   8781.809524   695.592813   7700.0   8250.00   8927.0   \n",
       "yellow          5.0   5675.000000   243.948765   5300.0   5587.00   5752.0   \n",
       "yellow white    7.0   6974.142857   329.669748   6380.0   6803.50   7100.0   \n",
       "\n",
       "                   75%      max  \n",
       "Star color                       \n",
       "blue          38146.00  40000.0  \n",
       "blue white    23023.00  30000.0  \n",
       "orange         4346.75   5112.0  \n",
       "red            3523.00   3692.0  \n",
       "white          9320.00   9892.0  \n",
       "yellow         5800.00   5936.0  \n",
       "yellow white   7225.00   7282.0  "
      ]
     },
     "execution_count": 13,
     "metadata": {},
     "output_type": "execute_result"
    }
   ],
   "source": [
    "data.groupby('Star color')['Temperature (K)'].describe()"
   ]
  },
  {
   "cell_type": "markdown",
   "id": "a82153d4",
   "metadata": {},
   "source": [
    "Исправили названия цветов у звезд в соответствии с их температурой.\n",
    "\n",
    "Посмотрим какие значения находятся в `Star type`."
   ]
  },
  {
   "cell_type": "code",
   "execution_count": 14,
   "id": "b3b82b97",
   "metadata": {},
   "outputs": [
    {
     "data": {
      "text/plain": [
       "array([0, 1, 2, 3, 4, 5], dtype=int64)"
      ]
     },
     "execution_count": 14,
     "metadata": {},
     "output_type": "execute_result"
    }
   ],
   "source": [
    "data['Star type'].unique()"
   ]
  },
  {
   "cell_type": "markdown",
   "id": "1aedb024",
   "metadata": {},
   "source": [
    "Значения в `Star type` корректные.\n",
    "\n",
    "Из того что было видно по гистограмме и по первым 10 строкам есть предположение что в `Unnamed: 0` находятся своего рода индексы, на уникальные значения в данной колонке."
   ]
  },
  {
   "cell_type": "code",
   "execution_count": 15,
   "id": "ea74831a",
   "metadata": {},
   "outputs": [
    {
     "data": {
      "text/plain": [
       "array([  0,   1,   2,   3,   4,   5,   6,   7,   8,   9,  10,  11,  12,\n",
       "        13,  14,  15,  16,  17,  18,  19,  20,  21,  22,  23,  24,  25,\n",
       "        26,  27,  28,  29,  30,  31,  32,  33,  34,  35,  36,  37,  38,\n",
       "        39,  40,  41,  42,  43,  44,  45,  46,  47,  48,  49,  50,  51,\n",
       "        52,  53,  54,  55,  56,  57,  58,  59,  60,  61,  62,  63,  64,\n",
       "        65,  66,  67,  68,  69,  70,  71,  72,  73,  74,  75,  76,  77,\n",
       "        78,  79,  80,  81,  82,  83,  84,  85,  86,  87,  88,  89,  90,\n",
       "        91,  92,  93,  94,  95,  96,  97,  98,  99, 100, 101, 102, 103,\n",
       "       104, 105, 106, 107, 108, 109, 110, 111, 112, 113, 114, 115, 116,\n",
       "       117, 118, 119, 120, 121, 122, 123, 124, 125, 126, 127, 128, 129,\n",
       "       130, 131, 132, 133, 134, 135, 136, 137, 138, 139, 140, 141, 142,\n",
       "       143, 144, 145, 146, 147, 148, 149, 150, 151, 152, 153, 154, 155,\n",
       "       156, 157, 158, 159, 160, 161, 162, 163, 164, 165, 166, 167, 168,\n",
       "       169, 170, 171, 172, 173, 174, 175, 176, 177, 178, 179, 180, 181,\n",
       "       182, 183, 184, 185, 186, 187, 188, 189, 190, 191, 192, 193, 194,\n",
       "       195, 196, 197, 198, 199, 200, 201, 202, 203, 204, 205, 206, 207,\n",
       "       208, 209, 210, 211, 212, 213, 214, 215, 216, 217, 218, 219, 220,\n",
       "       221, 222, 223, 224, 225, 226, 227, 228, 229, 230, 231, 232, 233,\n",
       "       234, 235, 236, 237, 238, 239], dtype=int64)"
      ]
     },
     "execution_count": 15,
     "metadata": {},
     "output_type": "execute_result"
    }
   ],
   "source": [
    "data['Unnamed: 0'].unique()"
   ]
  },
  {
   "cell_type": "markdown",
   "id": "0da4b9d3",
   "metadata": {},
   "source": [
    "Первоначальное предположение подтвердилось, данная колонка для обучения модели нам не понадобится. Удалим её."
   ]
  },
  {
   "cell_type": "code",
   "execution_count": 16,
   "id": "7b2d7461",
   "metadata": {},
   "outputs": [],
   "source": [
    "data = data.drop(['Unnamed: 0'], axis=1).reset_index(drop=True)"
   ]
  },
  {
   "cell_type": "markdown",
   "id": "e92db2fb",
   "metadata": {},
   "source": [
    "`Unnamed: 0` удалили, оставшиеся колонки содержащие температуру, радиус и абсолютную зведную величину по гистограммам выглядят логично. Приступим к анализу имеющихся данных."
   ]
  },
  {
   "cell_type": "markdown",
   "id": "d614bbed",
   "metadata": {},
   "source": [
    "<a id='analysis'></a>\n",
    "### Анализ данных"
   ]
  },
  {
   "cell_type": "code",
   "execution_count": 17,
   "id": "cda79937",
   "metadata": {},
   "outputs": [
    {
     "data": {
      "text/html": [
       "<div>\n",
       "<style scoped>\n",
       "    .dataframe tbody tr th:only-of-type {\n",
       "        vertical-align: middle;\n",
       "    }\n",
       "\n",
       "    .dataframe tbody tr th {\n",
       "        vertical-align: top;\n",
       "    }\n",
       "\n",
       "    .dataframe thead th {\n",
       "        text-align: right;\n",
       "    }\n",
       "</style>\n",
       "<table border=\"1\" class=\"dataframe\">\n",
       "  <thead>\n",
       "    <tr style=\"text-align: right;\">\n",
       "      <th></th>\n",
       "      <th>Temperature (K)</th>\n",
       "      <th>Luminosity(L/Lo)</th>\n",
       "      <th>Radius(R/Ro)</th>\n",
       "      <th>Absolute magnitude(Mv)</th>\n",
       "      <th>Star type</th>\n",
       "    </tr>\n",
       "  </thead>\n",
       "  <tbody>\n",
       "    <tr>\n",
       "      <th>count</th>\n",
       "      <td>240.000000</td>\n",
       "      <td>240.000000</td>\n",
       "      <td>240.000000</td>\n",
       "      <td>240.000000</td>\n",
       "      <td>240.000000</td>\n",
       "    </tr>\n",
       "    <tr>\n",
       "      <th>mean</th>\n",
       "      <td>10497.462500</td>\n",
       "      <td>107188.361635</td>\n",
       "      <td>237.157781</td>\n",
       "      <td>4.382396</td>\n",
       "      <td>2.500000</td>\n",
       "    </tr>\n",
       "    <tr>\n",
       "      <th>std</th>\n",
       "      <td>9552.425037</td>\n",
       "      <td>179432.244940</td>\n",
       "      <td>517.155763</td>\n",
       "      <td>10.532512</td>\n",
       "      <td>1.711394</td>\n",
       "    </tr>\n",
       "    <tr>\n",
       "      <th>min</th>\n",
       "      <td>1939.000000</td>\n",
       "      <td>0.000080</td>\n",
       "      <td>0.008400</td>\n",
       "      <td>-11.920000</td>\n",
       "      <td>0.000000</td>\n",
       "    </tr>\n",
       "    <tr>\n",
       "      <th>25%</th>\n",
       "      <td>3344.250000</td>\n",
       "      <td>0.000865</td>\n",
       "      <td>0.102750</td>\n",
       "      <td>-6.232500</td>\n",
       "      <td>1.000000</td>\n",
       "    </tr>\n",
       "    <tr>\n",
       "      <th>50%</th>\n",
       "      <td>5776.000000</td>\n",
       "      <td>0.070500</td>\n",
       "      <td>0.762500</td>\n",
       "      <td>8.313000</td>\n",
       "      <td>2.500000</td>\n",
       "    </tr>\n",
       "    <tr>\n",
       "      <th>75%</th>\n",
       "      <td>15055.500000</td>\n",
       "      <td>198050.000000</td>\n",
       "      <td>42.750000</td>\n",
       "      <td>13.697500</td>\n",
       "      <td>4.000000</td>\n",
       "    </tr>\n",
       "    <tr>\n",
       "      <th>max</th>\n",
       "      <td>40000.000000</td>\n",
       "      <td>849420.000000</td>\n",
       "      <td>1948.500000</td>\n",
       "      <td>20.060000</td>\n",
       "      <td>5.000000</td>\n",
       "    </tr>\n",
       "  </tbody>\n",
       "</table>\n",
       "</div>"
      ],
      "text/plain": [
       "       Temperature (K)  Luminosity(L/Lo)  Radius(R/Ro)  \\\n",
       "count       240.000000        240.000000    240.000000   \n",
       "mean      10497.462500     107188.361635    237.157781   \n",
       "std        9552.425037     179432.244940    517.155763   \n",
       "min        1939.000000          0.000080      0.008400   \n",
       "25%        3344.250000          0.000865      0.102750   \n",
       "50%        5776.000000          0.070500      0.762500   \n",
       "75%       15055.500000     198050.000000     42.750000   \n",
       "max       40000.000000     849420.000000   1948.500000   \n",
       "\n",
       "       Absolute magnitude(Mv)   Star type  \n",
       "count              240.000000  240.000000  \n",
       "mean                 4.382396    2.500000  \n",
       "std                 10.532512    1.711394  \n",
       "min                -11.920000    0.000000  \n",
       "25%                 -6.232500    1.000000  \n",
       "50%                  8.313000    2.500000  \n",
       "75%                 13.697500    4.000000  \n",
       "max                 20.060000    5.000000  "
      ]
     },
     "execution_count": 17,
     "metadata": {},
     "output_type": "execute_result"
    }
   ],
   "source": [
    "data.describe()"
   ]
  },
  {
   "cell_type": "markdown",
   "id": "b2179794",
   "metadata": {},
   "source": [
    "Рассмотрим `Star type`, изучим есть ли кореляция с другими признаками."
   ]
  },
  {
   "cell_type": "code",
   "execution_count": 18,
   "id": "aadc197e",
   "metadata": {},
   "outputs": [
    {
     "data": {
      "image/png": "[encoded data removed]",
      "text/plain": [
       "<Figure size 432x288 with 1 Axes>"
      ]
     },
     "metadata": {
      "needs_background": "light"
     },
     "output_type": "display_data"
    }
   ],
   "source": [
    "data['Star type'].hist();"
   ]
  },
  {
   "cell_type": "markdown",
   "id": "681ed7e8",
   "metadata": {},
   "source": [
    "В предоставленных данных есть 5 типов звезд и на каждый тип приходится ровно по 40 звезд."
   ]
  },
  {
   "cell_type": "code",
   "execution_count": 19,
   "id": "53b05413",
   "metadata": {},
   "outputs": [
    {
     "data": {
      "text/html": [
       "<div>\n",
       "<style scoped>\n",
       "    .dataframe tbody tr th:only-of-type {\n",
       "        vertical-align: middle;\n",
       "    }\n",
       "\n",
       "    .dataframe tbody tr th {\n",
       "        vertical-align: top;\n",
       "    }\n",
       "\n",
       "    .dataframe thead th {\n",
       "        text-align: right;\n",
       "    }\n",
       "</style>\n",
       "<table border=\"1\" class=\"dataframe\">\n",
       "  <thead>\n",
       "    <tr style=\"text-align: right;\">\n",
       "      <th></th>\n",
       "      <th>count</th>\n",
       "      <th>mean</th>\n",
       "      <th>std</th>\n",
       "      <th>min</th>\n",
       "      <th>25%</th>\n",
       "      <th>50%</th>\n",
       "      <th>75%</th>\n",
       "      <th>max</th>\n",
       "    </tr>\n",
       "    <tr>\n",
       "      <th>Star type</th>\n",
       "      <th></th>\n",
       "      <th></th>\n",
       "      <th></th>\n",
       "      <th></th>\n",
       "      <th></th>\n",
       "      <th></th>\n",
       "      <th></th>\n",
       "      <th></th>\n",
       "    </tr>\n",
       "  </thead>\n",
       "  <tbody>\n",
       "    <tr>\n",
       "      <th>0</th>\n",
       "      <td>40.0</td>\n",
       "      <td>17.563500</td>\n",
       "      <td>1.213111</td>\n",
       "      <td>16.05</td>\n",
       "      <td>16.7000</td>\n",
       "      <td>17.145</td>\n",
       "      <td>18.35250</td>\n",
       "      <td>20.060</td>\n",
       "    </tr>\n",
       "    <tr>\n",
       "      <th>1</th>\n",
       "      <td>40.0</td>\n",
       "      <td>12.539975</td>\n",
       "      <td>1.422816</td>\n",
       "      <td>10.12</td>\n",
       "      <td>11.3675</td>\n",
       "      <td>12.605</td>\n",
       "      <td>13.56425</td>\n",
       "      <td>14.940</td>\n",
       "    </tr>\n",
       "    <tr>\n",
       "      <th>2</th>\n",
       "      <td>40.0</td>\n",
       "      <td>12.582500</td>\n",
       "      <td>1.278386</td>\n",
       "      <td>10.18</td>\n",
       "      <td>11.5950</td>\n",
       "      <td>12.340</td>\n",
       "      <td>13.83000</td>\n",
       "      <td>14.870</td>\n",
       "    </tr>\n",
       "    <tr>\n",
       "      <th>3</th>\n",
       "      <td>40.0</td>\n",
       "      <td>-0.367425</td>\n",
       "      <td>3.613592</td>\n",
       "      <td>-4.70</td>\n",
       "      <td>-3.7025</td>\n",
       "      <td>-1.180</td>\n",
       "      <td>2.42500</td>\n",
       "      <td>6.506</td>\n",
       "    </tr>\n",
       "    <tr>\n",
       "      <th>4</th>\n",
       "      <td>40.0</td>\n",
       "      <td>-6.369925</td>\n",
       "      <td>0.560051</td>\n",
       "      <td>-7.45</td>\n",
       "      <td>-6.8075</td>\n",
       "      <td>-6.235</td>\n",
       "      <td>-5.96125</td>\n",
       "      <td>-5.240</td>\n",
       "    </tr>\n",
       "    <tr>\n",
       "      <th>5</th>\n",
       "      <td>40.0</td>\n",
       "      <td>-9.654250</td>\n",
       "      <td>1.453605</td>\n",
       "      <td>-11.92</td>\n",
       "      <td>-10.8750</td>\n",
       "      <td>-9.915</td>\n",
       "      <td>-8.14750</td>\n",
       "      <td>-7.580</td>\n",
       "    </tr>\n",
       "  </tbody>\n",
       "</table>\n",
       "</div>"
      ],
      "text/plain": [
       "           count       mean       std    min      25%     50%       75%  \\\n",
       "Star type                                                                 \n",
       "0           40.0  17.563500  1.213111  16.05  16.7000  17.145  18.35250   \n",
       "1           40.0  12.539975  1.422816  10.12  11.3675  12.605  13.56425   \n",
       "2           40.0  12.582500  1.278386  10.18  11.5950  12.340  13.83000   \n",
       "3           40.0  -0.367425  3.613592  -4.70  -3.7025  -1.180   2.42500   \n",
       "4           40.0  -6.369925  0.560051  -7.45  -6.8075  -6.235  -5.96125   \n",
       "5           40.0  -9.654250  1.453605 -11.92 -10.8750  -9.915  -8.14750   \n",
       "\n",
       "              max  \n",
       "Star type          \n",
       "0          20.060  \n",
       "1          14.940  \n",
       "2          14.870  \n",
       "3           6.506  \n",
       "4          -5.240  \n",
       "5          -7.580  "
      ]
     },
     "execution_count": 19,
     "metadata": {},
     "output_type": "execute_result"
    }
   ],
   "source": [
    "data.groupby('Star type')['Absolute magnitude(Mv)'].describe()"
   ]
  },
  {
   "cell_type": "code",
   "execution_count": 20,
   "id": "b521200d",
   "metadata": {},
   "outputs": [],
   "source": [
    "def scatter_plot(x, y):\n",
    "    data.plot(x=x,\n",
    "          y=y,\n",
    "          kind='scatter',\n",
    "          grid=True,\n",
    "          alpha=0.3,\n",
    "          figsize=(10, 10)\n",
    "         );"
   ]
  },
  {
   "cell_type": "code",
   "execution_count": 21,
   "id": "ea6f0905",
   "metadata": {},
   "outputs": [
    {
     "data": {
      "image/png": "[encoded data removed]",
      "text/plain": [
       "<Figure size 720x720 with 1 Axes>"
      ]
     },
     "metadata": {
      "needs_background": "light"
     },
     "output_type": "display_data"
    }
   ],
   "source": [
    "scatter_plot('Star type', 'Absolute magnitude(Mv)')"
   ]
  },
  {
   "cell_type": "code",
   "execution_count": 22,
   "id": "8e2fed9b",
   "metadata": {},
   "outputs": [
    {
     "name": "stdout",
     "output_type": "stream",
     "text": [
      "-0.9552755802305672\n"
     ]
    }
   ],
   "source": [
    "print(data['Star type'].corr(data['Absolute magnitude(Mv)']))"
   ]
  },
  {
   "cell_type": "markdown",
   "id": "914599ed",
   "metadata": {},
   "source": [
    "Присутствует явная корреляция между типом звезды и абсолютной звездной величины. Чем у типа номер больше там абсолютная звездная величина меньше."
   ]
  },
  {
   "cell_type": "code",
   "execution_count": 23,
   "id": "748609f7",
   "metadata": {},
   "outputs": [
    {
     "data": {
      "text/html": [
       "<div>\n",
       "<style scoped>\n",
       "    .dataframe tbody tr th:only-of-type {\n",
       "        vertical-align: middle;\n",
       "    }\n",
       "\n",
       "    .dataframe tbody tr th {\n",
       "        vertical-align: top;\n",
       "    }\n",
       "\n",
       "    .dataframe thead th {\n",
       "        text-align: right;\n",
       "    }\n",
       "</style>\n",
       "<table border=\"1\" class=\"dataframe\">\n",
       "  <thead>\n",
       "    <tr style=\"text-align: right;\">\n",
       "      <th></th>\n",
       "      <th>count</th>\n",
       "      <th>mean</th>\n",
       "      <th>std</th>\n",
       "      <th>min</th>\n",
       "      <th>25%</th>\n",
       "      <th>50%</th>\n",
       "      <th>75%</th>\n",
       "      <th>max</th>\n",
       "    </tr>\n",
       "    <tr>\n",
       "      <th>Star type</th>\n",
       "      <th></th>\n",
       "      <th></th>\n",
       "      <th></th>\n",
       "      <th></th>\n",
       "      <th></th>\n",
       "      <th></th>\n",
       "      <th></th>\n",
       "      <th></th>\n",
       "    </tr>\n",
       "  </thead>\n",
       "  <tbody>\n",
       "    <tr>\n",
       "      <th>0</th>\n",
       "      <td>40.0</td>\n",
       "      <td>0.110015</td>\n",
       "      <td>0.025783</td>\n",
       "      <td>0.0570</td>\n",
       "      <td>0.093150</td>\n",
       "      <td>0.1060</td>\n",
       "      <td>0.120250</td>\n",
       "      <td>0.190</td>\n",
       "    </tr>\n",
       "    <tr>\n",
       "      <th>1</th>\n",
       "      <td>40.0</td>\n",
       "      <td>0.348145</td>\n",
       "      <td>0.154453</td>\n",
       "      <td>0.0980</td>\n",
       "      <td>0.240000</td>\n",
       "      <td>0.3380</td>\n",
       "      <td>0.409750</td>\n",
       "      <td>0.730</td>\n",
       "    </tr>\n",
       "    <tr>\n",
       "      <th>2</th>\n",
       "      <td>40.0</td>\n",
       "      <td>0.010728</td>\n",
       "      <td>0.001725</td>\n",
       "      <td>0.0084</td>\n",
       "      <td>0.009305</td>\n",
       "      <td>0.0102</td>\n",
       "      <td>0.012025</td>\n",
       "      <td>0.015</td>\n",
       "    </tr>\n",
       "    <tr>\n",
       "      <th>3</th>\n",
       "      <td>40.0</td>\n",
       "      <td>4.430300</td>\n",
       "      <td>2.801390</td>\n",
       "      <td>0.7950</td>\n",
       "      <td>1.287500</td>\n",
       "      <td>5.7125</td>\n",
       "      <td>6.367500</td>\n",
       "      <td>10.600</td>\n",
       "    </tr>\n",
       "    <tr>\n",
       "      <th>4</th>\n",
       "      <td>40.0</td>\n",
       "      <td>51.150000</td>\n",
       "      <td>27.656826</td>\n",
       "      <td>12.0000</td>\n",
       "      <td>25.750000</td>\n",
       "      <td>43.5000</td>\n",
       "      <td>80.250000</td>\n",
       "      <td>98.000</td>\n",
       "    </tr>\n",
       "    <tr>\n",
       "      <th>5</th>\n",
       "      <td>40.0</td>\n",
       "      <td>1366.897500</td>\n",
       "      <td>255.561357</td>\n",
       "      <td>708.9000</td>\n",
       "      <td>1193.000000</td>\n",
       "      <td>1352.5000</td>\n",
       "      <td>1525.000000</td>\n",
       "      <td>1948.500</td>\n",
       "    </tr>\n",
       "  </tbody>\n",
       "</table>\n",
       "</div>"
      ],
      "text/plain": [
       "           count         mean         std       min          25%        50%  \\\n",
       "Star type                                                                     \n",
       "0           40.0     0.110015    0.025783    0.0570     0.093150     0.1060   \n",
       "1           40.0     0.348145    0.154453    0.0980     0.240000     0.3380   \n",
       "2           40.0     0.010728    0.001725    0.0084     0.009305     0.0102   \n",
       "3           40.0     4.430300    2.801390    0.7950     1.287500     5.7125   \n",
       "4           40.0    51.150000   27.656826   12.0000    25.750000    43.5000   \n",
       "5           40.0  1366.897500  255.561357  708.9000  1193.000000  1352.5000   \n",
       "\n",
       "                   75%       max  \n",
       "Star type                         \n",
       "0             0.120250     0.190  \n",
       "1             0.409750     0.730  \n",
       "2             0.012025     0.015  \n",
       "3             6.367500    10.600  \n",
       "4            80.250000    98.000  \n",
       "5          1525.000000  1948.500  "
      ]
     },
     "execution_count": 23,
     "metadata": {},
     "output_type": "execute_result"
    }
   ],
   "source": [
    "data.groupby('Star type')['Radius(R/Ro)'].describe()"
   ]
  },
  {
   "cell_type": "code",
   "execution_count": 24,
   "id": "dda617a5",
   "metadata": {},
   "outputs": [
    {
     "data": {
      "image/png": "[encoded data removed]",
      "text/plain": [
       "<Figure size 720x720 with 1 Axes>"
      ]
     },
     "metadata": {
      "needs_background": "light"
     },
     "output_type": "display_data"
    }
   ],
   "source": [
    "scatter_plot('Star type', 'Radius(R/Ro)')"
   ]
  },
  {
   "cell_type": "code",
   "execution_count": 25,
   "id": "d63d3cd4",
   "metadata": {},
   "outputs": [
    {
     "name": "stdout",
     "output_type": "stream",
     "text": [
      "0.6609752654498471\n"
     ]
    }
   ],
   "source": [
    "print(data['Star type'].corr(data['Radius(R/Ro)']))"
   ]
  },
  {
   "cell_type": "markdown",
   "id": "752e0d91",
   "metadata": {},
   "source": [
    "Присутствует корреляция между типом зведны и радиусом. У типов с большим числом радиус так же больше."
   ]
  },
  {
   "cell_type": "code",
   "execution_count": 26,
   "id": "5eb3e129",
   "metadata": {},
   "outputs": [
    {
     "data": {
      "text/html": [
       "<div>\n",
       "<style scoped>\n",
       "    .dataframe tbody tr th:only-of-type {\n",
       "        vertical-align: middle;\n",
       "    }\n",
       "\n",
       "    .dataframe tbody tr th {\n",
       "        vertical-align: top;\n",
       "    }\n",
       "\n",
       "    .dataframe thead th {\n",
       "        text-align: right;\n",
       "    }\n",
       "</style>\n",
       "<table border=\"1\" class=\"dataframe\">\n",
       "  <thead>\n",
       "    <tr style=\"text-align: right;\">\n",
       "      <th></th>\n",
       "      <th>count</th>\n",
       "      <th>mean</th>\n",
       "      <th>std</th>\n",
       "      <th>min</th>\n",
       "      <th>25%</th>\n",
       "      <th>50%</th>\n",
       "      <th>75%</th>\n",
       "      <th>max</th>\n",
       "    </tr>\n",
       "    <tr>\n",
       "      <th>Star type</th>\n",
       "      <th></th>\n",
       "      <th></th>\n",
       "      <th></th>\n",
       "      <th></th>\n",
       "      <th></th>\n",
       "      <th></th>\n",
       "      <th></th>\n",
       "      <th></th>\n",
       "    </tr>\n",
       "  </thead>\n",
       "  <tbody>\n",
       "    <tr>\n",
       "      <th>0</th>\n",
       "      <td>40.0</td>\n",
       "      <td>0.000693</td>\n",
       "      <td>0.000888</td>\n",
       "      <td>0.000138</td>\n",
       "      <td>0.000315</td>\n",
       "      <td>0.00052</td>\n",
       "      <td>0.000737</td>\n",
       "      <td>0.0056</td>\n",
       "    </tr>\n",
       "    <tr>\n",
       "      <th>1</th>\n",
       "      <td>40.0</td>\n",
       "      <td>0.005406</td>\n",
       "      <td>0.007330</td>\n",
       "      <td>0.000190</td>\n",
       "      <td>0.001315</td>\n",
       "      <td>0.00315</td>\n",
       "      <td>0.006675</td>\n",
       "      <td>0.0390</td>\n",
       "    </tr>\n",
       "    <tr>\n",
       "      <th>2</th>\n",
       "      <td>40.0</td>\n",
       "      <td>0.002434</td>\n",
       "      <td>0.008912</td>\n",
       "      <td>0.000080</td>\n",
       "      <td>0.000287</td>\n",
       "      <td>0.00076</td>\n",
       "      <td>0.001227</td>\n",
       "      <td>0.0560</td>\n",
       "    </tr>\n",
       "    <tr>\n",
       "      <th>3</th>\n",
       "      <td>40.0</td>\n",
       "      <td>32067.386275</td>\n",
       "      <td>69351.195858</td>\n",
       "      <td>0.085000</td>\n",
       "      <td>6.297500</td>\n",
       "      <td>738.50000</td>\n",
       "      <td>12962.500000</td>\n",
       "      <td>204000.0000</td>\n",
       "    </tr>\n",
       "    <tr>\n",
       "      <th>4</th>\n",
       "      <td>40.0</td>\n",
       "      <td>301816.250000</td>\n",
       "      <td>175756.378119</td>\n",
       "      <td>112000.000000</td>\n",
       "      <td>197250.000000</td>\n",
       "      <td>242145.00000</td>\n",
       "      <td>344160.000000</td>\n",
       "      <td>813000.0000</td>\n",
       "    </tr>\n",
       "    <tr>\n",
       "      <th>5</th>\n",
       "      <td>40.0</td>\n",
       "      <td>309246.525000</td>\n",
       "      <td>199343.999427</td>\n",
       "      <td>74000.000000</td>\n",
       "      <td>173000.000000</td>\n",
       "      <td>266500.00000</td>\n",
       "      <td>365957.500000</td>\n",
       "      <td>849420.0000</td>\n",
       "    </tr>\n",
       "  </tbody>\n",
       "</table>\n",
       "</div>"
      ],
      "text/plain": [
       "           count           mean            std            min            25%  \\\n",
       "Star type                                                                      \n",
       "0           40.0       0.000693       0.000888       0.000138       0.000315   \n",
       "1           40.0       0.005406       0.007330       0.000190       0.001315   \n",
       "2           40.0       0.002434       0.008912       0.000080       0.000287   \n",
       "3           40.0   32067.386275   69351.195858       0.085000       6.297500   \n",
       "4           40.0  301816.250000  175756.378119  112000.000000  197250.000000   \n",
       "5           40.0  309246.525000  199343.999427   74000.000000  173000.000000   \n",
       "\n",
       "                    50%            75%          max  \n",
       "Star type                                            \n",
       "0               0.00052       0.000737       0.0056  \n",
       "1               0.00315       0.006675       0.0390  \n",
       "2               0.00076       0.001227       0.0560  \n",
       "3             738.50000   12962.500000  204000.0000  \n",
       "4          242145.00000  344160.000000  813000.0000  \n",
       "5          266500.00000  365957.500000  849420.0000  "
      ]
     },
     "execution_count": 26,
     "metadata": {},
     "output_type": "execute_result"
    }
   ],
   "source": [
    "data.groupby('Star type')['Luminosity(L/Lo)'].describe()"
   ]
  },
  {
   "cell_type": "code",
   "execution_count": 27,
   "id": "93470cea",
   "metadata": {},
   "outputs": [
    {
     "data": {
      "image/png": "[encoded data removed]",
      "text/plain": [
       "<Figure size 720x720 with 1 Axes>"
      ]
     },
     "metadata": {
      "needs_background": "light"
     },
     "output_type": "display_data"
    }
   ],
   "source": [
    "scatter_plot('Star type', 'Luminosity(L/Lo)')"
   ]
  },
  {
   "cell_type": "code",
   "execution_count": 28,
   "id": "236e1f20",
   "metadata": {},
   "outputs": [
    {
     "name": "stdout",
     "output_type": "stream",
     "text": [
      "0.6768449517263782\n"
     ]
    }
   ],
   "source": [
    "print(data['Star type'].corr(data['Luminosity(L/Lo)']))"
   ]
  },
  {
   "cell_type": "markdown",
   "id": "5156d973",
   "metadata": {},
   "source": [
    "Присутствует корреляция между типом зведны и светимостью. У типов с большим числом светимость так же больше."
   ]
  },
  {
   "cell_type": "code",
   "execution_count": 29,
   "id": "ac4bd691",
   "metadata": {},
   "outputs": [
    {
     "data": {
      "text/html": [
       "<div>\n",
       "<style scoped>\n",
       "    .dataframe tbody tr th:only-of-type {\n",
       "        vertical-align: middle;\n",
       "    }\n",
       "\n",
       "    .dataframe tbody tr th {\n",
       "        vertical-align: top;\n",
       "    }\n",
       "\n",
       "    .dataframe thead th {\n",
       "        text-align: right;\n",
       "    }\n",
       "</style>\n",
       "<table border=\"1\" class=\"dataframe\">\n",
       "  <thead>\n",
       "    <tr style=\"text-align: right;\">\n",
       "      <th></th>\n",
       "      <th>count</th>\n",
       "      <th>mean</th>\n",
       "      <th>std</th>\n",
       "      <th>min</th>\n",
       "      <th>25%</th>\n",
       "      <th>50%</th>\n",
       "      <th>75%</th>\n",
       "      <th>max</th>\n",
       "    </tr>\n",
       "    <tr>\n",
       "      <th>Star type</th>\n",
       "      <th></th>\n",
       "      <th></th>\n",
       "      <th></th>\n",
       "      <th></th>\n",
       "      <th></th>\n",
       "      <th></th>\n",
       "      <th></th>\n",
       "      <th></th>\n",
       "    </tr>\n",
       "  </thead>\n",
       "  <tbody>\n",
       "    <tr>\n",
       "      <th>0</th>\n",
       "      <td>40.0</td>\n",
       "      <td>2997.950</td>\n",
       "      <td>332.276295</td>\n",
       "      <td>1939.0</td>\n",
       "      <td>2812.75</td>\n",
       "      <td>2935.0</td>\n",
       "      <td>3242.50</td>\n",
       "      <td>3531.0</td>\n",
       "    </tr>\n",
       "    <tr>\n",
       "      <th>1</th>\n",
       "      <td>40.0</td>\n",
       "      <td>3283.825</td>\n",
       "      <td>269.637258</td>\n",
       "      <td>2621.0</td>\n",
       "      <td>3132.75</td>\n",
       "      <td>3314.0</td>\n",
       "      <td>3527.50</td>\n",
       "      <td>3692.0</td>\n",
       "    </tr>\n",
       "    <tr>\n",
       "      <th>2</th>\n",
       "      <td>40.0</td>\n",
       "      <td>13931.450</td>\n",
       "      <td>4957.655189</td>\n",
       "      <td>7100.0</td>\n",
       "      <td>9488.75</td>\n",
       "      <td>13380.0</td>\n",
       "      <td>17380.00</td>\n",
       "      <td>25000.0</td>\n",
       "    </tr>\n",
       "    <tr>\n",
       "      <th>3</th>\n",
       "      <td>40.0</td>\n",
       "      <td>16018.000</td>\n",
       "      <td>10661.234972</td>\n",
       "      <td>4077.0</td>\n",
       "      <td>7479.25</td>\n",
       "      <td>12560.5</td>\n",
       "      <td>23030.00</td>\n",
       "      <td>39000.0</td>\n",
       "    </tr>\n",
       "    <tr>\n",
       "      <th>4</th>\n",
       "      <td>40.0</td>\n",
       "      <td>15347.850</td>\n",
       "      <td>10086.784628</td>\n",
       "      <td>3008.0</td>\n",
       "      <td>6899.50</td>\n",
       "      <td>12821.0</td>\n",
       "      <td>23181.25</td>\n",
       "      <td>40000.0</td>\n",
       "    </tr>\n",
       "    <tr>\n",
       "      <th>5</th>\n",
       "      <td>40.0</td>\n",
       "      <td>11405.700</td>\n",
       "      <td>11816.991886</td>\n",
       "      <td>3399.0</td>\n",
       "      <td>3603.75</td>\n",
       "      <td>3766.0</td>\n",
       "      <td>18976.00</td>\n",
       "      <td>38940.0</td>\n",
       "    </tr>\n",
       "  </tbody>\n",
       "</table>\n",
       "</div>"
      ],
      "text/plain": [
       "           count       mean           std     min      25%      50%       75%  \\\n",
       "Star type                                                                       \n",
       "0           40.0   2997.950    332.276295  1939.0  2812.75   2935.0   3242.50   \n",
       "1           40.0   3283.825    269.637258  2621.0  3132.75   3314.0   3527.50   \n",
       "2           40.0  13931.450   4957.655189  7100.0  9488.75  13380.0  17380.00   \n",
       "3           40.0  16018.000  10661.234972  4077.0  7479.25  12560.5  23030.00   \n",
       "4           40.0  15347.850  10086.784628  3008.0  6899.50  12821.0  23181.25   \n",
       "5           40.0  11405.700  11816.991886  3399.0  3603.75   3766.0  18976.00   \n",
       "\n",
       "               max  \n",
       "Star type           \n",
       "0           3531.0  \n",
       "1           3692.0  \n",
       "2          25000.0  \n",
       "3          39000.0  \n",
       "4          40000.0  \n",
       "5          38940.0  "
      ]
     },
     "execution_count": 29,
     "metadata": {},
     "output_type": "execute_result"
    }
   ],
   "source": [
    "data.groupby('Star type')['Temperature (K)'].describe()"
   ]
  },
  {
   "cell_type": "code",
   "execution_count": 30,
   "id": "fd76f3d2",
   "metadata": {},
   "outputs": [
    {
     "data": {
      "image/png": "[encoded data removed]",
      "text/plain": [
       "<Figure size 720x720 with 1 Axes>"
      ]
     },
     "metadata": {
      "needs_background": "light"
     },
     "output_type": "display_data"
    }
   ],
   "source": [
    "scatter_plot('Star type', 'Temperature (K)')"
   ]
  },
  {
   "cell_type": "code",
   "execution_count": 31,
   "id": "4a57eb75",
   "metadata": {},
   "outputs": [
    {
     "name": "stdout",
     "output_type": "stream",
     "text": [
      "0.41112879277927034\n"
     ]
    }
   ],
   "source": [
    "print(data['Star type'].corr(data['Temperature (K)']))"
   ]
  },
  {
   "cell_type": "markdown",
   "id": "d7d95c2b",
   "metadata": {},
   "source": [
    "Явной корреляции между типом звезды и её температурой не наблюдается. Видим что при большом числе типа звезды, стандартное отклонение увеличивается, особенно сильное увеличение происходит между типами 2 и 3."
   ]
  },
  {
   "cell_type": "code",
   "execution_count": 32,
   "id": "49bb7046",
   "metadata": {},
   "outputs": [
    {
     "data": {
      "text/html": [
       "<div>\n",
       "<style scoped>\n",
       "    .dataframe tbody tr th:only-of-type {\n",
       "        vertical-align: middle;\n",
       "    }\n",
       "\n",
       "    .dataframe tbody tr th {\n",
       "        vertical-align: top;\n",
       "    }\n",
       "\n",
       "    .dataframe thead th {\n",
       "        text-align: right;\n",
       "    }\n",
       "</style>\n",
       "<table border=\"1\" class=\"dataframe\">\n",
       "  <thead>\n",
       "    <tr style=\"text-align: right;\">\n",
       "      <th></th>\n",
       "      <th>count</th>\n",
       "      <th>unique</th>\n",
       "      <th>top</th>\n",
       "      <th>freq</th>\n",
       "    </tr>\n",
       "    <tr>\n",
       "      <th>Star type</th>\n",
       "      <th></th>\n",
       "      <th></th>\n",
       "      <th></th>\n",
       "      <th></th>\n",
       "    </tr>\n",
       "  </thead>\n",
       "  <tbody>\n",
       "    <tr>\n",
       "      <th>0</th>\n",
       "      <td>40</td>\n",
       "      <td>1</td>\n",
       "      <td>red</td>\n",
       "      <td>40</td>\n",
       "    </tr>\n",
       "    <tr>\n",
       "      <th>1</th>\n",
       "      <td>40</td>\n",
       "      <td>1</td>\n",
       "      <td>red</td>\n",
       "      <td>40</td>\n",
       "    </tr>\n",
       "    <tr>\n",
       "      <th>2</th>\n",
       "      <td>40</td>\n",
       "      <td>3</td>\n",
       "      <td>blue white</td>\n",
       "      <td>29</td>\n",
       "    </tr>\n",
       "    <tr>\n",
       "      <th>3</th>\n",
       "      <td>40</td>\n",
       "      <td>6</td>\n",
       "      <td>blue white</td>\n",
       "      <td>18</td>\n",
       "    </tr>\n",
       "    <tr>\n",
       "      <th>4</th>\n",
       "      <td>40</td>\n",
       "      <td>7</td>\n",
       "      <td>blue white</td>\n",
       "      <td>21</td>\n",
       "    </tr>\n",
       "    <tr>\n",
       "      <th>5</th>\n",
       "      <td>40</td>\n",
       "      <td>6</td>\n",
       "      <td>red</td>\n",
       "      <td>17</td>\n",
       "    </tr>\n",
       "  </tbody>\n",
       "</table>\n",
       "</div>"
      ],
      "text/plain": [
       "          count unique         top freq\n",
       "Star type                              \n",
       "0            40      1         red   40\n",
       "1            40      1         red   40\n",
       "2            40      3  blue white   29\n",
       "3            40      6  blue white   18\n",
       "4            40      7  blue white   21\n",
       "5            40      6         red   17"
      ]
     },
     "execution_count": 32,
     "metadata": {},
     "output_type": "execute_result"
    }
   ],
   "source": [
    "data.groupby('Star type')['Star color'].describe()"
   ]
  },
  {
   "cell_type": "code",
   "execution_count": 33,
   "id": "68f31955",
   "metadata": {},
   "outputs": [
    {
     "data": {
      "image/png": "[encoded data removed]",
      "text/plain": [
       "<Figure size 720x720 with 1 Axes>"
      ]
     },
     "metadata": {
      "needs_background": "light"
     },
     "output_type": "display_data"
    }
   ],
   "source": [
    "scatter_plot('Star type', 'Star color')"
   ]
  },
  {
   "cell_type": "markdown",
   "id": "41b2bb04",
   "metadata": {},
   "source": [
    "У звезд с типами 0 и 1 цвет попадает только в одну категорию red. У остальных типов корреляция не наблюдается.\n",
    "\n",
    "Посмотрели на колонку `Star type`. Выяснили что увеличением номера типа звезды растут так же светимость и радиус, а абсолютная звездная величина падает. Явных связей с температурой и цветом не наблюдается.\n",
    "\n",
    "**Рассмотрим светимость.**"
   ]
  },
  {
   "cell_type": "code",
   "execution_count": 34,
   "id": "1676af46",
   "metadata": {},
   "outputs": [
    {
     "data": {
      "image/png": "[encoded data removed]",
      "text/plain": [
       "<Figure size 432x288 with 1 Axes>"
      ]
     },
     "metadata": {
      "needs_background": "light"
     },
     "output_type": "display_data"
    }
   ],
   "source": [
    "data['Luminosity(L/Lo)'].hist();"
   ]
  },
  {
   "cell_type": "code",
   "execution_count": 35,
   "id": "0d386472",
   "metadata": {},
   "outputs": [
    {
     "data": {
      "text/plain": [
       "count       240.000000\n",
       "mean     107188.361635\n",
       "std      179432.244940\n",
       "min           0.000080\n",
       "25%           0.000865\n",
       "50%           0.070500\n",
       "75%      198050.000000\n",
       "max      849420.000000\n",
       "Name: Luminosity(L/Lo), dtype: float64"
      ]
     },
     "execution_count": 35,
     "metadata": {},
     "output_type": "execute_result"
    }
   ],
   "source": [
    "data['Luminosity(L/Lo)'].describe()"
   ]
  },
  {
   "cell_type": "markdown",
   "id": "c7b9cd77",
   "metadata": {},
   "source": [
    "Большая часть значений имеет светимость меньше 1 L/Lo."
   ]
  },
  {
   "cell_type": "code",
   "execution_count": 36,
   "id": "6a6c2d4c",
   "metadata": {},
   "outputs": [
    {
     "data": {
      "image/png": "[encoded data removed]",
      "text/plain": [
       "<Figure size 720x720 with 1 Axes>"
      ]
     },
     "metadata": {
      "needs_background": "light"
     },
     "output_type": "display_data"
    }
   ],
   "source": [
    "scatter_plot('Luminosity(L/Lo)', 'Temperature (K)')"
   ]
  },
  {
   "cell_type": "code",
   "execution_count": 37,
   "id": "80d4e64d",
   "metadata": {},
   "outputs": [
    {
     "name": "stdout",
     "output_type": "stream",
     "text": [
      "0.39340407550976086\n"
     ]
    }
   ],
   "source": [
    "print(data['Luminosity(L/Lo)'].corr(data['Temperature (K)']))"
   ]
  },
  {
   "cell_type": "markdown",
   "id": "8427ee55",
   "metadata": {},
   "source": [
    "Корреляция между светимостью и температурой отсутствует."
   ]
  },
  {
   "cell_type": "code",
   "execution_count": 38,
   "id": "bd99debd",
   "metadata": {},
   "outputs": [
    {
     "data": {
      "image/png": "[encoded data removed]",
      "text/plain": [
       "<Figure size 720x720 with 1 Axes>"
      ]
     },
     "metadata": {
      "needs_background": "light"
     },
     "output_type": "display_data"
    }
   ],
   "source": [
    "scatter_plot('Luminosity(L/Lo)', 'Radius(R/Ro)')"
   ]
  },
  {
   "cell_type": "code",
   "execution_count": 39,
   "id": "66a8840a",
   "metadata": {},
   "outputs": [
    {
     "name": "stdout",
     "output_type": "stream",
     "text": [
      "0.5265157243480014\n"
     ]
    }
   ],
   "source": [
    "print(data['Luminosity(L/Lo)'].corr(data['Radius(R/Ro)']))"
   ]
  },
  {
   "cell_type": "markdown",
   "id": "25a7954f",
   "metadata": {},
   "source": [
    "Корреляция между светимостью и радиусом отсутствует."
   ]
  },
  {
   "cell_type": "code",
   "execution_count": 40,
   "id": "b075e526",
   "metadata": {},
   "outputs": [
    {
     "data": {
      "image/png": "[encoded data removed]",
      "text/plain": [
       "<Figure size 720x720 with 1 Axes>"
      ]
     },
     "metadata": {
      "needs_background": "light"
     },
     "output_type": "display_data"
    }
   ],
   "source": [
    "scatter_plot('Luminosity(L/Lo)', 'Absolute magnitude(Mv)')"
   ]
  },
  {
   "cell_type": "code",
   "execution_count": 41,
   "id": "774316ca",
   "metadata": {},
   "outputs": [
    {
     "name": "stdout",
     "output_type": "stream",
     "text": [
      "-0.6926192333999417\n"
     ]
    }
   ],
   "source": [
    "print(data['Luminosity(L/Lo)'].corr(data['Absolute magnitude(Mv)']))"
   ]
  },
  {
   "cell_type": "markdown",
   "id": "07f0a78d",
   "metadata": {},
   "source": [
    "Присутствует корреляция между светимостью и абсолютной звездной величиной. При большей светомости абсолютная зведная величина уменьшается, а так же увеличивается разброс значений."
   ]
  },
  {
   "cell_type": "code",
   "execution_count": 42,
   "id": "3e4639cc",
   "metadata": {},
   "outputs": [
    {
     "data": {
      "text/html": [
       "<div>\n",
       "<style scoped>\n",
       "    .dataframe tbody tr th:only-of-type {\n",
       "        vertical-align: middle;\n",
       "    }\n",
       "\n",
       "    .dataframe tbody tr th {\n",
       "        vertical-align: top;\n",
       "    }\n",
       "\n",
       "    .dataframe thead th {\n",
       "        text-align: right;\n",
       "    }\n",
       "</style>\n",
       "<table border=\"1\" class=\"dataframe\">\n",
       "  <thead>\n",
       "    <tr style=\"text-align: right;\">\n",
       "      <th></th>\n",
       "      <th>count</th>\n",
       "      <th>mean</th>\n",
       "      <th>std</th>\n",
       "      <th>min</th>\n",
       "      <th>25%</th>\n",
       "      <th>50%</th>\n",
       "      <th>75%</th>\n",
       "      <th>max</th>\n",
       "    </tr>\n",
       "    <tr>\n",
       "      <th>Star color</th>\n",
       "      <th></th>\n",
       "      <th></th>\n",
       "      <th></th>\n",
       "      <th></th>\n",
       "      <th></th>\n",
       "      <th></th>\n",
       "      <th></th>\n",
       "      <th></th>\n",
       "    </tr>\n",
       "  </thead>\n",
       "  <tbody>\n",
       "    <tr>\n",
       "      <th>blue</th>\n",
       "      <td>14.0</td>\n",
       "      <td>359066.785714</td>\n",
       "      <td>231273.188015</td>\n",
       "      <td>173800.000000</td>\n",
       "      <td>203175.000000</td>\n",
       "      <td>256415.0000</td>\n",
       "      <td>369122.500</td>\n",
       "      <td>834042.0</td>\n",
       "    </tr>\n",
       "    <tr>\n",
       "      <th>blue white</th>\n",
       "      <td>76.0</td>\n",
       "      <td>129213.935440</td>\n",
       "      <td>204237.257033</td>\n",
       "      <td>0.000085</td>\n",
       "      <td>0.001243</td>\n",
       "      <td>2999.0000</td>\n",
       "      <td>223445.000</td>\n",
       "      <td>849420.0</td>\n",
       "    </tr>\n",
       "    <tr>\n",
       "      <th>orange</th>\n",
       "      <td>12.0</td>\n",
       "      <td>218833.435417</td>\n",
       "      <td>209332.517242</td>\n",
       "      <td>0.085000</td>\n",
       "      <td>0.561750</td>\n",
       "      <td>204500.0000</td>\n",
       "      <td>282250.000</td>\n",
       "      <td>630000.0</td>\n",
       "    </tr>\n",
       "    <tr>\n",
       "      <th>red</th>\n",
       "      <td>105.0</td>\n",
       "      <td>48609.526133</td>\n",
       "      <td>96057.122767</td>\n",
       "      <td>0.000138</td>\n",
       "      <td>0.000600</td>\n",
       "      <td>0.0018</td>\n",
       "      <td>0.022</td>\n",
       "      <td>363000.0</td>\n",
       "    </tr>\n",
       "    <tr>\n",
       "      <th>white</th>\n",
       "      <td>21.0</td>\n",
       "      <td>121095.470159</td>\n",
       "      <td>206469.374473</td>\n",
       "      <td>0.000110</td>\n",
       "      <td>0.000500</td>\n",
       "      <td>9.2500</td>\n",
       "      <td>239000.000</td>\n",
       "      <td>593900.0</td>\n",
       "    </tr>\n",
       "    <tr>\n",
       "      <th>yellow</th>\n",
       "      <td>5.0</td>\n",
       "      <td>49000.715200</td>\n",
       "      <td>109566.931089</td>\n",
       "      <td>0.590000</td>\n",
       "      <td>0.810000</td>\n",
       "      <td>0.8190</td>\n",
       "      <td>1.357</td>\n",
       "      <td>245000.0</td>\n",
       "    </tr>\n",
       "    <tr>\n",
       "      <th>yellow white</th>\n",
       "      <td>7.0</td>\n",
       "      <td>51428.968649</td>\n",
       "      <td>92274.435147</td>\n",
       "      <td>0.000080</td>\n",
       "      <td>0.000230</td>\n",
       "      <td>1.3500</td>\n",
       "      <td>65500.715</td>\n",
       "      <td>229000.0</td>\n",
       "    </tr>\n",
       "  </tbody>\n",
       "</table>\n",
       "</div>"
      ],
      "text/plain": [
       "              count           mean            std            min  \\\n",
       "Star color                                                         \n",
       "blue           14.0  359066.785714  231273.188015  173800.000000   \n",
       "blue white     76.0  129213.935440  204237.257033       0.000085   \n",
       "orange         12.0  218833.435417  209332.517242       0.085000   \n",
       "red           105.0   48609.526133   96057.122767       0.000138   \n",
       "white          21.0  121095.470159  206469.374473       0.000110   \n",
       "yellow          5.0   49000.715200  109566.931089       0.590000   \n",
       "yellow white    7.0   51428.968649   92274.435147       0.000080   \n",
       "\n",
       "                        25%          50%         75%       max  \n",
       "Star color                                                      \n",
       "blue          203175.000000  256415.0000  369122.500  834042.0  \n",
       "blue white         0.001243    2999.0000  223445.000  849420.0  \n",
       "orange             0.561750  204500.0000  282250.000  630000.0  \n",
       "red                0.000600       0.0018       0.022  363000.0  \n",
       "white              0.000500       9.2500  239000.000  593900.0  \n",
       "yellow             0.810000       0.8190       1.357  245000.0  \n",
       "yellow white       0.000230       1.3500   65500.715  229000.0  "
      ]
     },
     "execution_count": 42,
     "metadata": {},
     "output_type": "execute_result"
    }
   ],
   "source": [
    "data.groupby('Star color')['Luminosity(L/Lo)'].describe()"
   ]
  },
  {
   "cell_type": "code",
   "execution_count": 43,
   "id": "9be3e4b5",
   "metadata": {},
   "outputs": [
    {
     "data": {
      "image/png": "[encoded data removed]",
      "text/plain": [
       "<Figure size 720x720 with 1 Axes>"
      ]
     },
     "metadata": {
      "needs_background": "light"
     },
     "output_type": "display_data"
    }
   ],
   "source": [
    "scatter_plot('Luminosity(L/Lo)', 'Star color')"
   ]
  },
  {
   "cell_type": "markdown",
   "id": "1377b576",
   "metadata": {},
   "source": [
    "Корреляция между цветом звезды и светимостью отсутствует. У звезд из категории blue минимальная светимость значительно превышает минимумы остальных."
   ]
  },
  {
   "cell_type": "markdown",
   "id": "62f93920",
   "metadata": {},
   "source": [
    "Посмотрели на колонку `Luminosity(L/Lo)`. Помимо корреляции с типом звезды, так же обнаружили корреляцию с абсолютной звездной величиной, с остальными признаками нет корреляции.\n",
    "\n",
    "**Рассмотрим радиус.**"
   ]
  },
  {
   "cell_type": "code",
   "execution_count": 44,
   "id": "3a0a716b",
   "metadata": {},
   "outputs": [
    {
     "data": {
      "image/png": "[encoded data removed]",
      "text/plain": [
       "<Figure size 432x288 with 1 Axes>"
      ]
     },
     "metadata": {
      "needs_background": "light"
     },
     "output_type": "display_data"
    }
   ],
   "source": [
    "data['Radius(R/Ro)'].hist();"
   ]
  },
  {
   "cell_type": "code",
   "execution_count": 45,
   "id": "727d25d5",
   "metadata": {},
   "outputs": [
    {
     "data": {
      "text/plain": [
       "count     240.000000\n",
       "mean      237.157781\n",
       "std       517.155763\n",
       "min         0.008400\n",
       "25%         0.102750\n",
       "50%         0.762500\n",
       "75%        42.750000\n",
       "max      1948.500000\n",
       "Name: Radius(R/Ro), dtype: float64"
      ]
     },
     "execution_count": 45,
     "metadata": {},
     "output_type": "execute_result"
    }
   ],
   "source": [
    "data['Radius(R/Ro)'].describe()"
   ]
  },
  {
   "cell_type": "markdown",
   "id": "a5d58b58",
   "metadata": {},
   "source": [
    "Большая часть значений имеет радиус меньше 1 R/Ro."
   ]
  },
  {
   "cell_type": "code",
   "execution_count": 46,
   "id": "8d51c1fc",
   "metadata": {},
   "outputs": [
    {
     "data": {
      "image/png": "[encoded data removed]",
      "text/plain": [
       "<Figure size 720x720 with 1 Axes>"
      ]
     },
     "metadata": {
      "needs_background": "light"
     },
     "output_type": "display_data"
    }
   ],
   "source": [
    "scatter_plot('Radius(R/Ro)', 'Temperature (K)')"
   ]
  },
  {
   "cell_type": "markdown",
   "id": "51bc591d",
   "metadata": {},
   "source": [
    "Связь между радиусом и температурой отсутствует."
   ]
  },
  {
   "cell_type": "code",
   "execution_count": 47,
   "id": "2bf23264",
   "metadata": {},
   "outputs": [
    {
     "data": {
      "image/png": "[encoded data removed]",
      "text/plain": [
       "<Figure size 720x720 with 1 Axes>"
      ]
     },
     "metadata": {
      "needs_background": "light"
     },
     "output_type": "display_data"
    }
   ],
   "source": [
    "scatter_plot('Radius(R/Ro)', 'Absolute magnitude(Mv)')"
   ]
  },
  {
   "cell_type": "code",
   "execution_count": 48,
   "id": "df150ae2",
   "metadata": {},
   "outputs": [
    {
     "name": "stdout",
     "output_type": "stream",
     "text": [
      "-0.6087282328465596\n"
     ]
    }
   ],
   "source": [
    "print(data['Radius(R/Ro)'].corr(data['Absolute magnitude(Mv)']))"
   ]
  },
  {
   "cell_type": "markdown",
   "id": "816aa930",
   "metadata": {},
   "source": [
    "Присутствет связь между радиусом и абсолютной зведной величиной. У звезд с большим радиусом абсолютная звездная величина всегда малая."
   ]
  },
  {
   "cell_type": "code",
   "execution_count": 49,
   "id": "1475f3f7",
   "metadata": {},
   "outputs": [
    {
     "data": {
      "text/html": [
       "<div>\n",
       "<style scoped>\n",
       "    .dataframe tbody tr th:only-of-type {\n",
       "        vertical-align: middle;\n",
       "    }\n",
       "\n",
       "    .dataframe tbody tr th {\n",
       "        vertical-align: top;\n",
       "    }\n",
       "\n",
       "    .dataframe thead th {\n",
       "        text-align: right;\n",
       "    }\n",
       "</style>\n",
       "<table border=\"1\" class=\"dataframe\">\n",
       "  <thead>\n",
       "    <tr style=\"text-align: right;\">\n",
       "      <th></th>\n",
       "      <th>count</th>\n",
       "      <th>mean</th>\n",
       "      <th>std</th>\n",
       "      <th>min</th>\n",
       "      <th>25%</th>\n",
       "      <th>50%</th>\n",
       "      <th>75%</th>\n",
       "      <th>max</th>\n",
       "    </tr>\n",
       "    <tr>\n",
       "      <th>Star color</th>\n",
       "      <th></th>\n",
       "      <th></th>\n",
       "      <th></th>\n",
       "      <th></th>\n",
       "      <th></th>\n",
       "      <th></th>\n",
       "      <th></th>\n",
       "      <th></th>\n",
       "    </tr>\n",
       "  </thead>\n",
       "  <tbody>\n",
       "    <tr>\n",
       "      <th>blue</th>\n",
       "      <td>14.0</td>\n",
       "      <td>556.913357</td>\n",
       "      <td>771.739425</td>\n",
       "      <td>6.23700</td>\n",
       "      <td>10.300000</td>\n",
       "      <td>20.000</td>\n",
       "      <td>1315.500</td>\n",
       "      <td>1948.5</td>\n",
       "    </tr>\n",
       "    <tr>\n",
       "      <th>blue white</th>\n",
       "      <td>76.0</td>\n",
       "      <td>151.118109</td>\n",
       "      <td>404.654440</td>\n",
       "      <td>0.00840</td>\n",
       "      <td>0.011275</td>\n",
       "      <td>6.120</td>\n",
       "      <td>48.750</td>\n",
       "      <td>1779.0</td>\n",
       "    </tr>\n",
       "    <tr>\n",
       "      <th>orange</th>\n",
       "      <td>12.0</td>\n",
       "      <td>770.138833</td>\n",
       "      <td>696.313249</td>\n",
       "      <td>0.79500</td>\n",
       "      <td>1.066500</td>\n",
       "      <td>1069.000</td>\n",
       "      <td>1317.250</td>\n",
       "      <td>1648.0</td>\n",
       "    </tr>\n",
       "    <tr>\n",
       "      <th>red</th>\n",
       "      <td>105.0</td>\n",
       "      <td>228.698347</td>\n",
       "      <td>518.262345</td>\n",
       "      <td>0.05700</td>\n",
       "      <td>0.116000</td>\n",
       "      <td>0.258</td>\n",
       "      <td>0.675</td>\n",
       "      <td>1673.0</td>\n",
       "    </tr>\n",
       "    <tr>\n",
       "      <th>white</th>\n",
       "      <td>21.0</td>\n",
       "      <td>132.717610</td>\n",
       "      <td>381.406517</td>\n",
       "      <td>0.00878</td>\n",
       "      <td>0.010900</td>\n",
       "      <td>1.910</td>\n",
       "      <td>24.000</td>\n",
       "      <td>1423.0</td>\n",
       "    </tr>\n",
       "    <tr>\n",
       "      <th>yellow</th>\n",
       "      <td>5.0</td>\n",
       "      <td>20.181200</td>\n",
       "      <td>42.943094</td>\n",
       "      <td>0.90000</td>\n",
       "      <td>0.910000</td>\n",
       "      <td>0.990</td>\n",
       "      <td>1.106</td>\n",
       "      <td>97.0</td>\n",
       "    </tr>\n",
       "    <tr>\n",
       "      <th>yellow white</th>\n",
       "      <td>7.0</td>\n",
       "      <td>213.305143</td>\n",
       "      <td>552.897463</td>\n",
       "      <td>0.01100</td>\n",
       "      <td>0.012500</td>\n",
       "      <td>0.980</td>\n",
       "      <td>12.560</td>\n",
       "      <td>1467.0</td>\n",
       "    </tr>\n",
       "  </tbody>\n",
       "</table>\n",
       "</div>"
      ],
      "text/plain": [
       "              count        mean         std      min        25%       50%  \\\n",
       "Star color                                                                  \n",
       "blue           14.0  556.913357  771.739425  6.23700  10.300000    20.000   \n",
       "blue white     76.0  151.118109  404.654440  0.00840   0.011275     6.120   \n",
       "orange         12.0  770.138833  696.313249  0.79500   1.066500  1069.000   \n",
       "red           105.0  228.698347  518.262345  0.05700   0.116000     0.258   \n",
       "white          21.0  132.717610  381.406517  0.00878   0.010900     1.910   \n",
       "yellow          5.0   20.181200   42.943094  0.90000   0.910000     0.990   \n",
       "yellow white    7.0  213.305143  552.897463  0.01100   0.012500     0.980   \n",
       "\n",
       "                   75%     max  \n",
       "Star color                      \n",
       "blue          1315.500  1948.5  \n",
       "blue white      48.750  1779.0  \n",
       "orange        1317.250  1648.0  \n",
       "red              0.675  1673.0  \n",
       "white           24.000  1423.0  \n",
       "yellow           1.106    97.0  \n",
       "yellow white    12.560  1467.0  "
      ]
     },
     "execution_count": 49,
     "metadata": {},
     "output_type": "execute_result"
    }
   ],
   "source": [
    "data.groupby('Star color')['Radius(R/Ro)'].describe()"
   ]
  },
  {
   "cell_type": "code",
   "execution_count": 50,
   "id": "d540284e",
   "metadata": {},
   "outputs": [
    {
     "data": {
      "image/png": "[encoded data removed]",
      "text/plain": [
       "<Figure size 720x720 with 1 Axes>"
      ]
     },
     "metadata": {
      "needs_background": "light"
     },
     "output_type": "display_data"
    }
   ],
   "source": [
    "scatter_plot('Radius(R/Ro)', 'Star color')"
   ]
  },
  {
   "cell_type": "markdown",
   "id": "0fcb050f",
   "metadata": {},
   "source": [
    "Связи между радиусом и цветом звезды нет.\n",
    "\n",
    "Посмотрели на колонку `Radius(R/Ro)`. Помимо корреляции с типом звезды, так же обнаружили корреляцию с абсолютной звездной величиной, с остальными признаками нет корреляции.\n",
    "\n",
    "**Рассмотрим абсолютную звездную величину.**"
   ]
  },
  {
   "cell_type": "code",
   "execution_count": 51,
   "id": "7a665399",
   "metadata": {},
   "outputs": [
    {
     "data": {
      "image/png": "[encoded data removed]",
      "text/plain": [
       "<Figure size 432x288 with 1 Axes>"
      ]
     },
     "metadata": {
      "needs_background": "light"
     },
     "output_type": "display_data"
    }
   ],
   "source": [
    "data['Absolute magnitude(Mv)'].hist();"
   ]
  },
  {
   "cell_type": "code",
   "execution_count": 52,
   "id": "fb03af61",
   "metadata": {},
   "outputs": [
    {
     "data": {
      "text/plain": [
       "count    240.000000\n",
       "mean       4.382396\n",
       "std       10.532512\n",
       "min      -11.920000\n",
       "25%       -6.232500\n",
       "50%        8.313000\n",
       "75%       13.697500\n",
       "max       20.060000\n",
       "Name: Absolute magnitude(Mv), dtype: float64"
      ]
     },
     "execution_count": 52,
     "metadata": {},
     "output_type": "execute_result"
    }
   ],
   "source": [
    "data['Absolute magnitude(Mv)'].describe()"
   ]
  },
  {
   "cell_type": "markdown",
   "id": "2e9984da",
   "metadata": {},
   "source": [
    "Распределение абсолютной звездной величины бимодальное с пиками в районе -6 Mv и 13 Mv."
   ]
  },
  {
   "cell_type": "code",
   "execution_count": 53,
   "id": "2df2f69a",
   "metadata": {},
   "outputs": [
    {
     "data": {
      "image/png": "[encoded data removed]",
      "text/plain": [
       "<Figure size 720x720 with 1 Axes>"
      ]
     },
     "metadata": {
      "needs_background": "light"
     },
     "output_type": "display_data"
    }
   ],
   "source": [
    "scatter_plot('Absolute magnitude(Mv)', 'Temperature (K)')"
   ]
  },
  {
   "cell_type": "markdown",
   "id": "58689366",
   "metadata": {},
   "source": [
    "Явной зависимости между температурой и абсолютной величиной нет."
   ]
  },
  {
   "cell_type": "code",
   "execution_count": 54,
   "id": "ca4cfa60",
   "metadata": {},
   "outputs": [
    {
     "data": {
      "text/html": [
       "<div>\n",
       "<style scoped>\n",
       "    .dataframe tbody tr th:only-of-type {\n",
       "        vertical-align: middle;\n",
       "    }\n",
       "\n",
       "    .dataframe tbody tr th {\n",
       "        vertical-align: top;\n",
       "    }\n",
       "\n",
       "    .dataframe thead th {\n",
       "        text-align: right;\n",
       "    }\n",
       "</style>\n",
       "<table border=\"1\" class=\"dataframe\">\n",
       "  <thead>\n",
       "    <tr style=\"text-align: right;\">\n",
       "      <th></th>\n",
       "      <th>count</th>\n",
       "      <th>mean</th>\n",
       "      <th>std</th>\n",
       "      <th>min</th>\n",
       "      <th>25%</th>\n",
       "      <th>50%</th>\n",
       "      <th>75%</th>\n",
       "      <th>max</th>\n",
       "    </tr>\n",
       "    <tr>\n",
       "      <th>Star color</th>\n",
       "      <th></th>\n",
       "      <th></th>\n",
       "      <th></th>\n",
       "      <th></th>\n",
       "      <th></th>\n",
       "      <th></th>\n",
       "      <th></th>\n",
       "      <th></th>\n",
       "    </tr>\n",
       "  </thead>\n",
       "  <tbody>\n",
       "    <tr>\n",
       "      <th>blue</th>\n",
       "      <td>14.0</td>\n",
       "      <td>-6.835714</td>\n",
       "      <td>2.418021</td>\n",
       "      <td>-10.84</td>\n",
       "      <td>-8.9175</td>\n",
       "      <td>-6.165</td>\n",
       "      <td>-4.6025</td>\n",
       "      <td>-4.360</td>\n",
       "    </tr>\n",
       "    <tr>\n",
       "      <th>blue white</th>\n",
       "      <td>76.0</td>\n",
       "      <td>1.332211</td>\n",
       "      <td>8.618058</td>\n",
       "      <td>-9.90</td>\n",
       "      <td>-6.0975</td>\n",
       "      <td>-2.860</td>\n",
       "      <td>11.5450</td>\n",
       "      <td>13.670</td>\n",
       "    </tr>\n",
       "    <tr>\n",
       "      <th>orange</th>\n",
       "      <td>12.0</td>\n",
       "      <td>-4.345500</td>\n",
       "      <td>7.447699</td>\n",
       "      <td>-11.39</td>\n",
       "      <td>-9.5750</td>\n",
       "      <td>-7.840</td>\n",
       "      <td>4.7050</td>\n",
       "      <td>6.506</td>\n",
       "    </tr>\n",
       "    <tr>\n",
       "      <th>red</th>\n",
       "      <td>105.0</td>\n",
       "      <td>9.357895</td>\n",
       "      <td>10.584353</td>\n",
       "      <td>-11.92</td>\n",
       "      <td>10.3400</td>\n",
       "      <td>13.450</td>\n",
       "      <td>16.9300</td>\n",
       "      <td>20.060</td>\n",
       "    </tr>\n",
       "    <tr>\n",
       "      <th>white</th>\n",
       "      <td>21.0</td>\n",
       "      <td>3.425905</td>\n",
       "      <td>9.607390</td>\n",
       "      <td>-11.23</td>\n",
       "      <td>-5.9900</td>\n",
       "      <td>1.450</td>\n",
       "      <td>14.0200</td>\n",
       "      <td>14.870</td>\n",
       "    </tr>\n",
       "    <tr>\n",
       "      <th>yellow</th>\n",
       "      <td>5.0</td>\n",
       "      <td>2.680000</td>\n",
       "      <td>5.217279</td>\n",
       "      <td>-6.63</td>\n",
       "      <td>4.4600</td>\n",
       "      <td>5.030</td>\n",
       "      <td>5.0500</td>\n",
       "      <td>5.490</td>\n",
       "    </tr>\n",
       "    <tr>\n",
       "      <th>yellow white</th>\n",
       "      <td>7.0</td>\n",
       "      <td>4.350000</td>\n",
       "      <td>10.285396</td>\n",
       "      <td>-10.07</td>\n",
       "      <td>-2.4050</td>\n",
       "      <td>2.930</td>\n",
       "      <td>14.0850</td>\n",
       "      <td>14.230</td>\n",
       "    </tr>\n",
       "  </tbody>\n",
       "</table>\n",
       "</div>"
      ],
      "text/plain": [
       "              count      mean        std    min      25%     50%      75%  \\\n",
       "Star color                                                                  \n",
       "blue           14.0 -6.835714   2.418021 -10.84  -8.9175  -6.165  -4.6025   \n",
       "blue white     76.0  1.332211   8.618058  -9.90  -6.0975  -2.860  11.5450   \n",
       "orange         12.0 -4.345500   7.447699 -11.39  -9.5750  -7.840   4.7050   \n",
       "red           105.0  9.357895  10.584353 -11.92  10.3400  13.450  16.9300   \n",
       "white          21.0  3.425905   9.607390 -11.23  -5.9900   1.450  14.0200   \n",
       "yellow          5.0  2.680000   5.217279  -6.63   4.4600   5.030   5.0500   \n",
       "yellow white    7.0  4.350000  10.285396 -10.07  -2.4050   2.930  14.0850   \n",
       "\n",
       "                 max  \n",
       "Star color            \n",
       "blue          -4.360  \n",
       "blue white    13.670  \n",
       "orange         6.506  \n",
       "red           20.060  \n",
       "white         14.870  \n",
       "yellow         5.490  \n",
       "yellow white  14.230  "
      ]
     },
     "execution_count": 54,
     "metadata": {},
     "output_type": "execute_result"
    }
   ],
   "source": [
    "data.groupby('Star color')['Absolute magnitude(Mv)'].describe()"
   ]
  },
  {
   "cell_type": "code",
   "execution_count": 55,
   "id": "b74ee530",
   "metadata": {},
   "outputs": [
    {
     "data": {
      "image/png": "[encoded data removed]",
      "text/plain": [
       "<Figure size 720x720 with 1 Axes>"
      ]
     },
     "metadata": {
      "needs_background": "light"
     },
     "output_type": "display_data"
    }
   ],
   "source": [
    "scatter_plot('Absolute magnitude(Mv)', 'Star color')"
   ]
  },
  {
   "cell_type": "markdown",
   "id": "600a4278",
   "metadata": {},
   "source": [
    "В целом у красных звезд абсолютная величина больше чем у других категорий, в то время как у синих наоборот."
   ]
  },
  {
   "cell_type": "markdown",
   "id": "d1f6ffc0",
   "metadata": {},
   "source": [
    "<a id='new_data'></a>\n",
    "### Добавление данных"
   ]
  },
  {
   "cell_type": "markdown",
   "id": "54c63a1c",
   "metadata": {},
   "source": [
    "Используя имеющиеся данные мы можем расширить наш датасет добавив в него дополнительные колонки. Для начала запишем нужные нам константы."
   ]
  },
  {
   "cell_type": "code",
   "execution_count": 56,
   "id": "ff8bec2d",
   "metadata": {},
   "outputs": [],
   "source": [
    "stefan_boltzmann_constant = 5.670374e-8  # Постоянная Стефана — Больцмана W/(m^2*K^4)\n",
    "luminosity_constant = 3.828e26  # Светимость солнца (Ватты)\n",
    "solar_radius_constant = 6.9551e8  # Радиус солнца (метры)\n",
    "mass_of_the_sun =  1.989e30 #  Масса солнца (kg)\n",
    "G = 6.67430e-11 # Гравитационная постоянная"
   ]
  },
  {
   "cell_type": "markdown",
   "id": "e3a7e543",
   "metadata": {},
   "source": [
    "Преобразуем светимость и радиус в другие единицы измерения (Ватты и метры), они нам понадобятся для расчётов. Перемножив L/Lo на светимость солнца и R/Ro на радиус солнца мы получим нужные величины. Напишем функцию которая добавит в датасет светимость и радиус в нужных нам единицах измерения."
   ]
  },
  {
   "cell_type": "code",
   "execution_count": 57,
   "id": "affb58f7",
   "metadata": {},
   "outputs": [],
   "source": [
    "data['Luminosity (Watts)'] = data['Luminosity(L/Lo)'] * luminosity_constant\n",
    "data['Radius (meters)'] = data['Radius(R/Ro)'] * solar_radius_constant"
   ]
  },
  {
   "cell_type": "code",
   "execution_count": 58,
   "id": "7effdc61",
   "metadata": {},
   "outputs": [
    {
     "data": {
      "text/html": [
       "<div>\n",
       "<style scoped>\n",
       "    .dataframe tbody tr th:only-of-type {\n",
       "        vertical-align: middle;\n",
       "    }\n",
       "\n",
       "    .dataframe tbody tr th {\n",
       "        vertical-align: top;\n",
       "    }\n",
       "\n",
       "    .dataframe thead th {\n",
       "        text-align: right;\n",
       "    }\n",
       "</style>\n",
       "<table border=\"1\" class=\"dataframe\">\n",
       "  <thead>\n",
       "    <tr style=\"text-align: right;\">\n",
       "      <th></th>\n",
       "      <th>Temperature (K)</th>\n",
       "      <th>Luminosity(L/Lo)</th>\n",
       "      <th>Radius(R/Ro)</th>\n",
       "      <th>Absolute magnitude(Mv)</th>\n",
       "      <th>Star type</th>\n",
       "      <th>Star color</th>\n",
       "      <th>Luminosity (Watts)</th>\n",
       "      <th>Radius (meters)</th>\n",
       "    </tr>\n",
       "  </thead>\n",
       "  <tbody>\n",
       "    <tr>\n",
       "      <th>0</th>\n",
       "      <td>3068</td>\n",
       "      <td>0.002400</td>\n",
       "      <td>0.1700</td>\n",
       "      <td>16.12</td>\n",
       "      <td>0</td>\n",
       "      <td>red</td>\n",
       "      <td>9.187200e+23</td>\n",
       "      <td>1.182367e+08</td>\n",
       "    </tr>\n",
       "    <tr>\n",
       "      <th>1</th>\n",
       "      <td>3042</td>\n",
       "      <td>0.000500</td>\n",
       "      <td>0.1542</td>\n",
       "      <td>16.60</td>\n",
       "      <td>0</td>\n",
       "      <td>red</td>\n",
       "      <td>1.914000e+23</td>\n",
       "      <td>1.072476e+08</td>\n",
       "    </tr>\n",
       "    <tr>\n",
       "      <th>2</th>\n",
       "      <td>2600</td>\n",
       "      <td>0.000300</td>\n",
       "      <td>0.1020</td>\n",
       "      <td>18.70</td>\n",
       "      <td>0</td>\n",
       "      <td>red</td>\n",
       "      <td>1.148400e+23</td>\n",
       "      <td>7.094202e+07</td>\n",
       "    </tr>\n",
       "    <tr>\n",
       "      <th>3</th>\n",
       "      <td>2800</td>\n",
       "      <td>0.000200</td>\n",
       "      <td>0.1600</td>\n",
       "      <td>16.65</td>\n",
       "      <td>0</td>\n",
       "      <td>red</td>\n",
       "      <td>7.656000e+22</td>\n",
       "      <td>1.112816e+08</td>\n",
       "    </tr>\n",
       "    <tr>\n",
       "      <th>4</th>\n",
       "      <td>1939</td>\n",
       "      <td>0.000138</td>\n",
       "      <td>0.1030</td>\n",
       "      <td>20.06</td>\n",
       "      <td>0</td>\n",
       "      <td>red</td>\n",
       "      <td>5.282640e+22</td>\n",
       "      <td>7.163753e+07</td>\n",
       "    </tr>\n",
       "    <tr>\n",
       "      <th>...</th>\n",
       "      <td>...</td>\n",
       "      <td>...</td>\n",
       "      <td>...</td>\n",
       "      <td>...</td>\n",
       "      <td>...</td>\n",
       "      <td>...</td>\n",
       "      <td>...</td>\n",
       "      <td>...</td>\n",
       "    </tr>\n",
       "    <tr>\n",
       "      <th>235</th>\n",
       "      <td>38940</td>\n",
       "      <td>374830.000000</td>\n",
       "      <td>1356.0000</td>\n",
       "      <td>-9.93</td>\n",
       "      <td>5</td>\n",
       "      <td>blue</td>\n",
       "      <td>1.434849e+32</td>\n",
       "      <td>9.431116e+11</td>\n",
       "    </tr>\n",
       "    <tr>\n",
       "      <th>236</th>\n",
       "      <td>30839</td>\n",
       "      <td>834042.000000</td>\n",
       "      <td>1194.0000</td>\n",
       "      <td>-10.63</td>\n",
       "      <td>5</td>\n",
       "      <td>blue</td>\n",
       "      <td>3.192713e+32</td>\n",
       "      <td>8.304389e+11</td>\n",
       "    </tr>\n",
       "    <tr>\n",
       "      <th>237</th>\n",
       "      <td>8829</td>\n",
       "      <td>537493.000000</td>\n",
       "      <td>1423.0000</td>\n",
       "      <td>-10.73</td>\n",
       "      <td>5</td>\n",
       "      <td>white</td>\n",
       "      <td>2.057523e+32</td>\n",
       "      <td>9.897107e+11</td>\n",
       "    </tr>\n",
       "    <tr>\n",
       "      <th>238</th>\n",
       "      <td>9235</td>\n",
       "      <td>404940.000000</td>\n",
       "      <td>1112.0000</td>\n",
       "      <td>-11.23</td>\n",
       "      <td>5</td>\n",
       "      <td>white</td>\n",
       "      <td>1.550110e+32</td>\n",
       "      <td>7.734071e+11</td>\n",
       "    </tr>\n",
       "    <tr>\n",
       "      <th>239</th>\n",
       "      <td>37882</td>\n",
       "      <td>294903.000000</td>\n",
       "      <td>1783.0000</td>\n",
       "      <td>-7.80</td>\n",
       "      <td>5</td>\n",
       "      <td>blue</td>\n",
       "      <td>1.128889e+32</td>\n",
       "      <td>1.240094e+12</td>\n",
       "    </tr>\n",
       "  </tbody>\n",
       "</table>\n",
       "<p>240 rows × 8 columns</p>\n",
       "</div>"
      ],
      "text/plain": [
       "     Temperature (K)  Luminosity(L/Lo)  Radius(R/Ro)  Absolute magnitude(Mv)  \\\n",
       "0               3068          0.002400        0.1700                   16.12   \n",
       "1               3042          0.000500        0.1542                   16.60   \n",
       "2               2600          0.000300        0.1020                   18.70   \n",
       "3               2800          0.000200        0.1600                   16.65   \n",
       "4               1939          0.000138        0.1030                   20.06   \n",
       "..               ...               ...           ...                     ...   \n",
       "235            38940     374830.000000     1356.0000                   -9.93   \n",
       "236            30839     834042.000000     1194.0000                  -10.63   \n",
       "237             8829     537493.000000     1423.0000                  -10.73   \n",
       "238             9235     404940.000000     1112.0000                  -11.23   \n",
       "239            37882     294903.000000     1783.0000                   -7.80   \n",
       "\n",
       "     Star type Star color  Luminosity (Watts)  Radius (meters)  \n",
       "0            0        red        9.187200e+23     1.182367e+08  \n",
       "1            0        red        1.914000e+23     1.072476e+08  \n",
       "2            0        red        1.148400e+23     7.094202e+07  \n",
       "3            0        red        7.656000e+22     1.112816e+08  \n",
       "4            0        red        5.282640e+22     7.163753e+07  \n",
       "..         ...        ...                 ...              ...  \n",
       "235          5       blue        1.434849e+32     9.431116e+11  \n",
       "236          5       blue        3.192713e+32     8.304389e+11  \n",
       "237          5      white        2.057523e+32     9.897107e+11  \n",
       "238          5      white        1.550110e+32     7.734071e+11  \n",
       "239          5       blue        1.128889e+32     1.240094e+12  \n",
       "\n",
       "[240 rows x 8 columns]"
      ]
     },
     "metadata": {},
     "output_type": "display_data"
    }
   ],
   "source": [
    "display(data)"
   ]
  },
  {
   "cell_type": "markdown",
   "id": "b767c2fc",
   "metadata": {},
   "source": [
    "Теперь мы можем приступить к добавлению данных, начнём с массы. Будем использовать \"Зависимость масса — светимость\" правило для расчёта примерной массы звезды. $L/L☉ = (M/M☉)^a$. $M/M☉$ это масса звезды поделённая на массу солнца. $a$ - значение которое может менятся для звёзд с различной массой, но для звезд главной последовательности (к ним принадлежат 90% звезд) значение обычно принимается за 3.5. Из этого следует: \n",
    "$$M/M☉ = (L/L☉)^{(1/3.5)}$$\n",
    "$$M = M☉ * (L/L☉)^{(1/3.5)}$$\n",
    "\n",
    "У нас есть все необходимые данные для использования данной формулы."
   ]
  },
  {
   "cell_type": "code",
   "execution_count": 59,
   "id": "086bc00e",
   "metadata": {},
   "outputs": [],
   "source": [
    "data['Mass (kg)'] = mass_of_the_sun * (data['Luminosity(L/Lo)'])**(1/3.5)"
   ]
  },
  {
   "cell_type": "code",
   "execution_count": 60,
   "id": "7439019b",
   "metadata": {},
   "outputs": [
    {
     "data": {
      "text/html": [
       "<div>\n",
       "<style scoped>\n",
       "    .dataframe tbody tr th:only-of-type {\n",
       "        vertical-align: middle;\n",
       "    }\n",
       "\n",
       "    .dataframe tbody tr th {\n",
       "        vertical-align: top;\n",
       "    }\n",
       "\n",
       "    .dataframe thead th {\n",
       "        text-align: right;\n",
       "    }\n",
       "</style>\n",
       "<table border=\"1\" class=\"dataframe\">\n",
       "  <thead>\n",
       "    <tr style=\"text-align: right;\">\n",
       "      <th></th>\n",
       "      <th>Temperature (K)</th>\n",
       "      <th>Luminosity(L/Lo)</th>\n",
       "      <th>Radius(R/Ro)</th>\n",
       "      <th>Absolute magnitude(Mv)</th>\n",
       "      <th>Star type</th>\n",
       "      <th>Star color</th>\n",
       "      <th>Luminosity (Watts)</th>\n",
       "      <th>Radius (meters)</th>\n",
       "      <th>Mass (kg)</th>\n",
       "    </tr>\n",
       "  </thead>\n",
       "  <tbody>\n",
       "    <tr>\n",
       "      <th>0</th>\n",
       "      <td>3068</td>\n",
       "      <td>0.002400</td>\n",
       "      <td>0.1700</td>\n",
       "      <td>16.12</td>\n",
       "      <td>0</td>\n",
       "      <td>red</td>\n",
       "      <td>9.187200e+23</td>\n",
       "      <td>1.182367e+08</td>\n",
       "      <td>3.549145e+29</td>\n",
       "    </tr>\n",
       "    <tr>\n",
       "      <th>1</th>\n",
       "      <td>3042</td>\n",
       "      <td>0.000500</td>\n",
       "      <td>0.1542</td>\n",
       "      <td>16.60</td>\n",
       "      <td>0</td>\n",
       "      <td>red</td>\n",
       "      <td>1.914000e+23</td>\n",
       "      <td>1.072476e+08</td>\n",
       "      <td>2.267166e+29</td>\n",
       "    </tr>\n",
       "    <tr>\n",
       "      <th>2</th>\n",
       "      <td>2600</td>\n",
       "      <td>0.000300</td>\n",
       "      <td>0.1020</td>\n",
       "      <td>18.70</td>\n",
       "      <td>0</td>\n",
       "      <td>red</td>\n",
       "      <td>1.148400e+23</td>\n",
       "      <td>7.094202e+07</td>\n",
       "      <td>1.959287e+29</td>\n",
       "    </tr>\n",
       "    <tr>\n",
       "      <th>3</th>\n",
       "      <td>2800</td>\n",
       "      <td>0.000200</td>\n",
       "      <td>0.1600</td>\n",
       "      <td>16.65</td>\n",
       "      <td>0</td>\n",
       "      <td>red</td>\n",
       "      <td>7.656000e+22</td>\n",
       "      <td>1.112816e+08</td>\n",
       "      <td>1.744963e+29</td>\n",
       "    </tr>\n",
       "    <tr>\n",
       "      <th>4</th>\n",
       "      <td>1939</td>\n",
       "      <td>0.000138</td>\n",
       "      <td>0.1030</td>\n",
       "      <td>20.06</td>\n",
       "      <td>0</td>\n",
       "      <td>red</td>\n",
       "      <td>5.282640e+22</td>\n",
       "      <td>7.163753e+07</td>\n",
       "      <td>1.569434e+29</td>\n",
       "    </tr>\n",
       "    <tr>\n",
       "      <th>...</th>\n",
       "      <td>...</td>\n",
       "      <td>...</td>\n",
       "      <td>...</td>\n",
       "      <td>...</td>\n",
       "      <td>...</td>\n",
       "      <td>...</td>\n",
       "      <td>...</td>\n",
       "      <td>...</td>\n",
       "      <td>...</td>\n",
       "    </tr>\n",
       "    <tr>\n",
       "      <th>235</th>\n",
       "      <td>38940</td>\n",
       "      <td>374830.000000</td>\n",
       "      <td>1356.0000</td>\n",
       "      <td>-9.93</td>\n",
       "      <td>5</td>\n",
       "      <td>blue</td>\n",
       "      <td>1.434849e+32</td>\n",
       "      <td>9.431116e+11</td>\n",
       "      <td>7.783212e+31</td>\n",
       "    </tr>\n",
       "    <tr>\n",
       "      <th>236</th>\n",
       "      <td>30839</td>\n",
       "      <td>834042.000000</td>\n",
       "      <td>1194.0000</td>\n",
       "      <td>-10.63</td>\n",
       "      <td>5</td>\n",
       "      <td>blue</td>\n",
       "      <td>3.192713e+32</td>\n",
       "      <td>8.304389e+11</td>\n",
       "      <td>9.781439e+31</td>\n",
       "    </tr>\n",
       "    <tr>\n",
       "      <th>237</th>\n",
       "      <td>8829</td>\n",
       "      <td>537493.000000</td>\n",
       "      <td>1423.0000</td>\n",
       "      <td>-10.73</td>\n",
       "      <td>5</td>\n",
       "      <td>white</td>\n",
       "      <td>2.057523e+32</td>\n",
       "      <td>9.897107e+11</td>\n",
       "      <td>8.627484e+31</td>\n",
       "    </tr>\n",
       "    <tr>\n",
       "      <th>238</th>\n",
       "      <td>9235</td>\n",
       "      <td>404940.000000</td>\n",
       "      <td>1112.0000</td>\n",
       "      <td>-11.23</td>\n",
       "      <td>5</td>\n",
       "      <td>white</td>\n",
       "      <td>1.550110e+32</td>\n",
       "      <td>7.734071e+11</td>\n",
       "      <td>7.956946e+31</td>\n",
       "    </tr>\n",
       "    <tr>\n",
       "      <th>239</th>\n",
       "      <td>37882</td>\n",
       "      <td>294903.000000</td>\n",
       "      <td>1783.0000</td>\n",
       "      <td>-7.80</td>\n",
       "      <td>5</td>\n",
       "      <td>blue</td>\n",
       "      <td>1.128889e+32</td>\n",
       "      <td>1.240094e+12</td>\n",
       "      <td>7.267755e+31</td>\n",
       "    </tr>\n",
       "  </tbody>\n",
       "</table>\n",
       "<p>240 rows × 9 columns</p>\n",
       "</div>"
      ],
      "text/plain": [
       "     Temperature (K)  Luminosity(L/Lo)  Radius(R/Ro)  Absolute magnitude(Mv)  \\\n",
       "0               3068          0.002400        0.1700                   16.12   \n",
       "1               3042          0.000500        0.1542                   16.60   \n",
       "2               2600          0.000300        0.1020                   18.70   \n",
       "3               2800          0.000200        0.1600                   16.65   \n",
       "4               1939          0.000138        0.1030                   20.06   \n",
       "..               ...               ...           ...                     ...   \n",
       "235            38940     374830.000000     1356.0000                   -9.93   \n",
       "236            30839     834042.000000     1194.0000                  -10.63   \n",
       "237             8829     537493.000000     1423.0000                  -10.73   \n",
       "238             9235     404940.000000     1112.0000                  -11.23   \n",
       "239            37882     294903.000000     1783.0000                   -7.80   \n",
       "\n",
       "     Star type Star color  Luminosity (Watts)  Radius (meters)     Mass (kg)  \n",
       "0            0        red        9.187200e+23     1.182367e+08  3.549145e+29  \n",
       "1            0        red        1.914000e+23     1.072476e+08  2.267166e+29  \n",
       "2            0        red        1.148400e+23     7.094202e+07  1.959287e+29  \n",
       "3            0        red        7.656000e+22     1.112816e+08  1.744963e+29  \n",
       "4            0        red        5.282640e+22     7.163753e+07  1.569434e+29  \n",
       "..         ...        ...                 ...              ...           ...  \n",
       "235          5       blue        1.434849e+32     9.431116e+11  7.783212e+31  \n",
       "236          5       blue        3.192713e+32     8.304389e+11  9.781439e+31  \n",
       "237          5      white        2.057523e+32     9.897107e+11  8.627484e+31  \n",
       "238          5      white        1.550110e+32     7.734071e+11  7.956946e+31  \n",
       "239          5       blue        1.128889e+32     1.240094e+12  7.267755e+31  \n",
       "\n",
       "[240 rows x 9 columns]"
      ]
     },
     "metadata": {},
     "output_type": "display_data"
    }
   ],
   "source": [
    "display(data)"
   ]
  },
  {
   "cell_type": "markdown",
   "id": "d08d1f37",
   "metadata": {},
   "source": [
    "Теперь когда мы знаем массу мы можем посчитать поверхностную гравитацию.\n",
    "$$g = \\frac{GM}{R^2}$$"
   ]
  },
  {
   "cell_type": "code",
   "execution_count": 61,
   "id": "3f75c06c",
   "metadata": {},
   "outputs": [],
   "source": [
    "data['Surface Gravity (m/s^2)'] = (G * data['Mass (kg)']) / (data['Radius (meters)'] ** 2)"
   ]
  },
  {
   "cell_type": "code",
   "execution_count": 62,
   "id": "edad36c8",
   "metadata": {},
   "outputs": [
    {
     "data": {
      "text/html": [
       "<div>\n",
       "<style scoped>\n",
       "    .dataframe tbody tr th:only-of-type {\n",
       "        vertical-align: middle;\n",
       "    }\n",
       "\n",
       "    .dataframe tbody tr th {\n",
       "        vertical-align: top;\n",
       "    }\n",
       "\n",
       "    .dataframe thead th {\n",
       "        text-align: right;\n",
       "    }\n",
       "</style>\n",
       "<table border=\"1\" class=\"dataframe\">\n",
       "  <thead>\n",
       "    <tr style=\"text-align: right;\">\n",
       "      <th></th>\n",
       "      <th>Temperature (K)</th>\n",
       "      <th>Luminosity(L/Lo)</th>\n",
       "      <th>Radius(R/Ro)</th>\n",
       "      <th>Absolute magnitude(Mv)</th>\n",
       "      <th>Star type</th>\n",
       "      <th>Star color</th>\n",
       "      <th>Luminosity (Watts)</th>\n",
       "      <th>Radius (meters)</th>\n",
       "      <th>Mass (kg)</th>\n",
       "      <th>Surface Gravity (m/s^2)</th>\n",
       "    </tr>\n",
       "  </thead>\n",
       "  <tbody>\n",
       "    <tr>\n",
       "      <th>0</th>\n",
       "      <td>3068</td>\n",
       "      <td>0.002400</td>\n",
       "      <td>0.1700</td>\n",
       "      <td>16.12</td>\n",
       "      <td>0</td>\n",
       "      <td>red</td>\n",
       "      <td>9.187200e+23</td>\n",
       "      <td>1.182367e+08</td>\n",
       "      <td>3.549145e+29</td>\n",
       "      <td>1694.434685</td>\n",
       "    </tr>\n",
       "    <tr>\n",
       "      <th>1</th>\n",
       "      <td>3042</td>\n",
       "      <td>0.000500</td>\n",
       "      <td>0.1542</td>\n",
       "      <td>16.60</td>\n",
       "      <td>0</td>\n",
       "      <td>red</td>\n",
       "      <td>1.914000e+23</td>\n",
       "      <td>1.072476e+08</td>\n",
       "      <td>2.267166e+29</td>\n",
       "      <td>1315.568829</td>\n",
       "    </tr>\n",
       "    <tr>\n",
       "      <th>2</th>\n",
       "      <td>2600</td>\n",
       "      <td>0.000300</td>\n",
       "      <td>0.1020</td>\n",
       "      <td>18.70</td>\n",
       "      <td>0</td>\n",
       "      <td>red</td>\n",
       "      <td>1.148400e+23</td>\n",
       "      <td>7.094202e+07</td>\n",
       "      <td>1.959287e+29</td>\n",
       "      <td>2598.343844</td>\n",
       "    </tr>\n",
       "    <tr>\n",
       "      <th>3</th>\n",
       "      <td>2800</td>\n",
       "      <td>0.000200</td>\n",
       "      <td>0.1600</td>\n",
       "      <td>16.65</td>\n",
       "      <td>0</td>\n",
       "      <td>red</td>\n",
       "      <td>7.656000e+22</td>\n",
       "      <td>1.112816e+08</td>\n",
       "      <td>1.744963e+29</td>\n",
       "      <td>940.470574</td>\n",
       "    </tr>\n",
       "    <tr>\n",
       "      <th>4</th>\n",
       "      <td>1939</td>\n",
       "      <td>0.000138</td>\n",
       "      <td>0.1030</td>\n",
       "      <td>20.06</td>\n",
       "      <td>0</td>\n",
       "      <td>red</td>\n",
       "      <td>5.282640e+22</td>\n",
       "      <td>7.163753e+07</td>\n",
       "      <td>1.569434e+29</td>\n",
       "      <td>2041.115640</td>\n",
       "    </tr>\n",
       "    <tr>\n",
       "      <th>...</th>\n",
       "      <td>...</td>\n",
       "      <td>...</td>\n",
       "      <td>...</td>\n",
       "      <td>...</td>\n",
       "      <td>...</td>\n",
       "      <td>...</td>\n",
       "      <td>...</td>\n",
       "      <td>...</td>\n",
       "      <td>...</td>\n",
       "      <td>...</td>\n",
       "    </tr>\n",
       "    <tr>\n",
       "      <th>235</th>\n",
       "      <td>38940</td>\n",
       "      <td>374830.000000</td>\n",
       "      <td>1356.0000</td>\n",
       "      <td>-9.93</td>\n",
       "      <td>5</td>\n",
       "      <td>blue</td>\n",
       "      <td>1.434849e+32</td>\n",
       "      <td>9.431116e+11</td>\n",
       "      <td>7.783212e+31</td>\n",
       "      <td>0.005840</td>\n",
       "    </tr>\n",
       "    <tr>\n",
       "      <th>236</th>\n",
       "      <td>30839</td>\n",
       "      <td>834042.000000</td>\n",
       "      <td>1194.0000</td>\n",
       "      <td>-10.63</td>\n",
       "      <td>5</td>\n",
       "      <td>blue</td>\n",
       "      <td>3.192713e+32</td>\n",
       "      <td>8.304389e+11</td>\n",
       "      <td>9.781439e+31</td>\n",
       "      <td>0.009467</td>\n",
       "    </tr>\n",
       "    <tr>\n",
       "      <th>237</th>\n",
       "      <td>8829</td>\n",
       "      <td>537493.000000</td>\n",
       "      <td>1423.0000</td>\n",
       "      <td>-10.73</td>\n",
       "      <td>5</td>\n",
       "      <td>white</td>\n",
       "      <td>2.057523e+32</td>\n",
       "      <td>9.897107e+11</td>\n",
       "      <td>8.627484e+31</td>\n",
       "      <td>0.005879</td>\n",
       "    </tr>\n",
       "    <tr>\n",
       "      <th>238</th>\n",
       "      <td>9235</td>\n",
       "      <td>404940.000000</td>\n",
       "      <td>1112.0000</td>\n",
       "      <td>-11.23</td>\n",
       "      <td>5</td>\n",
       "      <td>white</td>\n",
       "      <td>1.550110e+32</td>\n",
       "      <td>7.734071e+11</td>\n",
       "      <td>7.956946e+31</td>\n",
       "      <td>0.008878</td>\n",
       "    </tr>\n",
       "    <tr>\n",
       "      <th>239</th>\n",
       "      <td>37882</td>\n",
       "      <td>294903.000000</td>\n",
       "      <td>1783.0000</td>\n",
       "      <td>-7.80</td>\n",
       "      <td>5</td>\n",
       "      <td>blue</td>\n",
       "      <td>1.128889e+32</td>\n",
       "      <td>1.240094e+12</td>\n",
       "      <td>7.267755e+31</td>\n",
       "      <td>0.003154</td>\n",
       "    </tr>\n",
       "  </tbody>\n",
       "</table>\n",
       "<p>240 rows × 10 columns</p>\n",
       "</div>"
      ],
      "text/plain": [
       "     Temperature (K)  Luminosity(L/Lo)  Radius(R/Ro)  Absolute magnitude(Mv)  \\\n",
       "0               3068          0.002400        0.1700                   16.12   \n",
       "1               3042          0.000500        0.1542                   16.60   \n",
       "2               2600          0.000300        0.1020                   18.70   \n",
       "3               2800          0.000200        0.1600                   16.65   \n",
       "4               1939          0.000138        0.1030                   20.06   \n",
       "..               ...               ...           ...                     ...   \n",
       "235            38940     374830.000000     1356.0000                   -9.93   \n",
       "236            30839     834042.000000     1194.0000                  -10.63   \n",
       "237             8829     537493.000000     1423.0000                  -10.73   \n",
       "238             9235     404940.000000     1112.0000                  -11.23   \n",
       "239            37882     294903.000000     1783.0000                   -7.80   \n",
       "\n",
       "     Star type Star color  Luminosity (Watts)  Radius (meters)     Mass (kg)  \\\n",
       "0            0        red        9.187200e+23     1.182367e+08  3.549145e+29   \n",
       "1            0        red        1.914000e+23     1.072476e+08  2.267166e+29   \n",
       "2            0        red        1.148400e+23     7.094202e+07  1.959287e+29   \n",
       "3            0        red        7.656000e+22     1.112816e+08  1.744963e+29   \n",
       "4            0        red        5.282640e+22     7.163753e+07  1.569434e+29   \n",
       "..         ...        ...                 ...              ...           ...   \n",
       "235          5       blue        1.434849e+32     9.431116e+11  7.783212e+31   \n",
       "236          5       blue        3.192713e+32     8.304389e+11  9.781439e+31   \n",
       "237          5      white        2.057523e+32     9.897107e+11  8.627484e+31   \n",
       "238          5      white        1.550110e+32     7.734071e+11  7.956946e+31   \n",
       "239          5       blue        1.128889e+32     1.240094e+12  7.267755e+31   \n",
       "\n",
       "     Surface Gravity (m/s^2)  \n",
       "0                1694.434685  \n",
       "1                1315.568829  \n",
       "2                2598.343844  \n",
       "3                 940.470574  \n",
       "4                2041.115640  \n",
       "..                       ...  \n",
       "235                 0.005840  \n",
       "236                 0.009467  \n",
       "237                 0.005879  \n",
       "238                 0.008878  \n",
       "239                 0.003154  \n",
       "\n",
       "[240 rows x 10 columns]"
      ]
     },
     "metadata": {},
     "output_type": "display_data"
    }
   ],
   "source": [
    "display(data)"
   ]
  },
  {
   "cell_type": "markdown",
   "id": "893ace5a",
   "metadata": {},
   "source": [
    "Используя закон Стефана-Больцмана можем рассчитать эффективную температуру.\n",
    "$$\n",
    "Т_E = \\sqrt[4]\\frac{L}{(4 \\pi R^2 \\sigma)}\\\n",
    "$$\n",
    "\n",
    "$\\sigma$  — постоянная Стефана-Больцмана"
   ]
  },
  {
   "cell_type": "code",
   "execution_count": 63,
   "id": "c629db6f",
   "metadata": {},
   "outputs": [],
   "source": [
    "data['Effective Temperature (K)'] = np.power((data['Luminosity (Watts)']) \\\n",
    "                                               / (4 * np.pi * (data['Radius (meters)']**2) * stefan_boltzmann_constant), \\\n",
    "                                               1/4)"
   ]
  },
  {
   "cell_type": "code",
   "execution_count": 64,
   "id": "8ff99da6",
   "metadata": {},
   "outputs": [
    {
     "data": {
      "text/html": [
       "<div>\n",
       "<style scoped>\n",
       "    .dataframe tbody tr th:only-of-type {\n",
       "        vertical-align: middle;\n",
       "    }\n",
       "\n",
       "    .dataframe tbody tr th {\n",
       "        vertical-align: top;\n",
       "    }\n",
       "\n",
       "    .dataframe thead th {\n",
       "        text-align: right;\n",
       "    }\n",
       "</style>\n",
       "<table border=\"1\" class=\"dataframe\">\n",
       "  <thead>\n",
       "    <tr style=\"text-align: right;\">\n",
       "      <th></th>\n",
       "      <th>Temperature (K)</th>\n",
       "      <th>Luminosity(L/Lo)</th>\n",
       "      <th>Radius(R/Ro)</th>\n",
       "      <th>Absolute magnitude(Mv)</th>\n",
       "      <th>Star type</th>\n",
       "      <th>Star color</th>\n",
       "      <th>Luminosity (Watts)</th>\n",
       "      <th>Radius (meters)</th>\n",
       "      <th>Mass (kg)</th>\n",
       "      <th>Surface Gravity (m/s^2)</th>\n",
       "      <th>Effective Temperature (K)</th>\n",
       "    </tr>\n",
       "  </thead>\n",
       "  <tbody>\n",
       "    <tr>\n",
       "      <th>0</th>\n",
       "      <td>3068</td>\n",
       "      <td>0.002400</td>\n",
       "      <td>0.1700</td>\n",
       "      <td>16.12</td>\n",
       "      <td>0</td>\n",
       "      <td>red</td>\n",
       "      <td>9.187200e+23</td>\n",
       "      <td>1.182367e+08</td>\n",
       "      <td>3.549145e+29</td>\n",
       "      <td>1694.434685</td>\n",
       "      <td>3098.947727</td>\n",
       "    </tr>\n",
       "    <tr>\n",
       "      <th>1</th>\n",
       "      <td>3042</td>\n",
       "      <td>0.000500</td>\n",
       "      <td>0.1542</td>\n",
       "      <td>16.60</td>\n",
       "      <td>0</td>\n",
       "      <td>red</td>\n",
       "      <td>1.914000e+23</td>\n",
       "      <td>1.072476e+08</td>\n",
       "      <td>2.267166e+29</td>\n",
       "      <td>1315.568829</td>\n",
       "      <td>2198.296230</td>\n",
       "    </tr>\n",
       "    <tr>\n",
       "      <th>2</th>\n",
       "      <td>2600</td>\n",
       "      <td>0.000300</td>\n",
       "      <td>0.1020</td>\n",
       "      <td>18.70</td>\n",
       "      <td>0</td>\n",
       "      <td>red</td>\n",
       "      <td>1.148400e+23</td>\n",
       "      <td>7.094202e+07</td>\n",
       "      <td>1.959287e+29</td>\n",
       "      <td>2598.343844</td>\n",
       "      <td>2378.844908</td>\n",
       "    </tr>\n",
       "    <tr>\n",
       "      <th>3</th>\n",
       "      <td>2800</td>\n",
       "      <td>0.000200</td>\n",
       "      <td>0.1600</td>\n",
       "      <td>16.65</td>\n",
       "      <td>0</td>\n",
       "      <td>red</td>\n",
       "      <td>7.656000e+22</td>\n",
       "      <td>1.112816e+08</td>\n",
       "      <td>1.744963e+29</td>\n",
       "      <td>940.470574</td>\n",
       "      <td>1716.261295</td>\n",
       "    </tr>\n",
       "    <tr>\n",
       "      <th>4</th>\n",
       "      <td>1939</td>\n",
       "      <td>0.000138</td>\n",
       "      <td>0.1030</td>\n",
       "      <td>20.06</td>\n",
       "      <td>0</td>\n",
       "      <td>red</td>\n",
       "      <td>5.282640e+22</td>\n",
       "      <td>7.163753e+07</td>\n",
       "      <td>1.569434e+29</td>\n",
       "      <td>2041.115640</td>\n",
       "      <td>1949.562040</td>\n",
       "    </tr>\n",
       "    <tr>\n",
       "      <th>...</th>\n",
       "      <td>...</td>\n",
       "      <td>...</td>\n",
       "      <td>...</td>\n",
       "      <td>...</td>\n",
       "      <td>...</td>\n",
       "      <td>...</td>\n",
       "      <td>...</td>\n",
       "      <td>...</td>\n",
       "      <td>...</td>\n",
       "      <td>...</td>\n",
       "      <td>...</td>\n",
       "    </tr>\n",
       "    <tr>\n",
       "      <th>235</th>\n",
       "      <td>38940</td>\n",
       "      <td>374830.000000</td>\n",
       "      <td>1356.0000</td>\n",
       "      <td>-9.93</td>\n",
       "      <td>5</td>\n",
       "      <td>blue</td>\n",
       "      <td>1.434849e+32</td>\n",
       "      <td>9.431116e+11</td>\n",
       "      <td>7.783212e+31</td>\n",
       "      <td>0.005840</td>\n",
       "      <td>3878.954111</td>\n",
       "    </tr>\n",
       "    <tr>\n",
       "      <th>236</th>\n",
       "      <td>30839</td>\n",
       "      <td>834042.000000</td>\n",
       "      <td>1194.0000</td>\n",
       "      <td>-10.63</td>\n",
       "      <td>5</td>\n",
       "      <td>blue</td>\n",
       "      <td>3.192713e+32</td>\n",
       "      <td>8.304389e+11</td>\n",
       "      <td>9.781439e+31</td>\n",
       "      <td>0.009467</td>\n",
       "      <td>5048.713398</td>\n",
       "    </tr>\n",
       "    <tr>\n",
       "      <th>237</th>\n",
       "      <td>8829</td>\n",
       "      <td>537493.000000</td>\n",
       "      <td>1423.0000</td>\n",
       "      <td>-10.73</td>\n",
       "      <td>5</td>\n",
       "      <td>white</td>\n",
       "      <td>2.057523e+32</td>\n",
       "      <td>9.897107e+11</td>\n",
       "      <td>8.627484e+31</td>\n",
       "      <td>0.005879</td>\n",
       "      <td>4143.588833</td>\n",
       "    </tr>\n",
       "    <tr>\n",
       "      <th>238</th>\n",
       "      <td>9235</td>\n",
       "      <td>404940.000000</td>\n",
       "      <td>1112.0000</td>\n",
       "      <td>-11.23</td>\n",
       "      <td>5</td>\n",
       "      <td>white</td>\n",
       "      <td>1.550110e+32</td>\n",
       "      <td>7.734071e+11</td>\n",
       "      <td>7.956946e+31</td>\n",
       "      <td>0.008878</td>\n",
       "      <td>4366.979738</td>\n",
       "    </tr>\n",
       "    <tr>\n",
       "      <th>239</th>\n",
       "      <td>37882</td>\n",
       "      <td>294903.000000</td>\n",
       "      <td>1783.0000</td>\n",
       "      <td>-7.80</td>\n",
       "      <td>5</td>\n",
       "      <td>blue</td>\n",
       "      <td>1.128889e+32</td>\n",
       "      <td>1.240094e+12</td>\n",
       "      <td>7.267755e+31</td>\n",
       "      <td>0.003154</td>\n",
       "      <td>3185.884499</td>\n",
       "    </tr>\n",
       "  </tbody>\n",
       "</table>\n",
       "<p>240 rows × 11 columns</p>\n",
       "</div>"
      ],
      "text/plain": [
       "     Temperature (K)  Luminosity(L/Lo)  Radius(R/Ro)  Absolute magnitude(Mv)  \\\n",
       "0               3068          0.002400        0.1700                   16.12   \n",
       "1               3042          0.000500        0.1542                   16.60   \n",
       "2               2600          0.000300        0.1020                   18.70   \n",
       "3               2800          0.000200        0.1600                   16.65   \n",
       "4               1939          0.000138        0.1030                   20.06   \n",
       "..               ...               ...           ...                     ...   \n",
       "235            38940     374830.000000     1356.0000                   -9.93   \n",
       "236            30839     834042.000000     1194.0000                  -10.63   \n",
       "237             8829     537493.000000     1423.0000                  -10.73   \n",
       "238             9235     404940.000000     1112.0000                  -11.23   \n",
       "239            37882     294903.000000     1783.0000                   -7.80   \n",
       "\n",
       "     Star type Star color  Luminosity (Watts)  Radius (meters)     Mass (kg)  \\\n",
       "0            0        red        9.187200e+23     1.182367e+08  3.549145e+29   \n",
       "1            0        red        1.914000e+23     1.072476e+08  2.267166e+29   \n",
       "2            0        red        1.148400e+23     7.094202e+07  1.959287e+29   \n",
       "3            0        red        7.656000e+22     1.112816e+08  1.744963e+29   \n",
       "4            0        red        5.282640e+22     7.163753e+07  1.569434e+29   \n",
       "..         ...        ...                 ...              ...           ...   \n",
       "235          5       blue        1.434849e+32     9.431116e+11  7.783212e+31   \n",
       "236          5       blue        3.192713e+32     8.304389e+11  9.781439e+31   \n",
       "237          5      white        2.057523e+32     9.897107e+11  8.627484e+31   \n",
       "238          5      white        1.550110e+32     7.734071e+11  7.956946e+31   \n",
       "239          5       blue        1.128889e+32     1.240094e+12  7.267755e+31   \n",
       "\n",
       "     Surface Gravity (m/s^2)  Effective Temperature (K)  \n",
       "0                1694.434685                3098.947727  \n",
       "1                1315.568829                2198.296230  \n",
       "2                2598.343844                2378.844908  \n",
       "3                 940.470574                1716.261295  \n",
       "4                2041.115640                1949.562040  \n",
       "..                       ...                        ...  \n",
       "235                 0.005840                3878.954111  \n",
       "236                 0.009467                5048.713398  \n",
       "237                 0.005879                4143.588833  \n",
       "238                 0.008878                4366.979738  \n",
       "239                 0.003154                3185.884499  \n",
       "\n",
       "[240 rows x 11 columns]"
      ]
     },
     "metadata": {},
     "output_type": "display_data"
    }
   ],
   "source": [
    "display(data)"
   ]
  },
  {
   "cell_type": "markdown",
   "id": "f553a32d",
   "metadata": {},
   "source": [
    "Теперь когда мы добавили массу, поверхностную гравитацию и эффективную температуру, мы можем удалить колонки `Radius (meters)` и `Luminosity (Watts)`."
   ]
  },
  {
   "cell_type": "code",
   "execution_count": 65,
   "id": "3b089278",
   "metadata": {},
   "outputs": [],
   "source": [
    "data.drop(columns=['Radius (meters)', 'Luminosity (Watts)'], inplace=True)"
   ]
  },
  {
   "cell_type": "code",
   "execution_count": 66,
   "id": "21e0670d",
   "metadata": {},
   "outputs": [
    {
     "data": {
      "text/html": [
       "<div>\n",
       "<style scoped>\n",
       "    .dataframe tbody tr th:only-of-type {\n",
       "        vertical-align: middle;\n",
       "    }\n",
       "\n",
       "    .dataframe tbody tr th {\n",
       "        vertical-align: top;\n",
       "    }\n",
       "\n",
       "    .dataframe thead th {\n",
       "        text-align: right;\n",
       "    }\n",
       "</style>\n",
       "<table border=\"1\" class=\"dataframe\">\n",
       "  <thead>\n",
       "    <tr style=\"text-align: right;\">\n",
       "      <th></th>\n",
       "      <th>Temperature (K)</th>\n",
       "      <th>Luminosity(L/Lo)</th>\n",
       "      <th>Radius(R/Ro)</th>\n",
       "      <th>Absolute magnitude(Mv)</th>\n",
       "      <th>Star type</th>\n",
       "      <th>Star color</th>\n",
       "      <th>Mass (kg)</th>\n",
       "      <th>Surface Gravity (m/s^2)</th>\n",
       "      <th>Effective Temperature (K)</th>\n",
       "    </tr>\n",
       "  </thead>\n",
       "  <tbody>\n",
       "    <tr>\n",
       "      <th>0</th>\n",
       "      <td>3068</td>\n",
       "      <td>0.002400</td>\n",
       "      <td>0.1700</td>\n",
       "      <td>16.12</td>\n",
       "      <td>0</td>\n",
       "      <td>red</td>\n",
       "      <td>3.549145e+29</td>\n",
       "      <td>1694.434685</td>\n",
       "      <td>3098.947727</td>\n",
       "    </tr>\n",
       "    <tr>\n",
       "      <th>1</th>\n",
       "      <td>3042</td>\n",
       "      <td>0.000500</td>\n",
       "      <td>0.1542</td>\n",
       "      <td>16.60</td>\n",
       "      <td>0</td>\n",
       "      <td>red</td>\n",
       "      <td>2.267166e+29</td>\n",
       "      <td>1315.568829</td>\n",
       "      <td>2198.296230</td>\n",
       "    </tr>\n",
       "    <tr>\n",
       "      <th>2</th>\n",
       "      <td>2600</td>\n",
       "      <td>0.000300</td>\n",
       "      <td>0.1020</td>\n",
       "      <td>18.70</td>\n",
       "      <td>0</td>\n",
       "      <td>red</td>\n",
       "      <td>1.959287e+29</td>\n",
       "      <td>2598.343844</td>\n",
       "      <td>2378.844908</td>\n",
       "    </tr>\n",
       "    <tr>\n",
       "      <th>3</th>\n",
       "      <td>2800</td>\n",
       "      <td>0.000200</td>\n",
       "      <td>0.1600</td>\n",
       "      <td>16.65</td>\n",
       "      <td>0</td>\n",
       "      <td>red</td>\n",
       "      <td>1.744963e+29</td>\n",
       "      <td>940.470574</td>\n",
       "      <td>1716.261295</td>\n",
       "    </tr>\n",
       "    <tr>\n",
       "      <th>4</th>\n",
       "      <td>1939</td>\n",
       "      <td>0.000138</td>\n",
       "      <td>0.1030</td>\n",
       "      <td>20.06</td>\n",
       "      <td>0</td>\n",
       "      <td>red</td>\n",
       "      <td>1.569434e+29</td>\n",
       "      <td>2041.115640</td>\n",
       "      <td>1949.562040</td>\n",
       "    </tr>\n",
       "    <tr>\n",
       "      <th>...</th>\n",
       "      <td>...</td>\n",
       "      <td>...</td>\n",
       "      <td>...</td>\n",
       "      <td>...</td>\n",
       "      <td>...</td>\n",
       "      <td>...</td>\n",
       "      <td>...</td>\n",
       "      <td>...</td>\n",
       "      <td>...</td>\n",
       "    </tr>\n",
       "    <tr>\n",
       "      <th>235</th>\n",
       "      <td>38940</td>\n",
       "      <td>374830.000000</td>\n",
       "      <td>1356.0000</td>\n",
       "      <td>-9.93</td>\n",
       "      <td>5</td>\n",
       "      <td>blue</td>\n",
       "      <td>7.783212e+31</td>\n",
       "      <td>0.005840</td>\n",
       "      <td>3878.954111</td>\n",
       "    </tr>\n",
       "    <tr>\n",
       "      <th>236</th>\n",
       "      <td>30839</td>\n",
       "      <td>834042.000000</td>\n",
       "      <td>1194.0000</td>\n",
       "      <td>-10.63</td>\n",
       "      <td>5</td>\n",
       "      <td>blue</td>\n",
       "      <td>9.781439e+31</td>\n",
       "      <td>0.009467</td>\n",
       "      <td>5048.713398</td>\n",
       "    </tr>\n",
       "    <tr>\n",
       "      <th>237</th>\n",
       "      <td>8829</td>\n",
       "      <td>537493.000000</td>\n",
       "      <td>1423.0000</td>\n",
       "      <td>-10.73</td>\n",
       "      <td>5</td>\n",
       "      <td>white</td>\n",
       "      <td>8.627484e+31</td>\n",
       "      <td>0.005879</td>\n",
       "      <td>4143.588833</td>\n",
       "    </tr>\n",
       "    <tr>\n",
       "      <th>238</th>\n",
       "      <td>9235</td>\n",
       "      <td>404940.000000</td>\n",
       "      <td>1112.0000</td>\n",
       "      <td>-11.23</td>\n",
       "      <td>5</td>\n",
       "      <td>white</td>\n",
       "      <td>7.956946e+31</td>\n",
       "      <td>0.008878</td>\n",
       "      <td>4366.979738</td>\n",
       "    </tr>\n",
       "    <tr>\n",
       "      <th>239</th>\n",
       "      <td>37882</td>\n",
       "      <td>294903.000000</td>\n",
       "      <td>1783.0000</td>\n",
       "      <td>-7.80</td>\n",
       "      <td>5</td>\n",
       "      <td>blue</td>\n",
       "      <td>7.267755e+31</td>\n",
       "      <td>0.003154</td>\n",
       "      <td>3185.884499</td>\n",
       "    </tr>\n",
       "  </tbody>\n",
       "</table>\n",
       "<p>240 rows × 9 columns</p>\n",
       "</div>"
      ],
      "text/plain": [
       "     Temperature (K)  Luminosity(L/Lo)  Radius(R/Ro)  Absolute magnitude(Mv)  \\\n",
       "0               3068          0.002400        0.1700                   16.12   \n",
       "1               3042          0.000500        0.1542                   16.60   \n",
       "2               2600          0.000300        0.1020                   18.70   \n",
       "3               2800          0.000200        0.1600                   16.65   \n",
       "4               1939          0.000138        0.1030                   20.06   \n",
       "..               ...               ...           ...                     ...   \n",
       "235            38940     374830.000000     1356.0000                   -9.93   \n",
       "236            30839     834042.000000     1194.0000                  -10.63   \n",
       "237             8829     537493.000000     1423.0000                  -10.73   \n",
       "238             9235     404940.000000     1112.0000                  -11.23   \n",
       "239            37882     294903.000000     1783.0000                   -7.80   \n",
       "\n",
       "     Star type Star color     Mass (kg)  Surface Gravity (m/s^2)  \\\n",
       "0            0        red  3.549145e+29              1694.434685   \n",
       "1            0        red  2.267166e+29              1315.568829   \n",
       "2            0        red  1.959287e+29              2598.343844   \n",
       "3            0        red  1.744963e+29               940.470574   \n",
       "4            0        red  1.569434e+29              2041.115640   \n",
       "..         ...        ...           ...                      ...   \n",
       "235          5       blue  7.783212e+31                 0.005840   \n",
       "236          5       blue  9.781439e+31                 0.009467   \n",
       "237          5      white  8.627484e+31                 0.005879   \n",
       "238          5      white  7.956946e+31                 0.008878   \n",
       "239          5       blue  7.267755e+31                 0.003154   \n",
       "\n",
       "     Effective Temperature (K)  \n",
       "0                  3098.947727  \n",
       "1                  2198.296230  \n",
       "2                  2378.844908  \n",
       "3                  1716.261295  \n",
       "4                  1949.562040  \n",
       "..                         ...  \n",
       "235                3878.954111  \n",
       "236                5048.713398  \n",
       "237                4143.588833  \n",
       "238                4366.979738  \n",
       "239                3185.884499  \n",
       "\n",
       "[240 rows x 9 columns]"
      ]
     },
     "metadata": {},
     "output_type": "display_data"
    }
   ],
   "source": [
    "display(data)"
   ]
  },
  {
   "cell_type": "markdown",
   "id": "1dfcffcd",
   "metadata": {},
   "source": [
    "<a id='pre_analysis_conclusion'></a>\n",
    "### Выводы по предобработке и анализу данных\n",
    "\n",
    "Изучили предоставленные данные. \n",
    "- Скорректировали столбец с цветом звезды взяв за основу классификацию на 7 классов по температуре. \n",
    "- Удалили ненужный столбец который содержал индексы звёз и совпадал с индексами датафрейма.\n",
    "- Построили графики с корреляциями между признаками, выяснили что у типа звезды больше всего признаков с которыми он коррелирует, а у температуры меньше всего. Выяснили что в данных одинаковое колличество данных в каждом классе типов звезды - по 40.\n",
    "- На основе имеющихся данных произвели расчёты и добавили три новых признака: Массу, Поверхностную гравитацию и Эффективную температуру.\n",
    "\n",
    "Приступим к подготовке данных для нейронной сети."
   ]
  },
  {
   "cell_type": "markdown",
   "id": "funded-electric",
   "metadata": {},
   "source": [
    "<a id='baseline_nn'></a>\n",
    "## Построение базовой нейронной сети\n",
    "\n",
    "Зафиксируем случайные значения."
   ]
  },
  {
   "cell_type": "code",
   "execution_count": 67,
   "id": "1f1c5fbd",
   "metadata": {},
   "outputs": [
    {
     "data": {
      "text/plain": [
       "<torch._C.Generator at 0x193b3a0e430>"
      ]
     },
     "execution_count": 67,
     "metadata": {},
     "output_type": "execute_result"
    }
   ],
   "source": [
    "random.seed(42)\n",
    "np.random.seed(42)\n",
    "torch.manual_seed(42)"
   ]
  },
  {
   "cell_type": "markdown",
   "id": "f7f651e2",
   "metadata": {},
   "source": [
    "Выделим целевой признак."
   ]
  },
  {
   "cell_type": "code",
   "execution_count": 68,
   "id": "9825f1f1",
   "metadata": {},
   "outputs": [],
   "source": [
    "features = data.drop('Temperature (K)', axis=1)\n",
    "target = data['Temperature (K)']"
   ]
  },
  {
   "cell_type": "markdown",
   "id": "a6ddfcfb",
   "metadata": {},
   "source": [
    "Выделили целевой признак и положили его в переменную target. Остальные признака - в features. Разделим данные на выборки, тренировочную, валидационную и тестовую. Разделение произведём в соотношении 60% / 20% / 20%. 60 - тренировочная, 20 - валидационная, 20 - тестовая."
   ]
  },
  {
   "cell_type": "code",
   "execution_count": 71,
   "id": "4b89df91",
   "metadata": {},
   "outputs": [],
   "source": [
    "features_train, features_rest, target_train, target_rest = train_test_split(\n",
    "    features, target, train_size=0.6, random_state=42)"
   ]
  },
  {
   "cell_type": "code",
   "execution_count": 72,
   "id": "aeed0ea3",
   "metadata": {},
   "outputs": [
    {
     "name": "stdout",
     "output_type": "stream",
     "text": [
      "(144, 8)\n",
      "(96, 8)\n",
      "(144,)\n",
      "(96,)\n"
     ]
    }
   ],
   "source": [
    "print(features_train.shape)\n",
    "print(features_rest.shape)\n",
    "print(target_train.shape)\n",
    "print(target_rest.shape)"
   ]
  },
  {
   "cell_type": "code",
   "execution_count": 73,
   "id": "108583e2",
   "metadata": {},
   "outputs": [],
   "source": [
    "features_valid, features_test, target_valid, target_test = train_test_split(\n",
    "    features_rest, target_rest, train_size=0.5, random_state=42)"
   ]
  },
  {
   "cell_type": "code",
   "execution_count": 74,
   "id": "0b646544",
   "metadata": {},
   "outputs": [
    {
     "name": "stdout",
     "output_type": "stream",
     "text": [
      "(48, 8)\n",
      "(48, 8)\n",
      "(48,)\n",
      "(48,)\n"
     ]
    }
   ],
   "source": [
    "print(features_valid.shape)\n",
    "print(features_test.shape)\n",
    "print(target_valid.shape)\n",
    "print(target_test.shape)"
   ]
  },
  {
   "cell_type": "markdown",
   "id": "ca906a82",
   "metadata": {},
   "source": [
    "Данные разделили, размеры проверили, всё корректно.\n",
    "\n",
    "Преобразуем категориальные признаки в численные техникой прямого кодирование OHE. А также сделаем масштабирование численных признаков."
   ]
  },
  {
   "cell_type": "code",
   "execution_count": 76,
   "id": "5bfd3b0c",
   "metadata": {},
   "outputs": [],
   "source": [
    "categorical = features_train.select_dtypes(include=['object', 'int64']).columns.to_list()\n",
    "numeric = features_train.select_dtypes(include='float64').columns.to_list()"
   ]
  },
  {
   "cell_type": "code",
   "execution_count": 77,
   "id": "e5bd5791",
   "metadata": {},
   "outputs": [],
   "source": [
    "ohe_train = features_train.copy()\n",
    "ohe_valid = features_valid.copy()\n",
    "ohe_test = features_test.copy()"
   ]
  },
  {
   "cell_type": "code",
   "execution_count": 78,
   "id": "4b6a972d",
   "metadata": {},
   "outputs": [
    {
     "name": "stderr",
     "output_type": "stream",
     "text": [
      "C:\\Users\\Sasha\\anaconda3\\envs\\ds_practicum_env\\lib\\site-packages\\sklearn\\preprocessing\\_encoders.py:868: FutureWarning: `sparse` was renamed to `sparse_output` in version 1.2 and will be removed in 1.4. `sparse_output` is ignored unless you leave `sparse` to its default value.\n",
      "  warnings.warn(\n"
     ]
    }
   ],
   "source": [
    "ohe_encoder = OneHotEncoder(drop='first', handle_unknown='ignore', sparse=False)\n",
    "ohe_encoder.fit(ohe_train[categorical])\n",
    "\n",
    "ohe_train[ohe_encoder.get_feature_names_out()] = ohe_encoder.transform(ohe_train[categorical])\n",
    "ohe_train = ohe_train.drop(categorical, axis=1)\n",
    "ohe_valid[ohe_encoder.get_feature_names_out()] = ohe_encoder.transform(ohe_valid[categorical])\n",
    "ohe_valid = ohe_valid.drop(categorical, axis=1)\n",
    "ohe_test[ohe_encoder.get_feature_names_out()] = ohe_encoder.transform(ohe_test[categorical])\n",
    "ohe_test = ohe_test.drop(categorical, axis=1)"
   ]
  },
  {
   "cell_type": "code",
   "execution_count": 79,
   "id": "a9f30330",
   "metadata": {},
   "outputs": [],
   "source": [
    "ohe_scaler = StandardScaler()\n",
    "ohe_train[numeric] = ohe_scaler.fit_transform(ohe_train[numeric])\n",
    "ohe_valid[numeric] = ohe_scaler.transform(ohe_valid[numeric])\n",
    "ohe_test[numeric] = ohe_scaler.transform(ohe_test[numeric])"
   ]
  },
  {
   "cell_type": "code",
   "execution_count": 81,
   "id": "7b6261bd",
   "metadata": {},
   "outputs": [
    {
     "data": {
      "text/html": [
       "<div>\n",
       "<style scoped>\n",
       "    .dataframe tbody tr th:only-of-type {\n",
       "        vertical-align: middle;\n",
       "    }\n",
       "\n",
       "    .dataframe tbody tr th {\n",
       "        vertical-align: top;\n",
       "    }\n",
       "\n",
       "    .dataframe thead th {\n",
       "        text-align: right;\n",
       "    }\n",
       "</style>\n",
       "<table border=\"1\" class=\"dataframe\">\n",
       "  <thead>\n",
       "    <tr style=\"text-align: right;\">\n",
       "      <th></th>\n",
       "      <th>Luminosity(L/Lo)</th>\n",
       "      <th>Radius(R/Ro)</th>\n",
       "      <th>Absolute magnitude(Mv)</th>\n",
       "      <th>Mass (kg)</th>\n",
       "      <th>Surface Gravity (m/s^2)</th>\n",
       "      <th>Effective Temperature (K)</th>\n",
       "      <th>Star type_1</th>\n",
       "      <th>Star type_2</th>\n",
       "      <th>Star type_3</th>\n",
       "      <th>Star type_4</th>\n",
       "      <th>Star type_5</th>\n",
       "      <th>Star color_blue white</th>\n",
       "      <th>Star color_orange</th>\n",
       "      <th>Star color_red</th>\n",
       "      <th>Star color_white</th>\n",
       "      <th>Star color_yellow</th>\n",
       "      <th>Star color_yellow white</th>\n",
       "    </tr>\n",
       "  </thead>\n",
       "  <tbody>\n",
       "    <tr>\n",
       "      <th>76</th>\n",
       "      <td>-0.609433</td>\n",
       "      <td>-0.448606</td>\n",
       "      <td>0.869265</td>\n",
       "      <td>-0.799261</td>\n",
       "      <td>-0.325649</td>\n",
       "      <td>-0.692654</td>\n",
       "      <td>1.0</td>\n",
       "      <td>0.0</td>\n",
       "      <td>0.0</td>\n",
       "      <td>0.0</td>\n",
       "      <td>0.0</td>\n",
       "      <td>0.0</td>\n",
       "      <td>0.0</td>\n",
       "      <td>1.0</td>\n",
       "      <td>0.0</td>\n",
       "      <td>0.0</td>\n",
       "      <td>0.0</td>\n",
       "    </tr>\n",
       "    <tr>\n",
       "      <th>41</th>\n",
       "      <td>1.381214</td>\n",
       "      <td>-0.403534</td>\n",
       "      <td>-1.015172</td>\n",
       "      <td>1.458136</td>\n",
       "      <td>-0.330852</td>\n",
       "      <td>2.111562</td>\n",
       "      <td>0.0</td>\n",
       "      <td>0.0</td>\n",
       "      <td>0.0</td>\n",
       "      <td>1.0</td>\n",
       "      <td>0.0</td>\n",
       "      <td>0.0</td>\n",
       "      <td>0.0</td>\n",
       "      <td>1.0</td>\n",
       "      <td>0.0</td>\n",
       "      <td>0.0</td>\n",
       "      <td>0.0</td>\n",
       "    </tr>\n",
       "    <tr>\n",
       "      <th>162</th>\n",
       "      <td>2.036956</td>\n",
       "      <td>-0.284716</td>\n",
       "      <td>-0.959578</td>\n",
       "      <td>1.650456</td>\n",
       "      <td>-0.330955</td>\n",
       "      <td>0.760128</td>\n",
       "      <td>0.0</td>\n",
       "      <td>0.0</td>\n",
       "      <td>0.0</td>\n",
       "      <td>1.0</td>\n",
       "      <td>0.0</td>\n",
       "      <td>1.0</td>\n",
       "      <td>0.0</td>\n",
       "      <td>0.0</td>\n",
       "      <td>0.0</td>\n",
       "      <td>0.0</td>\n",
       "      <td>0.0</td>\n",
       "    </tr>\n",
       "    <tr>\n",
       "      <th>146</th>\n",
       "      <td>-0.609433</td>\n",
       "      <td>-0.449063</td>\n",
       "      <td>0.808879</td>\n",
       "      <td>-0.803502</td>\n",
       "      <td>1.860436</td>\n",
       "      <td>0.039724</td>\n",
       "      <td>0.0</td>\n",
       "      <td>1.0</td>\n",
       "      <td>0.0</td>\n",
       "      <td>0.0</td>\n",
       "      <td>0.0</td>\n",
       "      <td>1.0</td>\n",
       "      <td>0.0</td>\n",
       "      <td>0.0</td>\n",
       "      <td>0.0</td>\n",
       "      <td>0.0</td>\n",
       "      <td>0.0</td>\n",
       "    </tr>\n",
       "    <tr>\n",
       "      <th>78</th>\n",
       "      <td>-0.609433</td>\n",
       "      <td>-0.448887</td>\n",
       "      <td>0.806961</td>\n",
       "      <td>-0.803854</td>\n",
       "      <td>-0.311544</td>\n",
       "      <td>-0.688307</td>\n",
       "      <td>1.0</td>\n",
       "      <td>0.0</td>\n",
       "      <td>0.0</td>\n",
       "      <td>0.0</td>\n",
       "      <td>0.0</td>\n",
       "      <td>0.0</td>\n",
       "      <td>0.0</td>\n",
       "      <td>1.0</td>\n",
       "      <td>0.0</td>\n",
       "      <td>0.0</td>\n",
       "      <td>0.0</td>\n",
       "    </tr>\n",
       "  </tbody>\n",
       "</table>\n",
       "</div>"
      ],
      "text/plain": [
       "     Luminosity(L/Lo)  Radius(R/Ro)  Absolute magnitude(Mv)  Mass (kg)  \\\n",
       "76          -0.609433     -0.448606                0.869265  -0.799261   \n",
       "41           1.381214     -0.403534               -1.015172   1.458136   \n",
       "162          2.036956     -0.284716               -0.959578   1.650456   \n",
       "146         -0.609433     -0.449063                0.808879  -0.803502   \n",
       "78          -0.609433     -0.448887                0.806961  -0.803854   \n",
       "\n",
       "     Surface Gravity (m/s^2)  Effective Temperature (K)  Star type_1  \\\n",
       "76                 -0.325649                  -0.692654          1.0   \n",
       "41                 -0.330852                   2.111562          0.0   \n",
       "162                -0.330955                   0.760128          0.0   \n",
       "146                 1.860436                   0.039724          0.0   \n",
       "78                 -0.311544                  -0.688307          1.0   \n",
       "\n",
       "     Star type_2  Star type_3  Star type_4  Star type_5  \\\n",
       "76           0.0          0.0          0.0          0.0   \n",
       "41           0.0          0.0          1.0          0.0   \n",
       "162          0.0          0.0          1.0          0.0   \n",
       "146          1.0          0.0          0.0          0.0   \n",
       "78           0.0          0.0          0.0          0.0   \n",
       "\n",
       "     Star color_blue white  Star color_orange  Star color_red  \\\n",
       "76                     0.0                0.0             1.0   \n",
       "41                     0.0                0.0             1.0   \n",
       "162                    1.0                0.0             0.0   \n",
       "146                    1.0                0.0             0.0   \n",
       "78                     0.0                0.0             1.0   \n",
       "\n",
       "     Star color_white  Star color_yellow  Star color_yellow white  \n",
       "76                0.0                0.0                      0.0  \n",
       "41                0.0                0.0                      0.0  \n",
       "162               0.0                0.0                      0.0  \n",
       "146               0.0                0.0                      0.0  \n",
       "78                0.0                0.0                      0.0  "
      ]
     },
     "execution_count": 81,
     "metadata": {},
     "output_type": "execute_result"
    }
   ],
   "source": [
    "ohe_train.head()"
   ]
  },
  {
   "cell_type": "code",
   "execution_count": 82,
   "id": "208d21b0",
   "metadata": {},
   "outputs": [
    {
     "data": {
      "text/html": [
       "<div>\n",
       "<style scoped>\n",
       "    .dataframe tbody tr th:only-of-type {\n",
       "        vertical-align: middle;\n",
       "    }\n",
       "\n",
       "    .dataframe tbody tr th {\n",
       "        vertical-align: top;\n",
       "    }\n",
       "\n",
       "    .dataframe thead th {\n",
       "        text-align: right;\n",
       "    }\n",
       "</style>\n",
       "<table border=\"1\" class=\"dataframe\">\n",
       "  <thead>\n",
       "    <tr style=\"text-align: right;\">\n",
       "      <th></th>\n",
       "      <th>Luminosity(L/Lo)</th>\n",
       "      <th>Radius(R/Ro)</th>\n",
       "      <th>Absolute magnitude(Mv)</th>\n",
       "      <th>Mass (kg)</th>\n",
       "      <th>Surface Gravity (m/s^2)</th>\n",
       "      <th>Effective Temperature (K)</th>\n",
       "      <th>Star type_1</th>\n",
       "      <th>Star type_2</th>\n",
       "      <th>Star type_3</th>\n",
       "      <th>Star type_4</th>\n",
       "      <th>Star type_5</th>\n",
       "      <th>Star color_blue white</th>\n",
       "      <th>Star color_orange</th>\n",
       "      <th>Star color_red</th>\n",
       "      <th>Star color_white</th>\n",
       "      <th>Star color_yellow</th>\n",
       "      <th>Star color_yellow white</th>\n",
       "    </tr>\n",
       "  </thead>\n",
       "  <tbody>\n",
       "    <tr>\n",
       "      <th>176</th>\n",
       "      <td>0.561535</td>\n",
       "      <td>1.620344</td>\n",
       "      <td>-1.216460</td>\n",
       "      <td>1.138923</td>\n",
       "      <td>-0.330964</td>\n",
       "      <td>-0.593086</td>\n",
       "      <td>0.0</td>\n",
       "      <td>0.0</td>\n",
       "      <td>0.0</td>\n",
       "      <td>0.0</td>\n",
       "      <td>1.0</td>\n",
       "      <td>1.0</td>\n",
       "      <td>0.0</td>\n",
       "      <td>0.0</td>\n",
       "      <td>0.0</td>\n",
       "      <td>0.0</td>\n",
       "      <td>0.0</td>\n",
       "    </tr>\n",
       "    <tr>\n",
       "      <th>109</th>\n",
       "      <td>1.451472</td>\n",
       "      <td>-0.316401</td>\n",
       "      <td>-0.975873</td>\n",
       "      <td>1.480736</td>\n",
       "      <td>-0.330951</td>\n",
       "      <td>0.840197</td>\n",
       "      <td>0.0</td>\n",
       "      <td>0.0</td>\n",
       "      <td>0.0</td>\n",
       "      <td>1.0</td>\n",
       "      <td>0.0</td>\n",
       "      <td>0.0</td>\n",
       "      <td>0.0</td>\n",
       "      <td>0.0</td>\n",
       "      <td>0.0</td>\n",
       "      <td>0.0</td>\n",
       "      <td>0.0</td>\n",
       "    </tr>\n",
       "    <tr>\n",
       "      <th>15</th>\n",
       "      <td>-0.609433</td>\n",
       "      <td>-0.448606</td>\n",
       "      <td>0.831883</td>\n",
       "      <td>-0.798882</td>\n",
       "      <td>-0.325477</td>\n",
       "      <td>-0.684074</td>\n",
       "      <td>1.0</td>\n",
       "      <td>0.0</td>\n",
       "      <td>0.0</td>\n",
       "      <td>0.0</td>\n",
       "      <td>0.0</td>\n",
       "      <td>0.0</td>\n",
       "      <td>0.0</td>\n",
       "      <td>1.0</td>\n",
       "      <td>0.0</td>\n",
       "      <td>0.0</td>\n",
       "      <td>0.0</td>\n",
       "    </tr>\n",
       "    <tr>\n",
       "      <th>79</th>\n",
       "      <td>-0.609433</td>\n",
       "      <td>-0.448763</td>\n",
       "      <td>0.919108</td>\n",
       "      <td>-0.801988</td>\n",
       "      <td>-0.321893</td>\n",
       "      <td>-0.702032</td>\n",
       "      <td>1.0</td>\n",
       "      <td>0.0</td>\n",
       "      <td>0.0</td>\n",
       "      <td>0.0</td>\n",
       "      <td>0.0</td>\n",
       "      <td>0.0</td>\n",
       "      <td>0.0</td>\n",
       "      <td>1.0</td>\n",
       "      <td>0.0</td>\n",
       "      <td>0.0</td>\n",
       "      <td>0.0</td>\n",
       "    </tr>\n",
       "    <tr>\n",
       "      <th>9</th>\n",
       "      <td>-0.609433</td>\n",
       "      <td>-0.448824</td>\n",
       "      <td>1.117520</td>\n",
       "      <td>-0.805938</td>\n",
       "      <td>-0.323140</td>\n",
       "      <td>-0.798629</td>\n",
       "      <td>0.0</td>\n",
       "      <td>0.0</td>\n",
       "      <td>0.0</td>\n",
       "      <td>0.0</td>\n",
       "      <td>0.0</td>\n",
       "      <td>0.0</td>\n",
       "      <td>0.0</td>\n",
       "      <td>1.0</td>\n",
       "      <td>0.0</td>\n",
       "      <td>0.0</td>\n",
       "      <td>0.0</td>\n",
       "    </tr>\n",
       "  </tbody>\n",
       "</table>\n",
       "</div>"
      ],
      "text/plain": [
       "     Luminosity(L/Lo)  Radius(R/Ro)  Absolute magnitude(Mv)  Mass (kg)  \\\n",
       "176          0.561535      1.620344               -1.216460   1.138923   \n",
       "109          1.451472     -0.316401               -0.975873   1.480736   \n",
       "15          -0.609433     -0.448606                0.831883  -0.798882   \n",
       "79          -0.609433     -0.448763                0.919108  -0.801988   \n",
       "9           -0.609433     -0.448824                1.117520  -0.805938   \n",
       "\n",
       "     Surface Gravity (m/s^2)  Effective Temperature (K)  Star type_1  \\\n",
       "176                -0.330964                  -0.593086          0.0   \n",
       "109                -0.330951                   0.840197          0.0   \n",
       "15                 -0.325477                  -0.684074          1.0   \n",
       "79                 -0.321893                  -0.702032          1.0   \n",
       "9                  -0.323140                  -0.798629          0.0   \n",
       "\n",
       "     Star type_2  Star type_3  Star type_4  Star type_5  \\\n",
       "176          0.0          0.0          0.0          1.0   \n",
       "109          0.0          0.0          1.0          0.0   \n",
       "15           0.0          0.0          0.0          0.0   \n",
       "79           0.0          0.0          0.0          0.0   \n",
       "9            0.0          0.0          0.0          0.0   \n",
       "\n",
       "     Star color_blue white  Star color_orange  Star color_red  \\\n",
       "176                    1.0                0.0             0.0   \n",
       "109                    0.0                0.0             0.0   \n",
       "15                     0.0                0.0             1.0   \n",
       "79                     0.0                0.0             1.0   \n",
       "9                      0.0                0.0             1.0   \n",
       "\n",
       "     Star color_white  Star color_yellow  Star color_yellow white  \n",
       "176               0.0                0.0                      0.0  \n",
       "109               0.0                0.0                      0.0  \n",
       "15                0.0                0.0                      0.0  \n",
       "79                0.0                0.0                      0.0  \n",
       "9                 0.0                0.0                      0.0  "
      ]
     },
     "execution_count": 82,
     "metadata": {},
     "output_type": "execute_result"
    }
   ],
   "source": [
    "ohe_valid.head()"
   ]
  },
  {
   "cell_type": "code",
   "execution_count": 83,
   "id": "86f22b35",
   "metadata": {},
   "outputs": [
    {
     "data": {
      "text/html": [
       "<div>\n",
       "<style scoped>\n",
       "    .dataframe tbody tr th:only-of-type {\n",
       "        vertical-align: middle;\n",
       "    }\n",
       "\n",
       "    .dataframe tbody tr th {\n",
       "        vertical-align: top;\n",
       "    }\n",
       "\n",
       "    .dataframe thead th {\n",
       "        text-align: right;\n",
       "    }\n",
       "</style>\n",
       "<table border=\"1\" class=\"dataframe\">\n",
       "  <thead>\n",
       "    <tr style=\"text-align: right;\">\n",
       "      <th></th>\n",
       "      <th>Luminosity(L/Lo)</th>\n",
       "      <th>Radius(R/Ro)</th>\n",
       "      <th>Absolute magnitude(Mv)</th>\n",
       "      <th>Mass (kg)</th>\n",
       "      <th>Surface Gravity (m/s^2)</th>\n",
       "      <th>Effective Temperature (K)</th>\n",
       "      <th>Star type_1</th>\n",
       "      <th>Star type_2</th>\n",
       "      <th>Star type_3</th>\n",
       "      <th>Star type_4</th>\n",
       "      <th>Star type_5</th>\n",
       "      <th>Star color_blue white</th>\n",
       "      <th>Star color_orange</th>\n",
       "      <th>Star color_red</th>\n",
       "      <th>Star color_white</th>\n",
       "      <th>Star color_yellow</th>\n",
       "      <th>Star color_yellow white</th>\n",
       "    </tr>\n",
       "  </thead>\n",
       "  <tbody>\n",
       "    <tr>\n",
       "      <th>97</th>\n",
       "      <td>-0.609387</td>\n",
       "      <td>-0.446428</td>\n",
       "      <td>-0.187017</td>\n",
       "      <td>-0.703313</td>\n",
       "      <td>-0.329402</td>\n",
       "      <td>-0.102262</td>\n",
       "      <td>0.0</td>\n",
       "      <td>0.0</td>\n",
       "      <td>1.0</td>\n",
       "      <td>0.0</td>\n",
       "      <td>0.0</td>\n",
       "      <td>0.0</td>\n",
       "      <td>0.0</td>\n",
       "      <td>0.0</td>\n",
       "      <td>1.0</td>\n",
       "      <td>0.0</td>\n",
       "      <td>0.0</td>\n",
       "    </tr>\n",
       "    <tr>\n",
       "      <th>56</th>\n",
       "      <td>1.515875</td>\n",
       "      <td>2.863980</td>\n",
       "      <td>-1.563441</td>\n",
       "      <td>1.500973</td>\n",
       "      <td>-0.330964</td>\n",
       "      <td>-0.626471</td>\n",
       "      <td>0.0</td>\n",
       "      <td>0.0</td>\n",
       "      <td>0.0</td>\n",
       "      <td>0.0</td>\n",
       "      <td>1.0</td>\n",
       "      <td>0.0</td>\n",
       "      <td>0.0</td>\n",
       "      <td>1.0</td>\n",
       "      <td>0.0</td>\n",
       "      <td>0.0</td>\n",
       "      <td>0.0</td>\n",
       "    </tr>\n",
       "    <tr>\n",
       "      <th>124</th>\n",
       "      <td>-0.609433</td>\n",
       "      <td>-0.448866</td>\n",
       "      <td>1.220081</td>\n",
       "      <td>-0.803721</td>\n",
       "      <td>-0.314974</td>\n",
       "      <td>-0.699535</td>\n",
       "      <td>0.0</td>\n",
       "      <td>0.0</td>\n",
       "      <td>0.0</td>\n",
       "      <td>0.0</td>\n",
       "      <td>0.0</td>\n",
       "      <td>0.0</td>\n",
       "      <td>0.0</td>\n",
       "      <td>1.0</td>\n",
       "      <td>0.0</td>\n",
       "      <td>0.0</td>\n",
       "      <td>0.0</td>\n",
       "    </tr>\n",
       "    <tr>\n",
       "      <th>137</th>\n",
       "      <td>-0.609433</td>\n",
       "      <td>-0.447973</td>\n",
       "      <td>0.945946</td>\n",
       "      <td>-0.802501</td>\n",
       "      <td>-0.330257</td>\n",
       "      <td>-0.846716</td>\n",
       "      <td>1.0</td>\n",
       "      <td>0.0</td>\n",
       "      <td>0.0</td>\n",
       "      <td>0.0</td>\n",
       "      <td>0.0</td>\n",
       "      <td>0.0</td>\n",
       "      <td>0.0</td>\n",
       "      <td>1.0</td>\n",
       "      <td>0.0</td>\n",
       "      <td>0.0</td>\n",
       "      <td>0.0</td>\n",
       "    </tr>\n",
       "    <tr>\n",
       "      <th>182</th>\n",
       "      <td>-0.609433</td>\n",
       "      <td>-0.448832</td>\n",
       "      <td>1.262255</td>\n",
       "      <td>-0.805471</td>\n",
       "      <td>-0.321869</td>\n",
       "      <td>-0.779364</td>\n",
       "      <td>0.0</td>\n",
       "      <td>0.0</td>\n",
       "      <td>0.0</td>\n",
       "      <td>0.0</td>\n",
       "      <td>0.0</td>\n",
       "      <td>0.0</td>\n",
       "      <td>0.0</td>\n",
       "      <td>1.0</td>\n",
       "      <td>0.0</td>\n",
       "      <td>0.0</td>\n",
       "      <td>0.0</td>\n",
       "    </tr>\n",
       "  </tbody>\n",
       "</table>\n",
       "</div>"
      ],
      "text/plain": [
       "     Luminosity(L/Lo)  Radius(R/Ro)  Absolute magnitude(Mv)  Mass (kg)  \\\n",
       "97          -0.609387     -0.446428               -0.187017  -0.703313   \n",
       "56           1.515875      2.863980               -1.563441   1.500973   \n",
       "124         -0.609433     -0.448866                1.220081  -0.803721   \n",
       "137         -0.609433     -0.447973                0.945946  -0.802501   \n",
       "182         -0.609433     -0.448832                1.262255  -0.805471   \n",
       "\n",
       "     Surface Gravity (m/s^2)  Effective Temperature (K)  Star type_1  \\\n",
       "97                 -0.329402                  -0.102262          0.0   \n",
       "56                 -0.330964                  -0.626471          0.0   \n",
       "124                -0.314974                  -0.699535          0.0   \n",
       "137                -0.330257                  -0.846716          1.0   \n",
       "182                -0.321869                  -0.779364          0.0   \n",
       "\n",
       "     Star type_2  Star type_3  Star type_4  Star type_5  \\\n",
       "97           0.0          1.0          0.0          0.0   \n",
       "56           0.0          0.0          0.0          1.0   \n",
       "124          0.0          0.0          0.0          0.0   \n",
       "137          0.0          0.0          0.0          0.0   \n",
       "182          0.0          0.0          0.0          0.0   \n",
       "\n",
       "     Star color_blue white  Star color_orange  Star color_red  \\\n",
       "97                     0.0                0.0             0.0   \n",
       "56                     0.0                0.0             1.0   \n",
       "124                    0.0                0.0             1.0   \n",
       "137                    0.0                0.0             1.0   \n",
       "182                    0.0                0.0             1.0   \n",
       "\n",
       "     Star color_white  Star color_yellow  Star color_yellow white  \n",
       "97                1.0                0.0                      0.0  \n",
       "56                0.0                0.0                      0.0  \n",
       "124               0.0                0.0                      0.0  \n",
       "137               0.0                0.0                      0.0  \n",
       "182               0.0                0.0                      0.0  "
      ]
     },
     "execution_count": 83,
     "metadata": {},
     "output_type": "execute_result"
    }
   ],
   "source": [
    "ohe_test.head()"
   ]
  },
  {
   "cell_type": "markdown",
   "id": "62112d8c",
   "metadata": {},
   "source": [
    "Кодировку и масштабирование выполнили, осталось данные преобразовать в тензоры чтобы нейронная сеть могла их использовать."
   ]
  },
  {
   "cell_type": "code",
   "execution_count": 84,
   "id": "010073f1",
   "metadata": {},
   "outputs": [],
   "source": [
    "X_train = torch.FloatTensor(ohe_train.values)\n",
    "X_valid = torch.FloatTensor(ohe_valid.values)\n",
    "X_test = torch.FloatTensor(ohe_test.values)\n",
    "y_train = torch.FloatTensor(target_train.values)\n",
    "y_valid = torch.FloatTensor(target_valid.values)\n",
    "y_test = torch.FloatTensor(target_test.values)"
   ]
  },
  {
   "cell_type": "markdown",
   "id": "b133d37c",
   "metadata": {},
   "source": [
    "Получили 6 тензоров - 2 тренировочных, 2 валидационных и 2 тестовых. Можем приступать к созданию нейронной сети. Построим базовую нейронную сеть."
   ]
  },
  {
   "cell_type": "code",
   "execution_count": 85,
   "id": "5501df4b",
   "metadata": {},
   "outputs": [],
   "source": [
    "class Net(nn.Module):\n",
    "    def __init__(self, n_in_neurons, n_hidden_neurons_1, n_hidden_neurons_2, n_out_neurons):\n",
    "        super(Net, self).__init__()\n",
    "        self.fc1 = nn.Linear(n_in_neurons, n_hidden_neurons_1)\n",
    "        self.act1 = nn.LeakyReLU()\n",
    "        self.fc2 = nn.Linear(n_hidden_neurons_1, n_hidden_neurons_2)\n",
    "        self.act2 = nn.LeakyReLU()\n",
    "        self.fc3 = nn.Linear(n_hidden_neurons_2, n_out_neurons)\n",
    "\n",
    "    def forward(self, x):\n",
    "        out = self.fc1(x)\n",
    "        out = self.act1(out)\n",
    "        out = self.fc2(out)\n",
    "        out = self.act2(out)\n",
    "        out = self.fc3(out)\n",
    "        return out"
   ]
  },
  {
   "cell_type": "markdown",
   "id": "018f3b69",
   "metadata": {},
   "source": [
    "Создали класс нейронной сети с двумя скрытыми слоями, во всех слоях функция активации LeakyReLU. Напишем функцию для её обучения. Обучения будет происходить с ипользованием батчей."
   ]
  },
  {
   "cell_type": "code",
   "execution_count": 86,
   "id": "4226e9b4",
   "metadata": {},
   "outputs": [],
   "source": [
    "def fit_model(model, X_train, y_train, num_epochs, batch_size, learning_rate):\n",
    "    criterion = nn.MSELoss()\n",
    "    optimizer = torch.optim.Adam(model.parameters(), lr=learning_rate)\n",
    "    \n",
    "    dataset = torch.utils.data.TensorDataset(X_train, y_train)\n",
    "    dataloader = torch.utils.data.DataLoader(dataset, batch_size=batch_size, shuffle=True)\n",
    "   \n",
    "    for epoch in range(num_epochs):\n",
    "        for inputs, targets in dataloader:\n",
    "            optimizer.zero_grad()\n",
    "            outputs = model.forward(inputs)\n",
    "            loss = torch.sqrt(criterion(outputs, targets))\n",
    "            loss.backward()\n",
    "            optimizer.step()\n",
    "    \n",
    "    return model"
   ]
  },
  {
   "cell_type": "markdown",
   "id": "c2cb9630",
   "metadata": {},
   "source": [
    "Функцию написали, теперь можем задать параметры и запустить процесс обучения. Посчитаем RMSE обученной модели на валидационных данных и сделаем график на котором сравним реальные температуры с предсказанными."
   ]
  },
  {
   "cell_type": "code",
   "execution_count": 87,
   "id": "c8971f02",
   "metadata": {},
   "outputs": [
    {
     "name": "stderr",
     "output_type": "stream",
     "text": [
      "C:\\Users\\Sasha\\anaconda3\\envs\\ds_practicum_env\\lib\\site-packages\\torch\\nn\\modules\\loss.py:520: UserWarning: Using a target size (torch.Size([1])) that is different to the input size (torch.Size([1, 1])). This will likely lead to incorrect results due to broadcasting. Please ensure they have the same size.\n",
      "  return F.mse_loss(input, target, reduction=self.reduction)\n"
     ]
    },
    {
     "name": "stdout",
     "output_type": "stream",
     "text": [
      "RMSE on valid data: 3832.8210\n"
     ]
    }
   ],
   "source": [
    "n_in_neurons = X_train.shape[1]\n",
    "n_hidden_neurons_1 = 64\n",
    "n_hidden_neurons_2 = 32\n",
    "n_out_neurons = 1\n",
    "num_epochs = 500\n",
    "batch_size = 1\n",
    "learning_rate = 0.001\n",
    "\n",
    "model = Net(n_in_neurons, n_hidden_neurons_1, n_hidden_neurons_2, n_out_neurons)\n",
    "fit_model(model, X_train, y_train, num_epochs, batch_size, learning_rate)\n",
    "\n",
    "with torch.no_grad():\n",
    "        model.eval()\n",
    "        valid_predictions = model(X_valid)\n",
    "    \n",
    "train_rmse = np.sqrt(mean_squared_error(y_valid, valid_predictions))\n",
    "print(f'RMSE on valid data: {train_rmse:.4f}')"
   ]
  },
  {
   "cell_type": "code",
   "execution_count": 88,
   "id": "c3d7075f",
   "metadata": {},
   "outputs": [
    {
     "name": "stderr",
     "output_type": "stream",
     "text": [
      "C:\\Users\\Sasha\\anaconda3\\envs\\ds_practicum_env\\lib\\site-packages\\numpy\\lib\\stride_tricks.py:536: FutureWarning: The input object of type 'Tensor' is an array-like implementing one of the corresponding protocols (`__array__`, `__array_interface__` or `__array_struct__`); but not a sequence (or 0-D). In the future, this object will be coerced as if it was first converted using `np.array(obj)`. To retain the old behaviour, you have to either modify the type 'Tensor', or assign to an empty array created with `np.empty(correct_shape, dtype=object)`.\n",
      "  args = [np.array(_m, copy=False, subok=subok) for _m in args]\n",
      "C:\\Users\\Sasha\\anaconda3\\envs\\ds_practicum_env\\lib\\site-packages\\numpy\\lib\\stride_tricks.py:536: VisibleDeprecationWarning: Creating an ndarray from ragged nested sequences (which is a list-or-tuple of lists-or-tuples-or ndarrays with different lengths or shapes) is deprecated. If you meant to do this, you must specify 'dtype=object' when creating the ndarray.\n",
      "  args = [np.array(_m, copy=False, subok=subok) for _m in args]\n",
      "C:\\Users\\Sasha\\anaconda3\\envs\\ds_practicum_env\\lib\\site-packages\\numpy\\core\\_asarray.py:102: VisibleDeprecationWarning: Creating an ndarray from ragged nested sequences (which is a list-or-tuple of lists-or-tuples-or ndarrays with different lengths or shapes) is deprecated. If you meant to do this, you must specify 'dtype=object' when creating the ndarray.\n",
      "  return array(a, dtype, copy=False, order=order)\n"
     ]
    },
    {
     "data": {
      "image/png": "[encoded data removed]",
      "text/plain": [
       "<Figure size 1440x720 with 1 Axes>"
      ]
     },
     "metadata": {
      "needs_background": "light"
     },
     "output_type": "display_data"
    }
   ],
   "source": [
    "x_indices = np.arange(len(y_valid))\n",
    "plt.figure(figsize=(20, 10))\n",
    "plt.bar(x_indices, y_valid, width=0.8, align='center', label='Реальная температура', alpha=0.7)\n",
    "plt.bar(x_indices, valid_predictions, width=0.5, align='center', label='Предсказанная температура', alpha=0.7)\n",
    "plt.xlabel('Индекс Звезды')\n",
    "plt.ylabel('Температура (K)')\n",
    "plt.title('Сравнение температур')\n",
    "plt.legend()\n",
    "plt.show()"
   ]
  },
  {
   "cell_type": "markdown",
   "id": "6f1f4398",
   "metadata": {},
   "source": [
    "Обучили модель, проверили её на валидационных данных и построили график. По графику видим что модель хорошо справляется с предсказаниями температур до 5000 (К), а с очень высокими значениями такими как 30000+ (К) значительно хуже. Большинство значений в валидационной выборке имеют значения меньше 5000 (К).\n",
    "\n",
    "Построим ещё одну модель в которую добавим dropout и подбор количества слоёв через изменения значения параметра, а не добавкой вручную в классе."
   ]
  },
  {
   "cell_type": "code",
   "execution_count": 89,
   "id": "51ae154a",
   "metadata": {},
   "outputs": [],
   "source": [
    "class NeuralNetwork(nn.Module):\n",
    "    def __init__(self, input_size, hidden_size, num_hidden_layers, output_size, dropout_prob):\n",
    "        super(NeuralNetwork, self).__init__()\n",
    "        layers = []\n",
    "        layers.append(nn.Linear(input_size, hidden_size))\n",
    "        for _ in range(num_hidden_layers - 1):\n",
    "            layers.append(nn.Linear(hidden_size, hidden_size))\n",
    "            layers.append(nn.Dropout(dropout_prob))\n",
    "        layers.append(nn.Linear(hidden_size, output_size))\n",
    "        \n",
    "        self.model = nn.Sequential(*layers)\n",
    "        \n",
    "    def forward(self, x):\n",
    "        return self.model(x)"
   ]
  },
  {
   "cell_type": "code",
   "execution_count": 90,
   "id": "c565e813",
   "metadata": {},
   "outputs": [],
   "source": [
    "def train_model(model, X_train, y_train, batch_size, num_epochs, learning_rate):\n",
    "    criterion = nn.MSELoss()\n",
    "    optimizer = optim.Adam(model.parameters(), lr=learning_rate)\n",
    "    \n",
    "    for epoch in range(num_epochs):\n",
    "        for i in range(0, len(X_train), batch_size):\n",
    "            batch_X = X_train[i:i+batch_size]\n",
    "            batch_y = y_train[i:i+batch_size]\n",
    "            \n",
    "            optimizer.zero_grad()\n",
    "            outputs = model.forward(batch_X)\n",
    "            loss = torch.sqrt(criterion(outputs, batch_y.unsqueeze(1)))\n",
    "            loss.backward()\n",
    "            optimizer.step()"
   ]
  },
  {
   "cell_type": "code",
   "execution_count": 91,
   "id": "3e8e4909",
   "metadata": {},
   "outputs": [
    {
     "name": "stdout",
     "output_type": "stream",
     "text": [
      "RMSE on valid data: 3130.0830\n"
     ]
    }
   ],
   "source": [
    "input_size = X_train.shape[1]\n",
    "hidden_size = 64\n",
    "num_hidden_layers = 3\n",
    "output_size = 1\n",
    "dropout_prob = 0.6\n",
    "batch_size = 3\n",
    "num_epochs = 2000\n",
    "learning_rate = 0.001\n",
    "\n",
    "model = NeuralNetwork(input_size, hidden_size, num_hidden_layers, output_size, dropout_prob)\n",
    "train_model(model, X_train, y_train, batch_size, num_epochs, learning_rate)\n",
    "\n",
    "with torch.no_grad():\n",
    "        model.eval()\n",
    "        valid_predictions = model(X_valid)\n",
    "    \n",
    "valid_rmse = np.sqrt(mean_squared_error(y_valid, valid_predictions))\n",
    "print(f'RMSE on valid data: {valid_rmse:.4f}')"
   ]
  },
  {
   "cell_type": "code",
   "execution_count": 92,
   "id": "5e1bc2ad",
   "metadata": {},
   "outputs": [
    {
     "name": "stderr",
     "output_type": "stream",
     "text": [
      "C:\\Users\\Sasha\\anaconda3\\envs\\ds_practicum_env\\lib\\site-packages\\numpy\\lib\\stride_tricks.py:536: FutureWarning: The input object of type 'Tensor' is an array-like implementing one of the corresponding protocols (`__array__`, `__array_interface__` or `__array_struct__`); but not a sequence (or 0-D). In the future, this object will be coerced as if it was first converted using `np.array(obj)`. To retain the old behaviour, you have to either modify the type 'Tensor', or assign to an empty array created with `np.empty(correct_shape, dtype=object)`.\n",
      "  args = [np.array(_m, copy=False, subok=subok) for _m in args]\n",
      "C:\\Users\\Sasha\\anaconda3\\envs\\ds_practicum_env\\lib\\site-packages\\numpy\\lib\\stride_tricks.py:536: VisibleDeprecationWarning: Creating an ndarray from ragged nested sequences (which is a list-or-tuple of lists-or-tuples-or ndarrays with different lengths or shapes) is deprecated. If you meant to do this, you must specify 'dtype=object' when creating the ndarray.\n",
      "  args = [np.array(_m, copy=False, subok=subok) for _m in args]\n",
      "C:\\Users\\Sasha\\anaconda3\\envs\\ds_practicum_env\\lib\\site-packages\\numpy\\core\\_asarray.py:102: VisibleDeprecationWarning: Creating an ndarray from ragged nested sequences (which is a list-or-tuple of lists-or-tuples-or ndarrays with different lengths or shapes) is deprecated. If you meant to do this, you must specify 'dtype=object' when creating the ndarray.\n",
      "  return array(a, dtype, copy=False, order=order)\n"
     ]
    },
    {
     "data": {
      "image/png": "[encoded data removed]",
      "text/plain": [
       "<Figure size 1440x720 with 1 Axes>"
      ]
     },
     "metadata": {
      "needs_background": "light"
     },
     "output_type": "display_data"
    }
   ],
   "source": [
    "x_indices = np.arange(len(y_valid))\n",
    "plt.figure(figsize=(20, 10))\n",
    "plt.bar(x_indices, y_valid, width=0.8, align='center', label='Реальная температура', alpha=0.7)\n",
    "plt.bar(x_indices, valid_predictions, width=0.5, align='center', label='Предсказанная температура', alpha=0.7)\n",
    "plt.xlabel('Индекс Звезды')\n",
    "plt.ylabel('Температура (K)')\n",
    "plt.title('Сравнение температур')\n",
    "plt.legend()\n",
    "plt.show()"
   ]
  },
  {
   "cell_type": "markdown",
   "id": "9503fc9c",
   "metadata": {},
   "source": [
    "Модель построили, обучили и посмотрели как она справляется с валидационными данными. По графику видим что как и первая модель, хорошо получается делать предсказания на значениях меньше 5000 (К). В отличии от первой модели, предсказания очень больших значений улучшились, но немногот ухудшились в диапазоне 20000-30000 (К)."
   ]
  },
  {
   "cell_type": "markdown",
   "id": "dec98b6e",
   "metadata": {},
   "source": [
    "<a id='nn_conclusion'></a>\n",
    "### Выводы по базовой нейронной сети \n",
    "\n",
    "Создали две базовые модели нейронной сети.\n",
    "\n",
    "- В первой мы слои вручную прописали в класс, а так же функцию активации для каждого слоя. Прописали два скрытых слоя. В качестве функции активации выбрали LeakyReLU на всех слоях. Написали функцию для обучения этой модели. Использовали оптимизатор Adam.  Провели оценку качества обученной модели (на валидационных данных) по RMSE и построили график на котором можно увидеть реальные температуре в сравнении с теми что предсказала модель.\n",
    "- Вторая модель отличается тем что количество слоёв мы можем менять изменяя переменную вместо того чтобы вручную в классе их прописывать, так же использовали контейнер Sequential. Другое изменении в том что добавили dropout в качестве функции активации используем Linear. В остальном всё так же: оптимизатор Adam, метрика RMSE, оценка модели по валидационной выборке и постороение графика.\n",
    "\n",
    "Вторая модель показала себя лучше чем первая."
   ]
  },
  {
   "cell_type": "markdown",
   "id": "growing-supply",
   "metadata": {},
   "source": [
    "<a id='imp_nn'></a>\n",
    "## Улучшение нейронной сети"
   ]
  },
  {
   "cell_type": "markdown",
   "id": "38255cee",
   "metadata": {},
   "source": [
    "Сделаем перебор гиперпараметров для определения лучшей модели которую в последствии используем на тестовой выборке."
   ]
  },
  {
   "cell_type": "code",
   "execution_count": 93,
   "id": "d435c883",
   "metadata": {
    "code_folding": []
   },
   "outputs": [
    {
     "name": "stdout",
     "output_type": "stream",
     "text": [
      "Best Parameters:\n",
      "{'n_hidden_neurons_1': 32, 'n_hidden_neurons_2': 32, 'batch_size': 1, 'epochs': 1000}\n",
      "Best RMSE on validation data: 3029.932\n",
      "CPU times: total: 18min 34s\n",
      "Wall time: 4min 29s\n"
     ]
    }
   ],
   "source": [
    "%%time\n",
    "\n",
    "with warnings.catch_warnings():\n",
    "    warnings.filterwarnings(\"ignore\", category=UserWarning)\n",
    "\n",
    "    n_in_neurons = X_train.shape[1]\n",
    "    n_hidden_neurons_1 = [32, 64]\n",
    "    n_hidden_neurons_2 = [32]\n",
    "    n_out_neurons = 1\n",
    "    batch_sizes = [1, 3]\n",
    "    num_epochs = [500, 1000]\n",
    "    learning_rate = 0.001\n",
    "\n",
    "\n",
    "    best_rmse = float(\"inf\")\n",
    "    best_params = {}\n",
    "    best_model_1 = None\n",
    "\n",
    "\n",
    "    for (n_hidden_neurons_1, n_hidden_neurons_2, batch_size, num_epochs) in itertools.product(\n",
    "        n_hidden_neurons_1, n_hidden_neurons_2, batch_sizes, num_epochs):\n",
    "\n",
    "        model = Net(n_in_neurons, n_hidden_neurons_1, n_hidden_neurons_2, n_out_neurons)\n",
    "\n",
    "        fit_model(model, X_train, y_train, num_epochs, batch_size, learning_rate)\n",
    "\n",
    "        with torch.no_grad():\n",
    "            model.eval()\n",
    "            valid_predictions = model(X_valid)\n",
    "\n",
    "        valid_rmse = np.sqrt(mean_squared_error(y_valid, valid_predictions.cpu().numpy()))\n",
    "\n",
    "        if valid_rmse < best_rmse:\n",
    "            best_rmse = valid_rmse\n",
    "            best_params = {\n",
    "                \"n_hidden_neurons_1\": n_hidden_neurons_1,\n",
    "                \"n_hidden_neurons_2\": n_hidden_neurons_2,\n",
    "                \"batch_size\": batch_size,\n",
    "                \"epochs\": num_epochs,\n",
    "            }\n",
    "            best_model_1 = model\n",
    "\n",
    "        \n",
    "print(\"Best Parameters:\")\n",
    "print(best_params)\n",
    "print(\"Best RMSE on validation data:\", best_rmse)"
   ]
  },
  {
   "cell_type": "code",
   "execution_count": 94,
   "id": "94e09109",
   "metadata": {},
   "outputs": [
    {
     "name": "stdout",
     "output_type": "stream",
     "text": [
      "Best Parameters:\n",
      "{'hidden_size': 64, 'dropout': 0.6, 'batch_size': 3, 'epochs': 1500}\n",
      "Best RMSE on validation data: 2790.0457\n",
      "CPU times: total: 2h 15min 5s\n",
      "Wall time: 11min 16s\n"
     ]
    }
   ],
   "source": [
    "%%time\n",
    "\n",
    "\n",
    "input_size = X_train.shape[1]\n",
    "hidden_sizes = [32, 64]\n",
    "num_layers = 3\n",
    "output_size = 1\n",
    "dropout_values = [0.6, 0.8]\n",
    "batch_sizes = [3, 5]\n",
    "num_epochs = [1500, 2000]\n",
    "learning_rate = 0.001\n",
    "\n",
    "\n",
    "best_rmse = float(\"inf\")\n",
    "best_params = {}\n",
    "best_model_2 = None\n",
    "\n",
    "\n",
    "for (hidden_size, dropout, batch_size, epochs) in itertools.product(\n",
    "    hidden_sizes, dropout_values, batch_sizes, num_epochs\n",
    "):\n",
    "\n",
    "    model = NeuralNetwork(input_size, hidden_size, num_layers, output_size, dropout)\n",
    "\n",
    "    train_model(model, X_train, y_train, batch_size, epochs, learning_rate)\n",
    "\n",
    "    with torch.no_grad():\n",
    "        model.eval()\n",
    "        valid_predictions = model(X_valid)\n",
    "\n",
    "    valid_rmse = np.sqrt(mean_squared_error(y_valid, valid_predictions.cpu().numpy()))\n",
    "\n",
    "    if valid_rmse < best_rmse:\n",
    "        best_rmse = valid_rmse\n",
    "        best_params = {\n",
    "            \"hidden_size\": hidden_size,\n",
    "            \"dropout\": dropout,\n",
    "            \"batch_size\": batch_size,\n",
    "            \"epochs\": epochs,\n",
    "        }\n",
    "        best_model_2 = model\n",
    "\n",
    "\n",
    "print(\"Best Parameters:\")\n",
    "print(best_params)\n",
    "print(\"Best RMSE on validation data:\", best_rmse)"
   ]
  },
  {
   "cell_type": "markdown",
   "id": "22951ad7",
   "metadata": {},
   "source": [
    "Перебрали различные варианты параметров для обоих моделей. Вторая модель показала себя лучше на валидационной выборке, будем использовать её. Посмотрим на RMSE на тестовой выборке."
   ]
  },
  {
   "cell_type": "code",
   "execution_count": 95,
   "id": "f3d874e5",
   "metadata": {},
   "outputs": [],
   "source": [
    "def evaluate_model(model, X_test, y_test):\n",
    "    with torch.no_grad():\n",
    "        model.eval()\n",
    "        predictions = model(X_test)\n",
    "    \n",
    "    rmse = np.sqrt(mean_squared_error(y_test, predictions.cpu().numpy()))\n",
    "    print(f'RMSE on test data: {rmse:.2f}')\n",
    "    \n",
    "    \n",
    "    x_indices = np.arange(len(y_test))\n",
    "    plt.figure(figsize=(15, 8))\n",
    "    plt.bar(x_indices, y_test, width=0.8, align='center', label='Реальная температура', alpha=0.7)\n",
    "    plt.bar(x_indices, predictions, width=0.5, align='center', label='Предсказанная температура', alpha=0.7)\n",
    "    plt.xlabel('Индекс Звезды')\n",
    "    plt.ylabel('Температура (K)')\n",
    "    plt.title('Сравнение температур')\n",
    "    plt.legend()\n",
    "    plt.show()\n"
   ]
  },
  {
   "cell_type": "code",
   "execution_count": 96,
   "id": "eaadc215",
   "metadata": {},
   "outputs": [
    {
     "name": "stdout",
     "output_type": "stream",
     "text": [
      "RMSE on test data: 3992.93\n"
     ]
    },
    {
     "name": "stderr",
     "output_type": "stream",
     "text": [
      "C:\\Users\\Sasha\\anaconda3\\envs\\ds_practicum_env\\lib\\site-packages\\numpy\\lib\\stride_tricks.py:536: FutureWarning: The input object of type 'Tensor' is an array-like implementing one of the corresponding protocols (`__array__`, `__array_interface__` or `__array_struct__`); but not a sequence (or 0-D). In the future, this object will be coerced as if it was first converted using `np.array(obj)`. To retain the old behaviour, you have to either modify the type 'Tensor', or assign to an empty array created with `np.empty(correct_shape, dtype=object)`.\n",
      "  args = [np.array(_m, copy=False, subok=subok) for _m in args]\n",
      "C:\\Users\\Sasha\\anaconda3\\envs\\ds_practicum_env\\lib\\site-packages\\numpy\\lib\\stride_tricks.py:536: VisibleDeprecationWarning: Creating an ndarray from ragged nested sequences (which is a list-or-tuple of lists-or-tuples-or ndarrays with different lengths or shapes) is deprecated. If you meant to do this, you must specify 'dtype=object' when creating the ndarray.\n",
      "  args = [np.array(_m, copy=False, subok=subok) for _m in args]\n",
      "C:\\Users\\Sasha\\anaconda3\\envs\\ds_practicum_env\\lib\\site-packages\\numpy\\core\\_asarray.py:102: VisibleDeprecationWarning: Creating an ndarray from ragged nested sequences (which is a list-or-tuple of lists-or-tuples-or ndarrays with different lengths or shapes) is deprecated. If you meant to do this, you must specify 'dtype=object' when creating the ndarray.\n",
      "  return array(a, dtype, copy=False, order=order)\n"
     ]
    },
    {
     "data": {
      "image/png": "[encoded data removed]",
      "text/plain": [
       "<Figure size 1080x576 with 1 Axes>"
      ]
     },
     "metadata": {
      "needs_background": "light"
     },
     "output_type": "display_data"
    }
   ],
   "source": [
    "evaluate_model(best_model_2, X_test, y_test)"
   ]
  },
  {
   "cell_type": "markdown",
   "id": "e9bbf4b1",
   "metadata": {},
   "source": [
    "Получили RMSE примерно 3992.9 на тестовой выборке. На графике видим различия с валидационной выборкой, в тестовой данных более разнообразные. Но общая тенденция сохранилась, в диапазоне 20000-30000 (К) модель не очень удачно делает предсказания, с остальными значениями справляется лучше."
   ]
  },
  {
   "cell_type": "code",
   "execution_count": 98,
   "id": "4950d733",
   "metadata": {},
   "outputs": [
    {
     "data": {
      "text/html": [
       "<div>\n",
       "<style scoped>\n",
       "    .dataframe tbody tr th:only-of-type {\n",
       "        vertical-align: middle;\n",
       "    }\n",
       "\n",
       "    .dataframe tbody tr th {\n",
       "        vertical-align: top;\n",
       "    }\n",
       "\n",
       "    .dataframe thead th {\n",
       "        text-align: right;\n",
       "    }\n",
       "</style>\n",
       "<table border=\"1\" class=\"dataframe\">\n",
       "  <thead>\n",
       "    <tr style=\"text-align: right;\">\n",
       "      <th></th>\n",
       "      <th>Модель</th>\n",
       "      <th>RMSE на Baseline</th>\n",
       "      <th>RMSE на валидационных данных</th>\n",
       "      <th>RMSE на тестовых данных</th>\n",
       "    </tr>\n",
       "  </thead>\n",
       "  <tbody>\n",
       "    <tr>\n",
       "      <th>0</th>\n",
       "      <td>Первая модель</td>\n",
       "      <td>3832.8</td>\n",
       "      <td>3029.9</td>\n",
       "      <td>-</td>\n",
       "    </tr>\n",
       "    <tr>\n",
       "      <th>1</th>\n",
       "      <td>Вторая модель</td>\n",
       "      <td>3130.1</td>\n",
       "      <td>2790.0</td>\n",
       "      <td>3992.9</td>\n",
       "    </tr>\n",
       "  </tbody>\n",
       "</table>\n",
       "</div>"
      ],
      "text/plain": [
       "          Модель  RMSE на Baseline  RMSE на валидационных данных  \\\n",
       "0  Первая модель            3832.8                        3029.9   \n",
       "1  Вторая модель            3130.1                        2790.0   \n",
       "\n",
       "  RMSE на тестовых данных  \n",
       "0                       -  \n",
       "1                  3992.9  "
      ]
     },
     "metadata": {},
     "output_type": "display_data"
    }
   ],
   "source": [
    "data = [\n",
    "    [\"Первая модель\", 3832.8, 3029.9, \"-\"],\n",
    "    [\"Вторая модель\", 3130.1, 2790, 3992.9]\n",
    "]\n",
    "\n",
    "headers = [\"Модель\", \"RMSE на Baseline\", \"RMSE на валидационных данных\", \"RMSE на тестовых данных\"]\n",
    "\n",
    "df = pd.DataFrame(data, columns=headers)\n",
    "\n",
    "display(df)"
   ]
  },
  {
   "cell_type": "markdown",
   "id": "accurate-infrastructure",
   "metadata": {},
   "source": [
    "<a id='conclusion'></a>\n",
    "## Выводы\n",
    "\n",
    "- Первая модель:\n",
    " - RMSE на валидационных данных: 3029.9.\n",
    " - Решение включает перебор параметров сети с фиксированной архитектурой.\n",
    " - В качестве функции активации использована \"Leaky ReLU\".\n",
    " - Количество скрытых слоев: 2.\n",
    " - Архитектура сети: 64 нейрона в первом скрытом слое, 32 нейрона во втором скрытом слое и 1 выходной нейрон.\n",
    "\n",
    "\n",
    "- Вторая модель:\n",
    " - RMSE на валидационных данных: 2790.\n",
    " - Решение включает перебор параметров сети с вариативной архитектурой и параметрами.\n",
    " - В качестве функции активации использованы линейные слои с дропаутом.\n",
    " - Количество скрытых слоев: 3.\n",
    " - Архитектура сети: 64 нейрона в скрытых слоях, 1 выходной нейрон.\n",
    " \n",
    " Для обоих моделей использовали оптимизатор Adam. Обе модели показали хорошие результаты в снижении ошибки на валидационных данных. Вторая модель показала более низкий RMSE как на валидационных данных (2790 против 3029.9). Вторая модель также имеет преимущество в архитектурной гибкости благодаря параметризированной архитектуре и использованию дропаута. Это позволяет ей лучше адаптироваться к разнообразным данным и предотвращать переобучение. Также использование линейной функции активации во второй модели для имеющихся данных было лучшим выбором. Получили RMSE на тестовых данных используя вторую модель 3992.9. Можем порекомендовать использовать вторую модель для предсказания температуры звезд."
   ]
  }
 ],
 "metadata": {
  "kernelspec": {
   "display_name": "Python 3 (ipykernel)",
   "language": "python",
   "name": "python3"
  },
  "language_info": {
   "codemirror_mode": {
    "name": "ipython",
    "version": 3
   },
   "file_extension": ".py",
   "mimetype": "text/x-python",
   "name": "python",
   "nbconvert_exporter": "python",
   "pygments_lexer": "ipython3",
   "version": "3.9.18"
  },
  "toc": {
   "base_numbering": 1,
   "nav_menu": {},
   "number_sections": false,
   "sideBar": true,
   "skip_h1_title": false,
   "title_cell": "Table of Contents",
   "title_sidebar": "Contents",
   "toc_cell": false,
   "toc_position": {},
   "toc_section_display": true,
   "toc_window_display": true
  },
  "varInspector": {
   "cols": {
    "lenName": 16,
    "lenType": 16,
    "lenVar": 40
   },
   "kernels_config": {
    "python": {
     "delete_cmd_postfix": "",
     "delete_cmd_prefix": "del ",
     "library": "var_list.py",
     "varRefreshCmd": "print(var_dic_list())"
    },
    "r": {
     "delete_cmd_postfix": ") ",
     "delete_cmd_prefix": "rm(",
     "library": "var_list.r",
     "varRefreshCmd": "cat(var_dic_list()) "
    }
   },
   "types_to_exclude": [
    "module",
    "function",
    "builtin_function_or_method",
    "instance",
    "_Feature"
   ],
   "window_display": false
  }
 },
 "nbformat": 4,
 "nbformat_minor": 5
}
